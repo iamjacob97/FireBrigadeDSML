{
 "cells": [
  {
   "cell_type": "markdown",
   "metadata": {},
   "source": [
    "Basic Imports"
   ]
  },
  {
   "cell_type": "code",
   "execution_count": 4,
   "metadata": {},
   "outputs": [],
   "source": [
    "import numpy as np\n",
    "import pandas as pd\n",
    "import matplotlib.pyplot as plt\n",
    "%matplotlib inline"
   ]
  },
  {
   "cell_type": "markdown",
   "metadata": {},
   "source": [
    "Descriptive Statistics"
   ]
  },
  {
   "cell_type": "code",
   "execution_count": 2,
   "metadata": {},
   "outputs": [
    {
     "name": "stdout",
     "output_type": "stream",
     "text": [
      "           address_qualifier borough_code    borough_name  cal_year  \\\n",
      "0       Within same building    E09000007          CAMDEN      2017   \n",
      "1       Within same building    E09000025          NEWHAM      2017   \n",
      "2  Correct incident location    E09000031  WALTHAM FOREST      2017   \n",
      "3       Within same building    E09000009          EALING      2017   \n",
      "4  Correct incident location    E09000032      WANDSWORTH      2017   \n",
      "\n",
      "  date_of_call  easting_m  easting_rounded  \\\n",
      "0   2017-01-20   529459.0           529450   \n",
      "1   2017-04-21        NaN           539650   \n",
      "2   2017-01-20   536990.0           536950   \n",
      "3   2017-03-07   516686.0           516650   \n",
      "4   2017-02-04   524266.0           524250   \n",
      "\n",
      "   first_pump_arriving_attendance_time  \\\n",
      "0                                359.0   \n",
      "1                                211.0   \n",
      "2                                  NaN   \n",
      "3                                295.0   \n",
      "4                                533.0   \n",
      "\n",
      "  first_pump_arriving_deployed_from_station     frs  ...  \\\n",
      "0                                    Euston  London  ...   \n",
      "1                                 Stratford  London  ...   \n",
      "2                                       NaN  London  ...   \n",
      "3                                    Ealing  London  ...   \n",
      "4                                 Battersea  London  ...   \n",
      "\n",
      "                                       property_type  \\\n",
      "0                               Purpose built office   \n",
      "1  Purpose Built Flats/Maisonettes - Up to 3 storeys   \n",
      "2                            Local Government Office   \n",
      "3                               Underground car park   \n",
      "4                                   Pub/wine bar/bar   \n",
      "\n",
      "  second_pump_arriving_attendance_time  \\\n",
      "0                                  NaN   \n",
      "1                                  NaN   \n",
      "2                                  NaN   \n",
      "3                                660.0   \n",
      "4                                  NaN   \n",
      "\n",
      "  second_pump_arriving_deployed_from_station             special_service_type  \\\n",
      "0                                        NaN                              NaN   \n",
      "1                                        NaN      No action (not false alarm)   \n",
      "2                                        NaN                     Lift Release   \n",
      "3                                   Southall     Hazardous Materials incident   \n",
      "4                                        NaN  Medical Incident - Co-responder   \n",
      "\n",
      "   stop_code_description  time_of_call    timestamp_of_call  ward_code  \\\n",
      "0                    AFA      08:57:38  2017-01-20 08:57:38  E05000129   \n",
      "1        Special Service      17:42:29  2017-04-21 17:42:29  E05000494   \n",
      "2        Special Service      18:21:32  2017-01-20 18:21:32  E05000608   \n",
      "3        Special Service      11:27:50  2017-03-07 11:27:50  E05000192   \n",
      "4        Special Service      17:31:10  2017-02-04 17:31:10  E05000625   \n",
      "\n",
      "        ward_name   ward_name_new  \n",
      "0      BLOOMSBURY      BLOOMSBURY  \n",
      "1        WEST HAM        WEST HAM  \n",
      "2  WILLIAM MORRIS  WILLIAM MORRIS  \n",
      "3         WALPOLE         WALPOLE  \n",
      "4     THAMESFIELD     THAMESFIELD  \n",
      "\n",
      "[5 rows x 32 columns]\n"
     ]
    }
   ],
   "source": [
    "df = pd.read_csv(\"london_fire_brigade_service_calls.csv\")\n",
    "print(df.head())"
   ]
  },
  {
   "cell_type": "code",
   "execution_count": 3,
   "metadata": {},
   "outputs": [
    {
     "name": "stdout",
     "output_type": "stream",
     "text": [
      "Dataset Info:\n",
      "<class 'pandas.core.frame.DataFrame'>\n",
      "RangeIndex: 32247 entries, 0 to 32246\n",
      "Data columns (total 32 columns):\n",
      " #   Column                                      Non-Null Count  Dtype  \n",
      "---  ------                                      --------------  -----  \n",
      " 0   address_qualifier                           32247 non-null  object \n",
      " 1   borough_code                                32247 non-null  object \n",
      " 2   borough_name                                32247 non-null  object \n",
      " 3   cal_year                                    32247 non-null  int64  \n",
      " 4   date_of_call                                32247 non-null  object \n",
      " 5   easting_m                                   16836 non-null  float64\n",
      " 6   easting_rounded                             32247 non-null  int64  \n",
      " 7   first_pump_arriving_attendance_time         30428 non-null  float64\n",
      " 8   first_pump_arriving_deployed_from_station   30428 non-null  object \n",
      " 9   frs                                         32247 non-null  object \n",
      " 10  hour_of_call                                32247 non-null  int64  \n",
      " 11  incident_group                              32247 non-null  object \n",
      " 12  incident_number                             32247 non-null  object \n",
      " 13  incident_station_ground                     32247 non-null  object \n",
      " 14  northing_m                                  16836 non-null  float64\n",
      " 15  northing_rounded                            32247 non-null  int64  \n",
      " 16  num_pumps_attending                         32179 non-null  float64\n",
      " 17  num_stations_with_pumps_attending           32179 non-null  float64\n",
      " 18  postcode_district                           32247 non-null  object \n",
      " 19  postcode_full                               16836 non-null  object \n",
      " 20  proper_case                                 32247 non-null  object \n",
      " 21  property_category                           32247 non-null  object \n",
      " 22  property_type                               32247 non-null  object \n",
      " 23  second_pump_arriving_attendance_time        11966 non-null  float64\n",
      " 24  second_pump_arriving_deployed_from_station  11966 non-null  object \n",
      " 25  special_service_type                        10081 non-null  object \n",
      " 26  stop_code_description                       32247 non-null  object \n",
      " 27  time_of_call                                32247 non-null  object \n",
      " 28  timestamp_of_call                           32247 non-null  object \n",
      " 29  ward_code                                   32247 non-null  object \n",
      " 30  ward_name                                   32247 non-null  object \n",
      " 31  ward_name_new                               32247 non-null  object \n",
      "dtypes: float64(6), int64(4), object(22)\n",
      "memory usage: 7.9+ MB\n",
      "None\n"
     ]
    }
   ],
   "source": [
    "print(\"Dataset Info:\")\n",
    "print(df.info())"
   ]
  },
  {
   "cell_type": "code",
   "execution_count": 4,
   "metadata": {},
   "outputs": [
    {
     "name": "stdout",
     "output_type": "stream",
     "text": [
      "       cal_year      easting_m  easting_rounded  \\\n",
      "count   32247.0   16836.000000     32247.000000   \n",
      "mean     2017.0  530667.828582    530641.174373   \n",
      "std         0.0   10436.093085      9855.434367   \n",
      "min      2017.0  493654.000000    492450.000000   \n",
      "25%      2017.0  525061.000000    525150.000000   \n",
      "50%      2017.0  530716.000000    530850.000000   \n",
      "75%      2017.0  536994.500000    536450.000000   \n",
      "max      2017.0  560804.000000    563150.000000   \n",
      "\n",
      "       first_pump_arriving_attendance_time  hour_of_call     northing_m  \\\n",
      "count                         30428.000000  32247.000000   16836.000000   \n",
      "mean                            318.230380     13.465222  180366.958363   \n",
      "std                             136.384571      6.152739    7534.304839   \n",
      "min                               2.000000      0.000000  152868.000000   \n",
      "25%                             232.000000      9.000000  175863.000000   \n",
      "50%                             298.000000     14.000000  180962.000000   \n",
      "75%                             379.000000     18.000000  185018.250000   \n",
      "max                            1196.000000     23.000000  204891.000000   \n",
      "\n",
      "       northing_rounded  num_pumps_attending  \\\n",
      "count      32247.000000         32179.000000   \n",
      "mean      180429.501969             1.536375   \n",
      "std         7446.092421             0.741248   \n",
      "min       152850.000000             1.000000   \n",
      "25%       175950.000000             1.000000   \n",
      "50%       180950.000000             1.000000   \n",
      "75%       185150.000000             2.000000   \n",
      "max       224250.000000             7.000000   \n",
      "\n",
      "       num_stations_with_pumps_attending  second_pump_arriving_attendance_time  \n",
      "count                       32179.000000                          11966.000000  \n",
      "mean                            1.356537                            399.082233  \n",
      "std                             0.611400                            153.426914  \n",
      "min                             1.000000                              4.000000  \n",
      "25%                             1.000000                            299.000000  \n",
      "50%                             1.000000                            372.000000  \n",
      "75%                             2.000000                            464.000000  \n",
      "max                             6.000000                           1195.000000  \n"
     ]
    }
   ],
   "source": [
    "print(df.describe())"
   ]
  },
  {
   "cell_type": "code",
   "execution_count": 5,
   "metadata": {},
   "outputs": [
    {
<<<<<<< HEAD
     "data": {
      "application/vnd.microsoft.datawrangler.viewer.v0+json": {
       "columns": [
        {
         "name": "index",
         "rawType": "object",
         "type": "string"
        },
        {
         "name": "cal_year",
         "rawType": "float64",
         "type": "float"
        },
        {
         "name": "easting_m",
         "rawType": "float64",
         "type": "float"
        },
        {
         "name": "easting_rounded",
         "rawType": "float64",
         "type": "float"
        },
        {
         "name": "first_pump_arriving_attendance_time",
         "rawType": "float64",
         "type": "float"
        },
        {
         "name": "hour_of_call",
         "rawType": "float64",
         "type": "float"
        },
        {
         "name": "northing_m",
         "rawType": "float64",
         "type": "float"
        },
        {
         "name": "northing_rounded",
         "rawType": "float64",
         "type": "float"
        },
        {
         "name": "num_pumps_attending",
         "rawType": "float64",
         "type": "float"
        },
        {
         "name": "num_stations_with_pumps_attending",
         "rawType": "float64",
         "type": "float"
        },
        {
         "name": "second_pump_arriving_attendance_time",
         "rawType": "float64",
         "type": "float"
        }
       ],
       "conversionMethod": "pd.DataFrame",
       "ref": "c7c736ee-ae0d-4840-a684-7ef2c1016a39",
       "rows": [
        [
         "count",
         "32247.0",
         "16836.0",
         "32247.0",
         "30428.0",
         "32247.0",
         "16836.0",
         "32247.0",
         "32179.0",
         "32179.0",
         "11966.0"
        ],
        [
         "mean",
         "2017.0",
         "530667.8285816108",
         "530641.1743728098",
         "318.2303799132378",
         "13.465221570998853",
         "180366.9583630316",
         "180429.5019691754",
         "1.5363746542776344",
         "1.3565368718729607",
         "399.0822329934815"
        ],
        [
         "std",
         "0.0",
         "10436.093084587197",
         "9855.434366906149",
         "136.38457052598136",
         "6.15273852372323",
         "7534.304838721388",
         "7446.092420873193",
         "0.7412483458150128",
         "0.6113998875681272",
         "153.42691384634608"
        ],
        [
         "min",
         "2017.0",
         "493654.0",
         "492450.0",
         "2.0",
         "0.0",
         "152868.0",
         "152850.0",
         "1.0",
         "1.0",
         "4.0"
        ],
        [
         "25%",
         "2017.0",
         "525061.0",
         "525150.0",
         "232.0",
         "9.0",
         "175863.0",
         "175950.0",
         "1.0",
         "1.0",
         "299.0"
        ],
        [
         "50%",
         "2017.0",
         "530716.0",
         "530850.0",
         "298.0",
         "14.0",
         "180962.0",
         "180950.0",
         "1.0",
         "1.0",
         "372.0"
        ],
        [
         "75%",
         "2017.0",
         "536994.5",
         "536450.0",
         "379.0",
         "18.0",
         "185018.25",
         "185150.0",
         "2.0",
         "2.0",
         "464.0"
        ],
        [
         "max",
         "2017.0",
         "560804.0",
         "563150.0",
         "1196.0",
         "23.0",
         "204891.0",
         "224250.0",
         "7.0",
         "6.0",
         "1195.0"
        ]
       ],
       "shape": {
        "columns": 10,
        "rows": 8
       }
      },
      "text/html": [
       "<div>\n",
       "<style scoped>\n",
       "    .dataframe tbody tr th:only-of-type {\n",
       "        vertical-align: middle;\n",
       "    }\n",
       "\n",
       "    .dataframe tbody tr th {\n",
       "        vertical-align: top;\n",
       "    }\n",
       "\n",
       "    .dataframe thead th {\n",
       "        text-align: right;\n",
       "    }\n",
       "</style>\n",
       "<table border=\"1\" class=\"dataframe\">\n",
       "  <thead>\n",
       "    <tr style=\"text-align: right;\">\n",
       "      <th></th>\n",
       "      <th>cal_year</th>\n",
       "      <th>easting_m</th>\n",
       "      <th>easting_rounded</th>\n",
       "      <th>first_pump_arriving_attendance_time</th>\n",
       "      <th>hour_of_call</th>\n",
       "      <th>northing_m</th>\n",
       "      <th>northing_rounded</th>\n",
       "      <th>num_pumps_attending</th>\n",
       "      <th>num_stations_with_pumps_attending</th>\n",
       "      <th>second_pump_arriving_attendance_time</th>\n",
       "    </tr>\n",
       "  </thead>\n",
       "  <tbody>\n",
       "    <tr>\n",
       "      <th>count</th>\n",
       "      <td>32247.0</td>\n",
       "      <td>16836.000000</td>\n",
       "      <td>32247.000000</td>\n",
       "      <td>30428.000000</td>\n",
       "      <td>32247.000000</td>\n",
       "      <td>16836.000000</td>\n",
       "      <td>32247.000000</td>\n",
       "      <td>32179.000000</td>\n",
       "      <td>32179.000000</td>\n",
       "      <td>11966.000000</td>\n",
       "    </tr>\n",
       "    <tr>\n",
       "      <th>mean</th>\n",
       "      <td>2017.0</td>\n",
       "      <td>530667.828582</td>\n",
       "      <td>530641.174373</td>\n",
       "      <td>318.230380</td>\n",
       "      <td>13.465222</td>\n",
       "      <td>180366.958363</td>\n",
       "      <td>180429.501969</td>\n",
       "      <td>1.536375</td>\n",
       "      <td>1.356537</td>\n",
       "      <td>399.082233</td>\n",
       "    </tr>\n",
       "    <tr>\n",
       "      <th>std</th>\n",
       "      <td>0.0</td>\n",
       "      <td>10436.093085</td>\n",
       "      <td>9855.434367</td>\n",
       "      <td>136.384571</td>\n",
       "      <td>6.152739</td>\n",
       "      <td>7534.304839</td>\n",
       "      <td>7446.092421</td>\n",
       "      <td>0.741248</td>\n",
       "      <td>0.611400</td>\n",
       "      <td>153.426914</td>\n",
       "    </tr>\n",
       "    <tr>\n",
       "      <th>min</th>\n",
       "      <td>2017.0</td>\n",
       "      <td>493654.000000</td>\n",
       "      <td>492450.000000</td>\n",
       "      <td>2.000000</td>\n",
       "      <td>0.000000</td>\n",
       "      <td>152868.000000</td>\n",
       "      <td>152850.000000</td>\n",
       "      <td>1.000000</td>\n",
       "      <td>1.000000</td>\n",
       "      <td>4.000000</td>\n",
       "    </tr>\n",
       "    <tr>\n",
       "      <th>25%</th>\n",
       "      <td>2017.0</td>\n",
       "      <td>525061.000000</td>\n",
       "      <td>525150.000000</td>\n",
       "      <td>232.000000</td>\n",
       "      <td>9.000000</td>\n",
       "      <td>175863.000000</td>\n",
       "      <td>175950.000000</td>\n",
       "      <td>1.000000</td>\n",
       "      <td>1.000000</td>\n",
       "      <td>299.000000</td>\n",
       "    </tr>\n",
       "    <tr>\n",
       "      <th>50%</th>\n",
       "      <td>2017.0</td>\n",
       "      <td>530716.000000</td>\n",
       "      <td>530850.000000</td>\n",
       "      <td>298.000000</td>\n",
       "      <td>14.000000</td>\n",
       "      <td>180962.000000</td>\n",
       "      <td>180950.000000</td>\n",
       "      <td>1.000000</td>\n",
       "      <td>1.000000</td>\n",
       "      <td>372.000000</td>\n",
       "    </tr>\n",
       "    <tr>\n",
       "      <th>75%</th>\n",
       "      <td>2017.0</td>\n",
       "      <td>536994.500000</td>\n",
       "      <td>536450.000000</td>\n",
       "      <td>379.000000</td>\n",
       "      <td>18.000000</td>\n",
       "      <td>185018.250000</td>\n",
       "      <td>185150.000000</td>\n",
       "      <td>2.000000</td>\n",
       "      <td>2.000000</td>\n",
       "      <td>464.000000</td>\n",
       "    </tr>\n",
       "    <tr>\n",
       "      <th>max</th>\n",
       "      <td>2017.0</td>\n",
       "      <td>560804.000000</td>\n",
       "      <td>563150.000000</td>\n",
       "      <td>1196.000000</td>\n",
       "      <td>23.000000</td>\n",
       "      <td>204891.000000</td>\n",
       "      <td>224250.000000</td>\n",
       "      <td>7.000000</td>\n",
       "      <td>6.000000</td>\n",
       "      <td>1195.000000</td>\n",
       "    </tr>\n",
       "  </tbody>\n",
       "</table>\n",
       "</div>"
      ],
      "text/plain": [
       "       cal_year      easting_m  easting_rounded  \\\n",
       "count   32247.0   16836.000000     32247.000000   \n",
       "mean     2017.0  530667.828582    530641.174373   \n",
       "std         0.0   10436.093085      9855.434367   \n",
       "min      2017.0  493654.000000    492450.000000   \n",
       "25%      2017.0  525061.000000    525150.000000   \n",
       "50%      2017.0  530716.000000    530850.000000   \n",
       "75%      2017.0  536994.500000    536450.000000   \n",
       "max      2017.0  560804.000000    563150.000000   \n",
       "\n",
       "       first_pump_arriving_attendance_time  hour_of_call     northing_m  \\\n",
       "count                         30428.000000  32247.000000   16836.000000   \n",
       "mean                            318.230380     13.465222  180366.958363   \n",
       "std                             136.384571      6.152739    7534.304839   \n",
       "min                               2.000000      0.000000  152868.000000   \n",
       "25%                             232.000000      9.000000  175863.000000   \n",
       "50%                             298.000000     14.000000  180962.000000   \n",
       "75%                             379.000000     18.000000  185018.250000   \n",
       "max                            1196.000000     23.000000  204891.000000   \n",
       "\n",
       "       northing_rounded  num_pumps_attending  \\\n",
       "count      32247.000000         32179.000000   \n",
       "mean      180429.501969             1.536375   \n",
       "std         7446.092421             0.741248   \n",
       "min       152850.000000             1.000000   \n",
       "25%       175950.000000             1.000000   \n",
       "50%       180950.000000             1.000000   \n",
       "75%       185150.000000             2.000000   \n",
       "max       224250.000000             7.000000   \n",
       "\n",
       "       num_stations_with_pumps_attending  second_pump_arriving_attendance_time  \n",
       "count                       32179.000000                          11966.000000  \n",
       "mean                            1.356537                            399.082233  \n",
       "std                             0.611400                            153.426914  \n",
       "min                             1.000000                              4.000000  \n",
       "25%                             1.000000                            299.000000  \n",
       "50%                             1.000000                            372.000000  \n",
       "75%                             2.000000                            464.000000  \n",
       "max                             6.000000                           1195.000000  "
      ]
     },
     "execution_count": 5,
     "metadata": {},
     "output_type": "execute_result"
    }
   ],
   "source": [
    "df = pd.read_csv('london_fire_brigade_service_calls.csv', index_col=0)\n",
    "df.describe()"
=======
     "name": "stdout",
     "output_type": "stream",
     "text": [
      "Missing Values:\n",
      "address_qualifier                                 0\n",
      "borough_code                                      0\n",
      "borough_name                                      0\n",
      "cal_year                                          0\n",
      "date_of_call                                      0\n",
      "easting_m                                     15411\n",
      "easting_rounded                                   0\n",
      "first_pump_arriving_attendance_time            1819\n",
      "first_pump_arriving_deployed_from_station      1819\n",
      "frs                                               0\n",
      "hour_of_call                                      0\n",
      "incident_group                                    0\n",
      "incident_number                                   0\n",
      "incident_station_ground                           0\n",
      "northing_m                                    15411\n",
      "northing_rounded                                  0\n",
      "num_pumps_attending                              68\n",
      "num_stations_with_pumps_attending                68\n",
      "postcode_district                                 0\n",
      "postcode_full                                 15411\n",
      "proper_case                                       0\n",
      "property_category                                 0\n",
      "property_type                                     0\n",
      "second_pump_arriving_attendance_time          20281\n",
      "second_pump_arriving_deployed_from_station    20281\n",
      "special_service_type                          22166\n",
      "stop_code_description                             0\n",
      "time_of_call                                      0\n",
      "timestamp_of_call                                 0\n",
      "ward_code                                         0\n",
      "ward_name                                         0\n",
      "ward_name_new                                     0\n",
      "dtype: int64\n"
     ]
    }
   ],
   "source": [
    "print(\"Missing Values:\")\n",
    "print(df.isnull().sum())"
>>>>>>> bb742c693ad06f365594b25715100e094584f039
   ]
  },
  {
   "cell_type": "code",
   "execution_count": 6,
   "metadata": {},
   "outputs": [
    {
     "data": {
      "application/vnd.microsoft.datawrangler.viewer.v0+json": {
       "columns": [
        {
<<<<<<< HEAD
         "name": "address_qualifier",
=======
         "name": "index",
>>>>>>> bb742c693ad06f365594b25715100e094584f039
         "rawType": "object",
         "type": "string"
        },
        {
<<<<<<< HEAD
         "name": "borough_code",
         "rawType": "object",
         "type": "string"
=======
         "name": "address_qualifier",
         "rawType": "object",
         "type": "unknown"
        },
        {
         "name": "borough_code",
         "rawType": "object",
         "type": "unknown"
>>>>>>> bb742c693ad06f365594b25715100e094584f039
        },
        {
         "name": "borough_name",
         "rawType": "object",
<<<<<<< HEAD
         "type": "string"
        },
        {
         "name": "cal_year",
         "rawType": "int64",
         "type": "integer"
=======
         "type": "unknown"
>>>>>>> bb742c693ad06f365594b25715100e094584f039
        },
        {
         "name": "date_of_call",
         "rawType": "object",
<<<<<<< HEAD
         "type": "string"
        },
        {
         "name": "easting_m",
         "rawType": "float64",
         "type": "float"
        },
        {
         "name": "easting_rounded",
         "rawType": "int64",
         "type": "integer"
        },
        {
         "name": "first_pump_arriving_attendance_time",
         "rawType": "float64",
         "type": "float"
=======
         "type": "unknown"
>>>>>>> bb742c693ad06f365594b25715100e094584f039
        },
        {
         "name": "first_pump_arriving_deployed_from_station",
         "rawType": "object",
         "type": "unknown"
        },
        {
         "name": "frs",
         "rawType": "object",
<<<<<<< HEAD
         "type": "string"
        },
        {
         "name": "hour_of_call",
         "rawType": "int64",
         "type": "integer"
=======
         "type": "unknown"
>>>>>>> bb742c693ad06f365594b25715100e094584f039
        },
        {
         "name": "incident_group",
         "rawType": "object",
<<<<<<< HEAD
         "type": "string"
=======
         "type": "unknown"
>>>>>>> bb742c693ad06f365594b25715100e094584f039
        },
        {
         "name": "incident_number",
         "rawType": "object",
<<<<<<< HEAD
         "type": "string"
=======
         "type": "unknown"
>>>>>>> bb742c693ad06f365594b25715100e094584f039
        },
        {
         "name": "incident_station_ground",
         "rawType": "object",
<<<<<<< HEAD
         "type": "string"
        },
        {
         "name": "northing_m",
         "rawType": "float64",
         "type": "float"
        },
        {
         "name": "northing_rounded",
         "rawType": "int64",
         "type": "integer"
        },
        {
         "name": "num_pumps_attending",
         "rawType": "float64",
         "type": "float"
        },
        {
         "name": "num_stations_with_pumps_attending",
         "rawType": "float64",
         "type": "float"
=======
         "type": "unknown"
>>>>>>> bb742c693ad06f365594b25715100e094584f039
        },
        {
         "name": "postcode_district",
         "rawType": "object",
<<<<<<< HEAD
         "type": "string"
=======
         "type": "unknown"
>>>>>>> bb742c693ad06f365594b25715100e094584f039
        },
        {
         "name": "postcode_full",
         "rawType": "object",
         "type": "unknown"
        },
        {
         "name": "proper_case",
         "rawType": "object",
<<<<<<< HEAD
         "type": "string"
=======
         "type": "unknown"
>>>>>>> bb742c693ad06f365594b25715100e094584f039
        },
        {
         "name": "property_category",
         "rawType": "object",
<<<<<<< HEAD
         "type": "string"
=======
         "type": "unknown"
>>>>>>> bb742c693ad06f365594b25715100e094584f039
        },
        {
         "name": "property_type",
         "rawType": "object",
<<<<<<< HEAD
         "type": "string"
        },
        {
         "name": "second_pump_arriving_attendance_time",
         "rawType": "float64",
         "type": "float"
=======
         "type": "unknown"
>>>>>>> bb742c693ad06f365594b25715100e094584f039
        },
        {
         "name": "second_pump_arriving_deployed_from_station",
         "rawType": "object",
         "type": "unknown"
        },
        {
         "name": "special_service_type",
         "rawType": "object",
         "type": "unknown"
        },
        {
         "name": "stop_code_description",
         "rawType": "object",
<<<<<<< HEAD
         "type": "string"
=======
         "type": "unknown"
>>>>>>> bb742c693ad06f365594b25715100e094584f039
        },
        {
         "name": "time_of_call",
         "rawType": "object",
<<<<<<< HEAD
         "type": "string"
=======
         "type": "unknown"
>>>>>>> bb742c693ad06f365594b25715100e094584f039
        },
        {
         "name": "timestamp_of_call",
         "rawType": "object",
<<<<<<< HEAD
         "type": "string"
=======
         "type": "unknown"
>>>>>>> bb742c693ad06f365594b25715100e094584f039
        },
        {
         "name": "ward_code",
         "rawType": "object",
<<<<<<< HEAD
         "type": "string"
=======
         "type": "unknown"
>>>>>>> bb742c693ad06f365594b25715100e094584f039
        },
        {
         "name": "ward_name",
         "rawType": "object",
<<<<<<< HEAD
         "type": "string"
=======
         "type": "unknown"
>>>>>>> bb742c693ad06f365594b25715100e094584f039
        },
        {
         "name": "ward_name_new",
         "rawType": "object",
<<<<<<< HEAD
         "type": "string"
        }
       ],
       "conversionMethod": "pd.DataFrame",
       "ref": "feb57516-755d-47a6-a801-c2c7bf523922",
       "rows": [
        [
         "Within same building",
         "E09000007",
         "CAMDEN",
         "2017",
         "2017-01-20",
         "529459.0",
         "529450",
         "359.0",
         "Euston",
         "London",
         "8",
         "False Alarm",
         "008148-20012017",
         "Euston",
         "182009.0",
         "182050",
         "1.0",
         "1.0",
         "W1T",
         "W1T 7PD",
         "Camden",
         "Non Residential",
         "Purpose built office",
         null,
         null,
         null,
         "AFA",
         "08:57:38",
         "2017-01-20 08:57:38",
         "E05000129",
         "BLOOMSBURY",
         "BLOOMSBURY"
        ],
        [
         "Within same building",
         "E09000025",
         "NEWHAM",
         "2017",
         "2017-04-21",
         null,
         "539650",
         "211.0",
         "Stratford",
         "London",
         "17",
         "Special Service",
         "049659-21042017",
         "Stratford",
         null,
         "183750",
         "1.0",
         "1.0",
         "E15",
         null,
         "Newham",
         "Dwelling",
         "Purpose Built Flats/Maisonettes - Up to 3 storeys",
         null,
         null,
         "No action (not false alarm)",
         "Special Service",
         "17:42:29",
         "2017-04-21 17:42:29",
         "E05000494",
         "WEST HAM",
         "WEST HAM"
        ],
        [
         "Correct incident location",
         "E09000031",
         "WALTHAM FOREST",
         "2017",
         "2017-01-20",
         "536990.0",
         "536950",
         null,
         null,
         "London",
         "18",
         "Special Service",
         "008388-20012017",
         "Walthamstow",
         "189395.0",
         "189350",
         "1.0",
         "1.0",
         "E17",
         "E17 6RH",
         "Waltham Forest",
         "Non Residential",
         "Local Government Office",
         null,
         null,
         "Lift Release",
         "Special Service",
         "18:21:32",
         "2017-01-20 18:21:32",
         "E05000608",
         "WILLIAM MORRIS",
         "WILLIAM MORRIS"
        ],
        [
         "Within same building",
         "E09000009",
         "EALING",
         "2017",
         "2017-03-07",
         "516686.0",
         "516650",
         "295.0",
         "Ealing",
         "London",
         "11",
         "Special Service",
         "027895-07032017",
         "Ealing",
         "180225.0",
         "180250",
         "2.0",
         "2.0",
         "W13",
         "W13 9YN",
         "Ealing",
         "Non Residential",
         "Underground car park",
         "660.0",
         "Southall",
         "Hazardous Materials incident",
         "Special Service",
         "11:27:50",
         "2017-03-07 11:27:50",
         "E05000192",
         "WALPOLE",
         "WALPOLE"
        ],
        [
         "Correct incident location",
         "E09000032",
         "WANDSWORTH",
         "2017",
         "2017-02-04",
         "524266.0",
         "524250",
         "533.0",
         "Battersea",
         "London",
         "17",
         "Special Service",
         "014772-04022017",
         "Wandsworth",
         "174973.0",
         "174950",
         "1.0",
         "1.0",
         "SW15",
         "SW15 2SP",
         "Wandsworth",
         "Non Residential",
         "Pub/wine bar/bar",
         null,
         null,
         "Medical Incident - Co-responder",
         "Special Service",
         "17:31:10",
         "2017-02-04 17:31:10",
         "E05000625",
         "THAMESFIELD",
         "THAMESFIELD"
        ]
       ],
       "shape": {
        "columns": 31,
        "rows": 5
=======
         "type": "unknown"
        }
       ],
       "conversionMethod": "pd.DataFrame",
       "ref": "df93a234-6718-4bd9-8c93-f8831627b96a",
       "rows": [
        [
         "count",
         "32247",
         "32247",
         "32247",
         "32247",
         "30428",
         "32247",
         "32247",
         "32247",
         "32247",
         "32247",
         "16836",
         "32247",
         "32247",
         "32247",
         "11966",
         "10081",
         "32247",
         "32247",
         "32247",
         "32247",
         "32247",
         "32247"
        ],
        [
         "unique",
         "11",
         "34",
         "34",
         "120",
         "103",
         "2",
         "3",
         "32247",
         "103",
         "318",
         "11854",
         "34",
         "9",
         "260",
         "102",
         "21",
         "9",
         "26274",
         "32236",
         "655",
         "631",
         "631"
        ],
        [
         "top",
         "Correct incident location",
         "E09000033",
         "WESTMINSTER",
         "2017-02-23",
         "Soho",
         "London",
         "False Alarm",
         "046868-16042017",
         "Soho",
         "CR0",
         "NW3 2PF",
         "Westminster",
         "Dwelling",
         "Purpose Built Flats/Maisonettes - 4 to 9 storeys",
         "Soho",
         "Flooding",
         "AFA",
         "18:03:40",
         "2017-04-21 23:34:55",
         "E05000649",
         "WEST END",
         "WEST END"
        ],
        [
         "freq",
         "19267",
         "2469",
         "2469",
         "525",
         "1205",
         "32078",
         "15732",
         "1",
         "1247",
         "612",
         "36",
         "2469",
         "15240",
         "3823",
         "375",
         "2061",
         "11811",
         "6",
         "2",
         "623",
         "623",
         "623"
        ]
       ],
       "shape": {
        "columns": 22,
        "rows": 4
>>>>>>> bb742c693ad06f365594b25715100e094584f039
       }
      },
      "text/html": [
       "<div>\n",
       "<style scoped>\n",
       "    .dataframe tbody tr th:only-of-type {\n",
       "        vertical-align: middle;\n",
       "    }\n",
       "\n",
       "    .dataframe tbody tr th {\n",
       "        vertical-align: top;\n",
       "    }\n",
       "\n",
       "    .dataframe thead th {\n",
       "        text-align: right;\n",
       "    }\n",
       "</style>\n",
       "<table border=\"1\" class=\"dataframe\">\n",
       "  <thead>\n",
       "    <tr style=\"text-align: right;\">\n",
       "      <th></th>\n",
<<<<<<< HEAD
       "      <th>borough_code</th>\n",
       "      <th>borough_name</th>\n",
       "      <th>cal_year</th>\n",
       "      <th>date_of_call</th>\n",
       "      <th>easting_m</th>\n",
       "      <th>easting_rounded</th>\n",
       "      <th>first_pump_arriving_attendance_time</th>\n",
       "      <th>first_pump_arriving_deployed_from_station</th>\n",
       "      <th>frs</th>\n",
       "      <th>hour_of_call</th>\n",
       "      <th>...</th>\n",
       "      <th>property_type</th>\n",
       "      <th>second_pump_arriving_attendance_time</th>\n",
=======
       "      <th>address_qualifier</th>\n",
       "      <th>borough_code</th>\n",
       "      <th>borough_name</th>\n",
       "      <th>date_of_call</th>\n",
       "      <th>first_pump_arriving_deployed_from_station</th>\n",
       "      <th>frs</th>\n",
       "      <th>incident_group</th>\n",
       "      <th>incident_number</th>\n",
       "      <th>incident_station_ground</th>\n",
       "      <th>postcode_district</th>\n",
       "      <th>...</th>\n",
       "      <th>property_category</th>\n",
       "      <th>property_type</th>\n",
>>>>>>> bb742c693ad06f365594b25715100e094584f039
       "      <th>second_pump_arriving_deployed_from_station</th>\n",
       "      <th>special_service_type</th>\n",
       "      <th>stop_code_description</th>\n",
       "      <th>time_of_call</th>\n",
       "      <th>timestamp_of_call</th>\n",
       "      <th>ward_code</th>\n",
       "      <th>ward_name</th>\n",
       "      <th>ward_name_new</th>\n",
<<<<<<< HEAD
       "    </tr>\n",
       "    <tr>\n",
       "      <th>address_qualifier</th>\n",
       "      <th></th>\n",
       "      <th></th>\n",
       "      <th></th>\n",
       "      <th></th>\n",
       "      <th></th>\n",
       "      <th></th>\n",
       "      <th></th>\n",
       "      <th></th>\n",
       "      <th></th>\n",
       "      <th></th>\n",
       "      <th></th>\n",
       "      <th></th>\n",
       "      <th></th>\n",
       "      <th></th>\n",
       "      <th></th>\n",
       "      <th></th>\n",
       "      <th></th>\n",
       "      <th></th>\n",
       "      <th></th>\n",
       "      <th></th>\n",
       "      <th></th>\n",
=======
>>>>>>> bb742c693ad06f365594b25715100e094584f039
       "    </tr>\n",
       "  </thead>\n",
       "  <tbody>\n",
       "    <tr>\n",
<<<<<<< HEAD
       "      <th>Within same building</th>\n",
       "      <td>E09000007</td>\n",
       "      <td>CAMDEN</td>\n",
       "      <td>2017</td>\n",
       "      <td>2017-01-20</td>\n",
       "      <td>529459.0</td>\n",
       "      <td>529450</td>\n",
       "      <td>359.0</td>\n",
       "      <td>Euston</td>\n",
       "      <td>London</td>\n",
       "      <td>8</td>\n",
       "      <td>...</td>\n",
       "      <td>Purpose built office</td>\n",
       "      <td>NaN</td>\n",
       "      <td>NaN</td>\n",
       "      <td>NaN</td>\n",
       "      <td>AFA</td>\n",
       "      <td>08:57:38</td>\n",
       "      <td>2017-01-20 08:57:38</td>\n",
       "      <td>E05000129</td>\n",
       "      <td>BLOOMSBURY</td>\n",
       "      <td>BLOOMSBURY</td>\n",
       "    </tr>\n",
       "    <tr>\n",
       "      <th>Within same building</th>\n",
       "      <td>E09000025</td>\n",
       "      <td>NEWHAM</td>\n",
       "      <td>2017</td>\n",
       "      <td>2017-04-21</td>\n",
       "      <td>NaN</td>\n",
       "      <td>539650</td>\n",
       "      <td>211.0</td>\n",
       "      <td>Stratford</td>\n",
       "      <td>London</td>\n",
       "      <td>17</td>\n",
       "      <td>...</td>\n",
       "      <td>Purpose Built Flats/Maisonettes - Up to 3 storeys</td>\n",
       "      <td>NaN</td>\n",
       "      <td>NaN</td>\n",
       "      <td>No action (not false alarm)</td>\n",
       "      <td>Special Service</td>\n",
       "      <td>17:42:29</td>\n",
       "      <td>2017-04-21 17:42:29</td>\n",
       "      <td>E05000494</td>\n",
       "      <td>WEST HAM</td>\n",
       "      <td>WEST HAM</td>\n",
       "    </tr>\n",
       "    <tr>\n",
       "      <th>Correct incident location</th>\n",
       "      <td>E09000031</td>\n",
       "      <td>WALTHAM FOREST</td>\n",
       "      <td>2017</td>\n",
       "      <td>2017-01-20</td>\n",
       "      <td>536990.0</td>\n",
       "      <td>536950</td>\n",
       "      <td>NaN</td>\n",
       "      <td>NaN</td>\n",
       "      <td>London</td>\n",
       "      <td>18</td>\n",
       "      <td>...</td>\n",
       "      <td>Local Government Office</td>\n",
       "      <td>NaN</td>\n",
       "      <td>NaN</td>\n",
       "      <td>Lift Release</td>\n",
       "      <td>Special Service</td>\n",
       "      <td>18:21:32</td>\n",
       "      <td>2017-01-20 18:21:32</td>\n",
       "      <td>E05000608</td>\n",
       "      <td>WILLIAM MORRIS</td>\n",
       "      <td>WILLIAM MORRIS</td>\n",
       "    </tr>\n",
       "    <tr>\n",
       "      <th>Within same building</th>\n",
       "      <td>E09000009</td>\n",
       "      <td>EALING</td>\n",
       "      <td>2017</td>\n",
       "      <td>2017-03-07</td>\n",
       "      <td>516686.0</td>\n",
       "      <td>516650</td>\n",
       "      <td>295.0</td>\n",
       "      <td>Ealing</td>\n",
       "      <td>London</td>\n",
       "      <td>11</td>\n",
       "      <td>...</td>\n",
       "      <td>Underground car park</td>\n",
       "      <td>660.0</td>\n",
       "      <td>Southall</td>\n",
       "      <td>Hazardous Materials incident</td>\n",
       "      <td>Special Service</td>\n",
       "      <td>11:27:50</td>\n",
       "      <td>2017-03-07 11:27:50</td>\n",
       "      <td>E05000192</td>\n",
       "      <td>WALPOLE</td>\n",
       "      <td>WALPOLE</td>\n",
       "    </tr>\n",
       "    <tr>\n",
       "      <th>Correct incident location</th>\n",
       "      <td>E09000032</td>\n",
       "      <td>WANDSWORTH</td>\n",
       "      <td>2017</td>\n",
       "      <td>2017-02-04</td>\n",
       "      <td>524266.0</td>\n",
       "      <td>524250</td>\n",
       "      <td>533.0</td>\n",
       "      <td>Battersea</td>\n",
       "      <td>London</td>\n",
       "      <td>17</td>\n",
       "      <td>...</td>\n",
       "      <td>Pub/wine bar/bar</td>\n",
       "      <td>NaN</td>\n",
       "      <td>NaN</td>\n",
       "      <td>Medical Incident - Co-responder</td>\n",
       "      <td>Special Service</td>\n",
       "      <td>17:31:10</td>\n",
       "      <td>2017-02-04 17:31:10</td>\n",
       "      <td>E05000625</td>\n",
       "      <td>THAMESFIELD</td>\n",
       "      <td>THAMESFIELD</td>\n",
       "    </tr>\n",
       "  </tbody>\n",
       "</table>\n",
       "<p>5 rows × 31 columns</p>\n",
       "</div>"
      ],
      "text/plain": [
       "                          borough_code    borough_name  cal_year date_of_call  \\\n",
       "address_qualifier                                                               \n",
       "Within same building         E09000007          CAMDEN      2017   2017-01-20   \n",
       "Within same building         E09000025          NEWHAM      2017   2017-04-21   \n",
       "Correct incident location    E09000031  WALTHAM FOREST      2017   2017-01-20   \n",
       "Within same building         E09000009          EALING      2017   2017-03-07   \n",
       "Correct incident location    E09000032      WANDSWORTH      2017   2017-02-04   \n",
       "\n",
       "                           easting_m  easting_rounded  \\\n",
       "address_qualifier                                       \n",
       "Within same building        529459.0           529450   \n",
       "Within same building             NaN           539650   \n",
       "Correct incident location   536990.0           536950   \n",
       "Within same building        516686.0           516650   \n",
       "Correct incident location   524266.0           524250   \n",
       "\n",
       "                           first_pump_arriving_attendance_time  \\\n",
       "address_qualifier                                                \n",
       "Within same building                                     359.0   \n",
       "Within same building                                     211.0   \n",
       "Correct incident location                                  NaN   \n",
       "Within same building                                     295.0   \n",
       "Correct incident location                                533.0   \n",
       "\n",
       "                          first_pump_arriving_deployed_from_station     frs  \\\n",
       "address_qualifier                                                             \n",
       "Within same building                                         Euston  London   \n",
       "Within same building                                      Stratford  London   \n",
       "Correct incident location                                       NaN  London   \n",
       "Within same building                                         Ealing  London   \n",
       "Correct incident location                                 Battersea  London   \n",
       "\n",
       "                           hour_of_call  ...  \\\n",
       "address_qualifier                        ...   \n",
       "Within same building                  8  ...   \n",
       "Within same building                 17  ...   \n",
       "Correct incident location            18  ...   \n",
       "Within same building                 11  ...   \n",
       "Correct incident location            17  ...   \n",
       "\n",
       "                                                               property_type  \\\n",
       "address_qualifier                                                              \n",
       "Within same building                                    Purpose built office   \n",
       "Within same building       Purpose Built Flats/Maisonettes - Up to 3 storeys   \n",
       "Correct incident location                            Local Government Office   \n",
       "Within same building                                    Underground car park   \n",
       "Correct incident location                                   Pub/wine bar/bar   \n",
       "\n",
       "                          second_pump_arriving_attendance_time  \\\n",
       "address_qualifier                                                \n",
       "Within same building                                       NaN   \n",
       "Within same building                                       NaN   \n",
       "Correct incident location                                  NaN   \n",
       "Within same building                                     660.0   \n",
       "Correct incident location                                  NaN   \n",
       "\n",
       "                          second_pump_arriving_deployed_from_station  \\\n",
       "address_qualifier                                                      \n",
       "Within same building                                             NaN   \n",
       "Within same building                                             NaN   \n",
       "Correct incident location                                        NaN   \n",
       "Within same building                                        Southall   \n",
       "Correct incident location                                        NaN   \n",
       "\n",
       "                                      special_service_type  \\\n",
       "address_qualifier                                            \n",
       "Within same building                                   NaN   \n",
       "Within same building           No action (not false alarm)   \n",
       "Correct incident location                     Lift Release   \n",
       "Within same building          Hazardous Materials incident   \n",
       "Correct incident location  Medical Incident - Co-responder   \n",
       "\n",
       "                           stop_code_description  time_of_call  \\\n",
       "address_qualifier                                                \n",
       "Within same building                         AFA      08:57:38   \n",
       "Within same building             Special Service      17:42:29   \n",
       "Correct incident location        Special Service      18:21:32   \n",
       "Within same building             Special Service      11:27:50   \n",
       "Correct incident location        Special Service      17:31:10   \n",
       "\n",
       "                             timestamp_of_call  ward_code       ward_name  \\\n",
       "address_qualifier                                                           \n",
       "Within same building       2017-01-20 08:57:38  E05000129      BLOOMSBURY   \n",
       "Within same building       2017-04-21 17:42:29  E05000494        WEST HAM   \n",
       "Correct incident location  2017-01-20 18:21:32  E05000608  WILLIAM MORRIS   \n",
       "Within same building       2017-03-07 11:27:50  E05000192         WALPOLE   \n",
       "Correct incident location  2017-02-04 17:31:10  E05000625     THAMESFIELD   \n",
       "\n",
       "                            ward_name_new  \n",
       "address_qualifier                          \n",
       "Within same building           BLOOMSBURY  \n",
       "Within same building             WEST HAM  \n",
       "Correct incident location  WILLIAM MORRIS  \n",
       "Within same building              WALPOLE  \n",
       "Correct incident location     THAMESFIELD  \n",
       "\n",
       "[5 rows x 31 columns]"
=======
       "      <th>count</th>\n",
       "      <td>32247</td>\n",
       "      <td>32247</td>\n",
       "      <td>32247</td>\n",
       "      <td>32247</td>\n",
       "      <td>30428</td>\n",
       "      <td>32247</td>\n",
       "      <td>32247</td>\n",
       "      <td>32247</td>\n",
       "      <td>32247</td>\n",
       "      <td>32247</td>\n",
       "      <td>...</td>\n",
       "      <td>32247</td>\n",
       "      <td>32247</td>\n",
       "      <td>11966</td>\n",
       "      <td>10081</td>\n",
       "      <td>32247</td>\n",
       "      <td>32247</td>\n",
       "      <td>32247</td>\n",
       "      <td>32247</td>\n",
       "      <td>32247</td>\n",
       "      <td>32247</td>\n",
       "    </tr>\n",
       "    <tr>\n",
       "      <th>unique</th>\n",
       "      <td>11</td>\n",
       "      <td>34</td>\n",
       "      <td>34</td>\n",
       "      <td>120</td>\n",
       "      <td>103</td>\n",
       "      <td>2</td>\n",
       "      <td>3</td>\n",
       "      <td>32247</td>\n",
       "      <td>103</td>\n",
       "      <td>318</td>\n",
       "      <td>...</td>\n",
       "      <td>9</td>\n",
       "      <td>260</td>\n",
       "      <td>102</td>\n",
       "      <td>21</td>\n",
       "      <td>9</td>\n",
       "      <td>26274</td>\n",
       "      <td>32236</td>\n",
       "      <td>655</td>\n",
       "      <td>631</td>\n",
       "      <td>631</td>\n",
       "    </tr>\n",
       "    <tr>\n",
       "      <th>top</th>\n",
       "      <td>Correct incident location</td>\n",
       "      <td>E09000033</td>\n",
       "      <td>WESTMINSTER</td>\n",
       "      <td>2017-02-23</td>\n",
       "      <td>Soho</td>\n",
       "      <td>London</td>\n",
       "      <td>False Alarm</td>\n",
       "      <td>046868-16042017</td>\n",
       "      <td>Soho</td>\n",
       "      <td>CR0</td>\n",
       "      <td>...</td>\n",
       "      <td>Dwelling</td>\n",
       "      <td>Purpose Built Flats/Maisonettes - 4 to 9 storeys</td>\n",
       "      <td>Soho</td>\n",
       "      <td>Flooding</td>\n",
       "      <td>AFA</td>\n",
       "      <td>18:03:40</td>\n",
       "      <td>2017-04-21 23:34:55</td>\n",
       "      <td>E05000649</td>\n",
       "      <td>WEST END</td>\n",
       "      <td>WEST END</td>\n",
       "    </tr>\n",
       "    <tr>\n",
       "      <th>freq</th>\n",
       "      <td>19267</td>\n",
       "      <td>2469</td>\n",
       "      <td>2469</td>\n",
       "      <td>525</td>\n",
       "      <td>1205</td>\n",
       "      <td>32078</td>\n",
       "      <td>15732</td>\n",
       "      <td>1</td>\n",
       "      <td>1247</td>\n",
       "      <td>612</td>\n",
       "      <td>...</td>\n",
       "      <td>15240</td>\n",
       "      <td>3823</td>\n",
       "      <td>375</td>\n",
       "      <td>2061</td>\n",
       "      <td>11811</td>\n",
       "      <td>6</td>\n",
       "      <td>2</td>\n",
       "      <td>623</td>\n",
       "      <td>623</td>\n",
       "      <td>623</td>\n",
       "    </tr>\n",
       "  </tbody>\n",
       "</table>\n",
       "<p>4 rows × 22 columns</p>\n",
       "</div>"
      ],
      "text/plain": [
       "                address_qualifier borough_code borough_name date_of_call  \\\n",
       "count                       32247        32247        32247        32247   \n",
       "unique                         11           34           34          120   \n",
       "top     Correct incident location    E09000033  WESTMINSTER   2017-02-23   \n",
       "freq                        19267         2469         2469          525   \n",
       "\n",
       "       first_pump_arriving_deployed_from_station     frs incident_group  \\\n",
       "count                                      30428   32247          32247   \n",
       "unique                                       103       2              3   \n",
       "top                                         Soho  London    False Alarm   \n",
       "freq                                        1205   32078          15732   \n",
       "\n",
       "        incident_number incident_station_ground postcode_district  ...  \\\n",
       "count             32247                   32247             32247  ...   \n",
       "unique            32247                     103               318  ...   \n",
       "top     046868-16042017                    Soho               CR0  ...   \n",
       "freq                  1                    1247               612  ...   \n",
       "\n",
       "       property_category                                     property_type  \\\n",
       "count              32247                                             32247   \n",
       "unique                 9                                               260   \n",
       "top             Dwelling  Purpose Built Flats/Maisonettes - 4 to 9 storeys   \n",
       "freq               15240                                              3823   \n",
       "\n",
       "       second_pump_arriving_deployed_from_station special_service_type  \\\n",
       "count                                       11966                10081   \n",
       "unique                                        102                   21   \n",
       "top                                          Soho             Flooding   \n",
       "freq                                          375                 2061   \n",
       "\n",
       "       stop_code_description time_of_call    timestamp_of_call  ward_code  \\\n",
       "count                  32247        32247                32247      32247   \n",
       "unique                     9        26274                32236        655   \n",
       "top                      AFA     18:03:40  2017-04-21 23:34:55  E05000649   \n",
       "freq                   11811            6                    2        623   \n",
       "\n",
       "       ward_name ward_name_new  \n",
       "count      32247         32247  \n",
       "unique       631           631  \n",
       "top     WEST END      WEST END  \n",
       "freq         623           623  \n",
       "\n",
       "[4 rows x 22 columns]"
>>>>>>> bb742c693ad06f365594b25715100e094584f039
      ]
     },
     "execution_count": 6,
     "metadata": {},
     "output_type": "execute_result"
    }
   ],
   "source": [
    "df.describe(include=['object', 'category'])"
   ]
  },
  {
   "cell_type": "markdown",
   "metadata": {},
   "source": [
    "From the above data we can already see that the ward_name and ward_name_new columns look extremely similar. Let's check"
   ]
  },
  {
   "cell_type": "code",
   "execution_count": 7,
   "metadata": {},
   "outputs": [
    {
     "data": {
      "text/plain": [
       "np.True_"
      ]
     },
     "execution_count": 7,
     "metadata": {},
     "output_type": "execute_result"
    }
   ],
   "source": [
    "(df[\"ward_name\"] == df[\"ward_name_new\"]).all()"
   ]
  },
  {
   "cell_type": "markdown",
   "metadata": {},
   "source": [
    "Since it's the same, we can delete one. We can also see that cal_year has a five number summary of 2017 and a std of 0, which means that it only has the value 2017 in it. This column does not provide any valuable insights for our model, there is no information gain, so we can safely delete it."
   ]
  },
  {
   "cell_type": "markdown",
   "metadata": {},
   "source": [
    "According to [https://www.llanellich.org.uk/] The UK Ordnance Survey grid is a grid of 100 kilometre squares with a true origin at 49° North and 2° West.  \n",
    "\n",
    "Eastings: How far east (right) a point is from the origin (measured in meters) - easting_m  \n",
    "Northings: How far north (up) a point is from the origin (measured in meters) - northing_m  \n",
    "\n",
    " Since we have two columns with no missing values rounded to 50 meters, namely easting_rounded and northing rounded, we can use these columns for our analysis and modelling instead of the original columns. The problem we are exploring does not explore effects of precise distances, like in the case of routing. Deleting these two columns as well."
   ]
  },
  {
   "cell_type": "code",
   "execution_count": 8,
   "metadata": {},
   "outputs": [],
   "source": [
    "df.drop(columns=[\"ward_name_new\", \"cal_year\", \"easting_m\", \"northing_m\"], inplace=True)"
   ]
  },
  {
   "cell_type": "markdown",
   "metadata": {},
   "source": [
    "borough_code, borough_name and proper_case are all indicators of the borough of each request. This creates redundancy, so it is better to just have one. Let's see if both the borough_name and proper_case are identical first."
   ]
  },
  {
   "cell_type": "code",
   "execution_count": 9,
   "metadata": {},
   "outputs": [
    {
     "data": {
      "text/plain": [
       "np.True_"
      ]
     },
     "execution_count": 9,
     "metadata": {},
     "output_type": "execute_result"
    }
   ],
   "source": [
    "(df['borough_name'].str.lower().eq(df['proper_case'].str.lower())).all()\n"
   ]
  },
  {
   "cell_type": "markdown",
   "metadata": {},
   "source": [
    "I will drop both borough_code and borough_name and rename proper_case to borough_name because it looks cleaner. I am also removing incident number since it has no predictive power."
   ]
  },
  {
   "cell_type": "code",
   "execution_count": 10,
   "metadata": {},
   "outputs": [],
   "source": [
    "df.drop(columns=[\"borough_code\", \"borough_name\", \"incident_number\"], inplace=True)\n",
    "df.rename(columns={\"proper_case\": \"borough_name\"}, inplace=True)"
   ]
  },
  {
   "cell_type": "markdown",
   "metadata": {},
   "source": [
    "By looking at a few records in incident_group and stop_code_description, we can see a lot of similar categorical variables, so it is possible that incident_group is a higher level abstraction of stop_code_description. This causes feature redundancy and it is better to just keep the more granular one(stop_code_description). To confirm the relationship we can check if stop_code_description fits within incident_group."
   ]
  },
  {
   "cell_type": "code",
   "execution_count": 11,
   "metadata": {},
   "outputs": [
    {
     "data": {
      "text/plain": [
       "stop_code_description\n",
       "AFA                                      1\n",
       "Chimney Fire                             1\n",
       "False alarm - Good intent                1\n",
       "False alarm - Malicious                  1\n",
       "Flood call attended - Batch mobilised    1\n",
       "Late Call                                1\n",
       "Primary Fire                             1\n",
       "Secondary Fire                           1\n",
       "Special Service                          1\n",
       "Name: incident_group, dtype: int64"
      ]
     },
     "execution_count": 11,
     "metadata": {},
     "output_type": "execute_result"
    }
   ],
   "source": [
    "df.groupby(\"stop_code_description\")[\"incident_group\"].nunique()"
   ]
  },
  {
   "cell_type": "markdown",
   "metadata": {},
   "source": [
    "Since there is exactly one incident group that corresponds to each stop code, we can confirm the relationship and safely remove incident group. We need to be careful with stop_code_description since it depends on the outcome, not on information known at the time of dispatch. The value is updated only after the incident is handled, which makes our model susceptible to target leakage. Considering this, it's probably better to get rid of that column as well."
   ]
  },
  {
   "cell_type": "code",
   "execution_count": 12,
   "metadata": {},
   "outputs": [],
   "source": [
    "df.drop(columns=[\"incident_group\", \"stop_code_description\"], inplace=True)"
   ]
  },
  {
   "cell_type": "code",
   "execution_count": 10,
   "metadata": {},
   "outputs": [
    {
     "name": "stdout",
     "output_type": "stream",
     "text": [
      "<class 'pandas.core.frame.DataFrame'>\n",
      "Index: 32247 entries, Within same building to Correct incident location\n",
      "Data columns (total 37 columns):\n",
      " #   Column                                      Non-Null Count  Dtype         \n",
      "---  ------                                      --------------  -----         \n",
      " 0   borough_code                                32247 non-null  object        \n",
      " 1   borough_name                                32247 non-null  object        \n",
      " 2   cal_year                                    32247 non-null  int64         \n",
      " 3   date_of_call                                32247 non-null  object        \n",
      " 4   easting_m                                   16836 non-null  float64       \n",
      " 5   easting_rounded                             32247 non-null  int64         \n",
      " 6   first_pump_arriving_attendance_time         30428 non-null  float64       \n",
      " 7   first_pump_arriving_deployed_from_station   30428 non-null  object        \n",
      " 8   frs                                         32247 non-null  object        \n",
      " 9   hour_of_call                                32247 non-null  int64         \n",
      " 10  incident_group                              32247 non-null  object        \n",
      " 11  incident_number                             32247 non-null  object        \n",
      " 12  incident_station_ground                     32247 non-null  object        \n",
      " 13  northing_m                                  16836 non-null  float64       \n",
      " 14  northing_rounded                            32247 non-null  int64         \n",
      " 15  num_pumps_attending                         32179 non-null  float64       \n",
      " 16  num_stations_with_pumps_attending           32179 non-null  float64       \n",
      " 17  postcode_district                           32247 non-null  object        \n",
      " 18  postcode_full                               16836 non-null  object        \n",
      " 19  proper_case                                 32247 non-null  object        \n",
      " 20  property_category                           32247 non-null  object        \n",
      " 21  property_type                               32247 non-null  object        \n",
      " 22  second_pump_arriving_attendance_time        11966 non-null  float64       \n",
      " 23  second_pump_arriving_deployed_from_station  11966 non-null  object        \n",
      " 24  special_service_type                        10081 non-null  object        \n",
      " 25  stop_code_description                       32247 non-null  object        \n",
      " 26  time_of_call                                32247 non-null  object        \n",
      " 27  timestamp_of_call                           32247 non-null  object        \n",
      " 28  ward_code                                   32247 non-null  object        \n",
      " 29  ward_name                                   32247 non-null  object        \n",
      " 30  ward_name_new                               32247 non-null  object        \n",
      " 31  DateTime                                    32247 non-null  datetime64[ns]\n",
      " 32  year                                        32247 non-null  int32         \n",
      " 33  month                                       32247 non-null  int32         \n",
      " 34  day                                         32247 non-null  int32         \n",
      " 35  weekday                                     32247 non-null  int32         \n",
      " 36  hour                                        32247 non-null  int32         \n",
      "dtypes: datetime64[ns](1), float64(6), int32(5), int64(4), object(21)\n",
      "memory usage: 8.7+ MB\n"
     ]
    }
   ],
   "source": [
    "df.info()"
   ]
  },
  {
   "cell_type": "markdown",
   "metadata": {},
   "source": [
    "FEATURE ENGINEERING"
   ]
  },
  {
   "cell_type": "markdown",
   "metadata": {},
   "source": [
    "1. Temporal feature extraction"
   ]
  },
  {
   "cell_type": "code",
   "execution_count": 7,
   "metadata": {},
   "outputs": [
    {
     "name": "stdout",
     "output_type": "stream",
     "text": [
      "                          date_of_call time_of_call            DateTime\n",
      "address_qualifier                                                      \n",
      "Within same building        2017-01-20     08:57:38 2017-01-20 08:57:38\n",
      "Within same building        2017-04-21     17:42:29 2017-04-21 17:42:29\n",
      "Correct incident location   2017-01-20     18:21:32 2017-01-20 18:21:32\n",
      "Within same building        2017-03-07     11:27:50 2017-03-07 11:27:50\n",
      "Correct incident location   2017-02-04     17:31:10 2017-02-04 17:31:10\n"
     ]
    }
   ],
   "source": [
    "df['DateTime'] = pd.to_datetime(df['date_of_call'] + ' ' + df['time_of_call'],\n",
    "                                errors='coerce')\n",
    "print(df[['date_of_call', 'time_of_call', 'DateTime']].head())"
   ]
  },
  {
   "cell_type": "code",
   "execution_count": 9,
   "metadata": {},
   "outputs": [],
   "source": [
    "df['year'] = df['DateTime'].dt.year\n",
    "df['month'] = df['DateTime'].dt.month\n",
    "df['day'] = df['DateTime'].dt.day\n",
    "df['weekday'] = df['DateTime'].dt.dayofweek #0() to 6()\n",
    "df['hour'] = df['DateTime'].dt.hour"
   ]
  }
 ],
 "metadata": {
  "kernelspec": {
   "display_name": "base",
   "language": "python",
   "name": "python3"
  },
  "language_info": {
   "codemirror_mode": {
    "name": "ipython",
    "version": 3
   },
   "file_extension": ".py",
   "mimetype": "text/x-python",
   "name": "python",
   "nbconvert_exporter": "python",
   "pygments_lexer": "ipython3",
   "version": "3.12.7"
  }
 },
 "nbformat": 4,
 "nbformat_minor": 2
}
