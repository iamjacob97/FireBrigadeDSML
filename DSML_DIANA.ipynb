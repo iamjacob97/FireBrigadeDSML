{
 "cells": [
  {
   "cell_type": "markdown",
   "metadata": {},
   "source": [
    "Basic Imports"
   ]
  },
  {
   "cell_type": "code",
   "execution_count": 43,
   "metadata": {},
   "outputs": [
    {
     "name": "stdout",
     "output_type": "stream",
     "text": [
      "Requirement already satisfied: pyproj in /opt/anaconda3/lib/python3.12/site-packages (3.7.1)\n",
      "Requirement already satisfied: certifi in /opt/anaconda3/lib/python3.12/site-packages (from pyproj) (2025.1.31)\n",
      "Requirement already satisfied: geopandas in /opt/anaconda3/lib/python3.12/site-packages (1.0.1)\n",
      "Requirement already satisfied: numpy>=1.22 in /opt/anaconda3/lib/python3.12/site-packages (from geopandas) (1.26.4)\n",
      "Requirement already satisfied: pyogrio>=0.7.2 in /opt/anaconda3/lib/python3.12/site-packages (from geopandas) (0.10.0)\n",
      "Requirement already satisfied: packaging in /opt/anaconda3/lib/python3.12/site-packages (from geopandas) (24.1)\n",
      "Requirement already satisfied: pandas>=1.4.0 in /opt/anaconda3/lib/python3.12/site-packages (from geopandas) (2.2.2)\n",
      "Requirement already satisfied: pyproj>=3.3.0 in /opt/anaconda3/lib/python3.12/site-packages (from geopandas) (3.7.1)\n",
      "Requirement already satisfied: shapely>=2.0.0 in /opt/anaconda3/lib/python3.12/site-packages (from geopandas) (2.1.0)\n",
      "Requirement already satisfied: python-dateutil>=2.8.2 in /opt/anaconda3/lib/python3.12/site-packages (from pandas>=1.4.0->geopandas) (2.9.0.post0)\n",
      "Requirement already satisfied: pytz>=2020.1 in /opt/anaconda3/lib/python3.12/site-packages (from pandas>=1.4.0->geopandas) (2024.1)\n",
      "Requirement already satisfied: tzdata>=2022.7 in /opt/anaconda3/lib/python3.12/site-packages (from pandas>=1.4.0->geopandas) (2023.3)\n",
      "Requirement already satisfied: certifi in /opt/anaconda3/lib/python3.12/site-packages (from pyogrio>=0.7.2->geopandas) (2025.1.31)\n",
      "Requirement already satisfied: six>=1.5 in /opt/anaconda3/lib/python3.12/site-packages (from python-dateutil>=2.8.2->pandas>=1.4.0->geopandas) (1.16.0)\n"
     ]
    }
   ],
   "source": [
    "!pip install pyproj\n",
    "!pip install geopandas"
   ]
  },
  {
   "cell_type": "markdown",
   "metadata": {},
   "source": [
    "Import the libraries"
   ]
  },
  {
   "cell_type": "code",
   "execution_count": 44,
   "metadata": {},
   "outputs": [],
   "source": [
    "import numpy as np\n",
    "import pandas as pd\n",
    "import matplotlib.pyplot as plt\n",
    "import pyproj #coordinate transformation library - for converting easting and northing to latitude and longitude\n",
    "import geopandas as gpd\n",
    "from shapely.geometry import Point\n",
    "import seaborn as sns\n",
    "import matplotlib.pyplot as plt\n"
   ]
  },
  {
   "cell_type": "markdown",
   "metadata": {},
   "source": [
    "LOAD THE DATA"
   ]
  },
  {
   "cell_type": "code",
   "execution_count": 45,
   "metadata": {},
   "outputs": [
    {
     "data": {
      "application/vnd.microsoft.datawrangler.viewer.v0+json": {
       "columns": [
        {
         "name": "index",
         "rawType": "int64",
         "type": "integer"
        },
        {
         "name": "address_qualifier",
         "rawType": "object",
         "type": "string"
        },
        {
         "name": "borough_code",
         "rawType": "object",
         "type": "string"
        },
        {
         "name": "borough_name",
         "rawType": "object",
         "type": "string"
        },
        {
         "name": "cal_year",
         "rawType": "int64",
         "type": "integer"
        },
        {
         "name": "date_of_call",
         "rawType": "object",
         "type": "string"
        },
        {
         "name": "easting_m",
         "rawType": "float64",
         "type": "float"
        },
        {
         "name": "easting_rounded",
         "rawType": "int64",
         "type": "integer"
        },
        {
         "name": "first_pump_arriving_attendance_time",
         "rawType": "float64",
         "type": "float"
        },
        {
         "name": "first_pump_arriving_deployed_from_station",
         "rawType": "object",
         "type": "unknown"
        },
        {
         "name": "frs",
         "rawType": "object",
         "type": "string"
        },
        {
         "name": "hour_of_call",
         "rawType": "int64",
         "type": "integer"
        },
        {
         "name": "incident_group",
         "rawType": "object",
         "type": "string"
        },
        {
         "name": "incident_number",
         "rawType": "object",
         "type": "string"
        },
        {
         "name": "incident_station_ground",
         "rawType": "object",
         "type": "string"
        },
        {
         "name": "northing_m",
         "rawType": "float64",
         "type": "float"
        },
        {
         "name": "northing_rounded",
         "rawType": "int64",
         "type": "integer"
        },
        {
         "name": "num_pumps_attending",
         "rawType": "float64",
         "type": "float"
        },
        {
         "name": "num_stations_with_pumps_attending",
         "rawType": "float64",
         "type": "float"
        },
        {
         "name": "postcode_district",
         "rawType": "object",
         "type": "string"
        },
        {
         "name": "postcode_full",
         "rawType": "object",
         "type": "unknown"
        },
        {
         "name": "proper_case",
         "rawType": "object",
         "type": "string"
        },
        {
         "name": "property_category",
         "rawType": "object",
         "type": "string"
        },
        {
         "name": "property_type",
         "rawType": "object",
         "type": "string"
        },
        {
         "name": "second_pump_arriving_attendance_time",
         "rawType": "float64",
         "type": "float"
        },
        {
         "name": "second_pump_arriving_deployed_from_station",
         "rawType": "object",
         "type": "unknown"
        },
        {
         "name": "special_service_type",
         "rawType": "object",
         "type": "unknown"
        },
        {
         "name": "stop_code_description",
         "rawType": "object",
         "type": "string"
        },
        {
         "name": "time_of_call",
         "rawType": "object",
         "type": "string"
        },
        {
         "name": "timestamp_of_call",
         "rawType": "object",
         "type": "string"
        },
        {
         "name": "ward_code",
         "rawType": "object",
         "type": "string"
        },
        {
         "name": "ward_name",
         "rawType": "object",
         "type": "string"
        },
        {
         "name": "ward_name_new",
         "rawType": "object",
         "type": "string"
        }
       ],
       "conversionMethod": "pd.DataFrame",
       "ref": "291ba532-a877-4cac-86f4-f5db78c3b259",
       "rows": [
        [
         "0",
         "Within same building",
         "E09000007",
         "CAMDEN",
         "2017",
         "2017-01-20",
         "529459.0",
         "529450",
         "359.0",
         "Euston",
         "London",
         "8",
         "False Alarm",
         "008148-20012017",
         "Euston",
         "182009.0",
         "182050",
         "1.0",
         "1.0",
         "W1T",
         "W1T 7PD",
         "Camden",
         "Non Residential",
         "Purpose built office",
         null,
         null,
         null,
         "AFA",
         "08:57:38",
         "2017-01-20 08:57:38",
         "E05000129",
         "BLOOMSBURY",
         "BLOOMSBURY"
        ],
        [
         "1",
         "Within same building",
         "E09000025",
         "NEWHAM",
         "2017",
         "2017-04-21",
         null,
         "539650",
         "211.0",
         "Stratford",
         "London",
         "17",
         "Special Service",
         "049659-21042017",
         "Stratford",
         null,
         "183750",
         "1.0",
         "1.0",
         "E15",
         null,
         "Newham",
         "Dwelling",
         "Purpose Built Flats/Maisonettes - Up to 3 storeys",
         null,
         null,
         "No action (not false alarm)",
         "Special Service",
         "17:42:29",
         "2017-04-21 17:42:29",
         "E05000494",
         "WEST HAM",
         "WEST HAM"
        ],
        [
         "2",
         "Correct incident location",
         "E09000031",
         "WALTHAM FOREST",
         "2017",
         "2017-01-20",
         "536990.0",
         "536950",
         null,
         null,
         "London",
         "18",
         "Special Service",
         "008388-20012017",
         "Walthamstow",
         "189395.0",
         "189350",
         "1.0",
         "1.0",
         "E17",
         "E17 6RH",
         "Waltham Forest",
         "Non Residential",
         "Local Government Office",
         null,
         null,
         "Lift Release",
         "Special Service",
         "18:21:32",
         "2017-01-20 18:21:32",
         "E05000608",
         "WILLIAM MORRIS",
         "WILLIAM MORRIS"
        ],
        [
         "3",
         "Within same building",
         "E09000009",
         "EALING",
         "2017",
         "2017-03-07",
         "516686.0",
         "516650",
         "295.0",
         "Ealing",
         "London",
         "11",
         "Special Service",
         "027895-07032017",
         "Ealing",
         "180225.0",
         "180250",
         "2.0",
         "2.0",
         "W13",
         "W13 9YN",
         "Ealing",
         "Non Residential",
         "Underground car park",
         "660.0",
         "Southall",
         "Hazardous Materials incident",
         "Special Service",
         "11:27:50",
         "2017-03-07 11:27:50",
         "E05000192",
         "WALPOLE",
         "WALPOLE"
        ],
        [
         "4",
         "Correct incident location",
         "E09000032",
         "WANDSWORTH",
         "2017",
         "2017-02-04",
         "524266.0",
         "524250",
         "533.0",
         "Battersea",
         "London",
         "17",
         "Special Service",
         "014772-04022017",
         "Wandsworth",
         "174973.0",
         "174950",
         "1.0",
         "1.0",
         "SW15",
         "SW15 2SP",
         "Wandsworth",
         "Non Residential",
         "Pub/wine bar/bar",
         null,
         null,
         "Medical Incident - Co-responder",
         "Special Service",
         "17:31:10",
         "2017-02-04 17:31:10",
         "E05000625",
         "THAMESFIELD",
         "THAMESFIELD"
        ]
       ],
       "shape": {
        "columns": 32,
        "rows": 5
       }
      },
      "text/html": [
       "<div>\n",
       "<style scoped>\n",
       "    .dataframe tbody tr th:only-of-type {\n",
       "        vertical-align: middle;\n",
       "    }\n",
       "\n",
       "    .dataframe tbody tr th {\n",
       "        vertical-align: top;\n",
       "    }\n",
       "\n",
       "    .dataframe thead th {\n",
       "        text-align: right;\n",
       "    }\n",
       "</style>\n",
       "<table border=\"1\" class=\"dataframe\">\n",
       "  <thead>\n",
       "    <tr style=\"text-align: right;\">\n",
       "      <th></th>\n",
       "      <th>address_qualifier</th>\n",
       "      <th>borough_code</th>\n",
       "      <th>borough_name</th>\n",
       "      <th>cal_year</th>\n",
       "      <th>date_of_call</th>\n",
       "      <th>easting_m</th>\n",
       "      <th>easting_rounded</th>\n",
       "      <th>first_pump_arriving_attendance_time</th>\n",
       "      <th>first_pump_arriving_deployed_from_station</th>\n",
       "      <th>frs</th>\n",
       "      <th>...</th>\n",
       "      <th>property_type</th>\n",
       "      <th>second_pump_arriving_attendance_time</th>\n",
       "      <th>second_pump_arriving_deployed_from_station</th>\n",
       "      <th>special_service_type</th>\n",
       "      <th>stop_code_description</th>\n",
       "      <th>time_of_call</th>\n",
       "      <th>timestamp_of_call</th>\n",
       "      <th>ward_code</th>\n",
       "      <th>ward_name</th>\n",
       "      <th>ward_name_new</th>\n",
       "    </tr>\n",
       "  </thead>\n",
       "  <tbody>\n",
       "    <tr>\n",
       "      <th>0</th>\n",
       "      <td>Within same building</td>\n",
       "      <td>E09000007</td>\n",
       "      <td>CAMDEN</td>\n",
       "      <td>2017</td>\n",
       "      <td>2017-01-20</td>\n",
       "      <td>529459.0</td>\n",
       "      <td>529450</td>\n",
       "      <td>359.0</td>\n",
       "      <td>Euston</td>\n",
       "      <td>London</td>\n",
       "      <td>...</td>\n",
       "      <td>Purpose built office</td>\n",
       "      <td>NaN</td>\n",
       "      <td>NaN</td>\n",
       "      <td>NaN</td>\n",
       "      <td>AFA</td>\n",
       "      <td>08:57:38</td>\n",
       "      <td>2017-01-20 08:57:38</td>\n",
       "      <td>E05000129</td>\n",
       "      <td>BLOOMSBURY</td>\n",
       "      <td>BLOOMSBURY</td>\n",
       "    </tr>\n",
       "    <tr>\n",
       "      <th>1</th>\n",
       "      <td>Within same building</td>\n",
       "      <td>E09000025</td>\n",
       "      <td>NEWHAM</td>\n",
       "      <td>2017</td>\n",
       "      <td>2017-04-21</td>\n",
       "      <td>NaN</td>\n",
       "      <td>539650</td>\n",
       "      <td>211.0</td>\n",
       "      <td>Stratford</td>\n",
       "      <td>London</td>\n",
       "      <td>...</td>\n",
       "      <td>Purpose Built Flats/Maisonettes - Up to 3 storeys</td>\n",
       "      <td>NaN</td>\n",
       "      <td>NaN</td>\n",
       "      <td>No action (not false alarm)</td>\n",
       "      <td>Special Service</td>\n",
       "      <td>17:42:29</td>\n",
       "      <td>2017-04-21 17:42:29</td>\n",
       "      <td>E05000494</td>\n",
       "      <td>WEST HAM</td>\n",
       "      <td>WEST HAM</td>\n",
       "    </tr>\n",
       "    <tr>\n",
       "      <th>2</th>\n",
       "      <td>Correct incident location</td>\n",
       "      <td>E09000031</td>\n",
       "      <td>WALTHAM FOREST</td>\n",
       "      <td>2017</td>\n",
       "      <td>2017-01-20</td>\n",
       "      <td>536990.0</td>\n",
       "      <td>536950</td>\n",
       "      <td>NaN</td>\n",
       "      <td>NaN</td>\n",
       "      <td>London</td>\n",
       "      <td>...</td>\n",
       "      <td>Local Government Office</td>\n",
       "      <td>NaN</td>\n",
       "      <td>NaN</td>\n",
       "      <td>Lift Release</td>\n",
       "      <td>Special Service</td>\n",
       "      <td>18:21:32</td>\n",
       "      <td>2017-01-20 18:21:32</td>\n",
       "      <td>E05000608</td>\n",
       "      <td>WILLIAM MORRIS</td>\n",
       "      <td>WILLIAM MORRIS</td>\n",
       "    </tr>\n",
       "    <tr>\n",
       "      <th>3</th>\n",
       "      <td>Within same building</td>\n",
       "      <td>E09000009</td>\n",
       "      <td>EALING</td>\n",
       "      <td>2017</td>\n",
       "      <td>2017-03-07</td>\n",
       "      <td>516686.0</td>\n",
       "      <td>516650</td>\n",
       "      <td>295.0</td>\n",
       "      <td>Ealing</td>\n",
       "      <td>London</td>\n",
       "      <td>...</td>\n",
       "      <td>Underground car park</td>\n",
       "      <td>660.0</td>\n",
       "      <td>Southall</td>\n",
       "      <td>Hazardous Materials incident</td>\n",
       "      <td>Special Service</td>\n",
       "      <td>11:27:50</td>\n",
       "      <td>2017-03-07 11:27:50</td>\n",
       "      <td>E05000192</td>\n",
       "      <td>WALPOLE</td>\n",
       "      <td>WALPOLE</td>\n",
       "    </tr>\n",
       "    <tr>\n",
       "      <th>4</th>\n",
       "      <td>Correct incident location</td>\n",
       "      <td>E09000032</td>\n",
       "      <td>WANDSWORTH</td>\n",
       "      <td>2017</td>\n",
       "      <td>2017-02-04</td>\n",
       "      <td>524266.0</td>\n",
       "      <td>524250</td>\n",
       "      <td>533.0</td>\n",
       "      <td>Battersea</td>\n",
       "      <td>London</td>\n",
       "      <td>...</td>\n",
       "      <td>Pub/wine bar/bar</td>\n",
       "      <td>NaN</td>\n",
       "      <td>NaN</td>\n",
       "      <td>Medical Incident - Co-responder</td>\n",
       "      <td>Special Service</td>\n",
       "      <td>17:31:10</td>\n",
       "      <td>2017-02-04 17:31:10</td>\n",
       "      <td>E05000625</td>\n",
       "      <td>THAMESFIELD</td>\n",
       "      <td>THAMESFIELD</td>\n",
       "    </tr>\n",
       "  </tbody>\n",
       "</table>\n",
       "<p>5 rows × 32 columns</p>\n",
       "</div>"
      ],
      "text/plain": [
       "           address_qualifier borough_code    borough_name  cal_year  \\\n",
       "0       Within same building    E09000007          CAMDEN      2017   \n",
       "1       Within same building    E09000025          NEWHAM      2017   \n",
       "2  Correct incident location    E09000031  WALTHAM FOREST      2017   \n",
       "3       Within same building    E09000009          EALING      2017   \n",
       "4  Correct incident location    E09000032      WANDSWORTH      2017   \n",
       "\n",
       "  date_of_call  easting_m  easting_rounded  \\\n",
       "0   2017-01-20   529459.0           529450   \n",
       "1   2017-04-21        NaN           539650   \n",
       "2   2017-01-20   536990.0           536950   \n",
       "3   2017-03-07   516686.0           516650   \n",
       "4   2017-02-04   524266.0           524250   \n",
       "\n",
       "   first_pump_arriving_attendance_time  \\\n",
       "0                                359.0   \n",
       "1                                211.0   \n",
       "2                                  NaN   \n",
       "3                                295.0   \n",
       "4                                533.0   \n",
       "\n",
       "  first_pump_arriving_deployed_from_station     frs  ...  \\\n",
       "0                                    Euston  London  ...   \n",
       "1                                 Stratford  London  ...   \n",
       "2                                       NaN  London  ...   \n",
       "3                                    Ealing  London  ...   \n",
       "4                                 Battersea  London  ...   \n",
       "\n",
       "                                       property_type  \\\n",
       "0                               Purpose built office   \n",
       "1  Purpose Built Flats/Maisonettes - Up to 3 storeys   \n",
       "2                            Local Government Office   \n",
       "3                               Underground car park   \n",
       "4                                   Pub/wine bar/bar   \n",
       "\n",
       "  second_pump_arriving_attendance_time  \\\n",
       "0                                  NaN   \n",
       "1                                  NaN   \n",
       "2                                  NaN   \n",
       "3                                660.0   \n",
       "4                                  NaN   \n",
       "\n",
       "  second_pump_arriving_deployed_from_station             special_service_type  \\\n",
       "0                                        NaN                              NaN   \n",
       "1                                        NaN      No action (not false alarm)   \n",
       "2                                        NaN                     Lift Release   \n",
       "3                                   Southall     Hazardous Materials incident   \n",
       "4                                        NaN  Medical Incident - Co-responder   \n",
       "\n",
       "   stop_code_description  time_of_call    timestamp_of_call  ward_code  \\\n",
       "0                    AFA      08:57:38  2017-01-20 08:57:38  E05000129   \n",
       "1        Special Service      17:42:29  2017-04-21 17:42:29  E05000494   \n",
       "2        Special Service      18:21:32  2017-01-20 18:21:32  E05000608   \n",
       "3        Special Service      11:27:50  2017-03-07 11:27:50  E05000192   \n",
       "4        Special Service      17:31:10  2017-02-04 17:31:10  E05000625   \n",
       "\n",
       "        ward_name   ward_name_new  \n",
       "0      BLOOMSBURY      BLOOMSBURY  \n",
       "1        WEST HAM        WEST HAM  \n",
       "2  WILLIAM MORRIS  WILLIAM MORRIS  \n",
       "3         WALPOLE         WALPOLE  \n",
       "4     THAMESFIELD     THAMESFIELD  \n",
       "\n",
       "[5 rows x 32 columns]"
      ]
     },
     "execution_count": 45,
     "metadata": {},
     "output_type": "execute_result"
    }
   ],
   "source": [
    "df = pd.read_csv(\"london_fire_brigade_service_calls.csv\")\n",
    "df.head()"
   ]
  },
  {
   "cell_type": "markdown",
   "metadata": {},
   "source": [
    "Descriptive Statistics"
   ]
  },
  {
   "cell_type": "code",
   "execution_count": 46,
   "metadata": {},
   "outputs": [
    {
     "name": "stdout",
     "output_type": "stream",
     "text": [
      "<class 'pandas.core.frame.DataFrame'>\n",
      "RangeIndex: 32247 entries, 0 to 32246\n",
      "Data columns (total 32 columns):\n",
      " #   Column                                      Non-Null Count  Dtype  \n",
      "---  ------                                      --------------  -----  \n",
      " 0   address_qualifier                           32247 non-null  object \n",
      " 1   borough_code                                32247 non-null  object \n",
      " 2   borough_name                                32247 non-null  object \n",
      " 3   cal_year                                    32247 non-null  int64  \n",
      " 4   date_of_call                                32247 non-null  object \n",
      " 5   easting_m                                   16836 non-null  float64\n",
      " 6   easting_rounded                             32247 non-null  int64  \n",
      " 7   first_pump_arriving_attendance_time         30428 non-null  float64\n",
      " 8   first_pump_arriving_deployed_from_station   30428 non-null  object \n",
      " 9   frs                                         32247 non-null  object \n",
      " 10  hour_of_call                                32247 non-null  int64  \n",
      " 11  incident_group                              32247 non-null  object \n",
      " 12  incident_number                             32247 non-null  object \n",
      " 13  incident_station_ground                     32247 non-null  object \n",
      " 14  northing_m                                  16836 non-null  float64\n",
      " 15  northing_rounded                            32247 non-null  int64  \n",
      " 16  num_pumps_attending                         32179 non-null  float64\n",
      " 17  num_stations_with_pumps_attending           32179 non-null  float64\n",
      " 18  postcode_district                           32247 non-null  object \n",
      " 19  postcode_full                               16836 non-null  object \n",
      " 20  proper_case                                 32247 non-null  object \n",
      " 21  property_category                           32247 non-null  object \n",
      " 22  property_type                               32247 non-null  object \n",
      " 23  second_pump_arriving_attendance_time        11966 non-null  float64\n",
      " 24  second_pump_arriving_deployed_from_station  11966 non-null  object \n",
      " 25  special_service_type                        10081 non-null  object \n",
      " 26  stop_code_description                       32247 non-null  object \n",
      " 27  time_of_call                                32247 non-null  object \n",
      " 28  timestamp_of_call                           32247 non-null  object \n",
      " 29  ward_code                                   32247 non-null  object \n",
      " 30  ward_name                                   32247 non-null  object \n",
      " 31  ward_name_new                               32247 non-null  object \n",
      "dtypes: float64(6), int64(4), object(22)\n",
      "memory usage: 7.9+ MB\n"
     ]
    }
   ],
   "source": [
    "df.info()"
   ]
  },
  {
   "cell_type": "code",
   "execution_count": 47,
   "metadata": {},
   "outputs": [
    {
     "data": {
      "application/vnd.microsoft.datawrangler.viewer.v0+json": {
       "columns": [
        {
         "name": "index",
         "rawType": "object",
         "type": "string"
        },
        {
         "name": "cal_year",
         "rawType": "float64",
         "type": "float"
        },
        {
         "name": "easting_m",
         "rawType": "float64",
         "type": "float"
        },
        {
         "name": "easting_rounded",
         "rawType": "float64",
         "type": "float"
        },
        {
         "name": "first_pump_arriving_attendance_time",
         "rawType": "float64",
         "type": "float"
        },
        {
         "name": "hour_of_call",
         "rawType": "float64",
         "type": "float"
        },
        {
         "name": "northing_m",
         "rawType": "float64",
         "type": "float"
        },
        {
         "name": "northing_rounded",
         "rawType": "float64",
         "type": "float"
        },
        {
         "name": "num_pumps_attending",
         "rawType": "float64",
         "type": "float"
        },
        {
         "name": "num_stations_with_pumps_attending",
         "rawType": "float64",
         "type": "float"
        },
        {
         "name": "second_pump_arriving_attendance_time",
         "rawType": "float64",
         "type": "float"
        }
       ],
       "conversionMethod": "pd.DataFrame",
       "ref": "d75b815a-8406-4437-930e-bb332e898a22",
       "rows": [
        [
         "count",
         "32247.0",
         "16836.0",
         "32247.0",
         "30428.0",
         "32247.0",
         "16836.0",
         "32247.0",
         "32179.0",
         "32179.0",
         "11966.0"
        ],
        [
         "mean",
         "2017.0",
         "530667.8285816108",
         "530641.1743728098",
         "318.2303799132378",
         "13.465221570998853",
         "180366.9583630316",
         "180429.5019691754",
         "1.5363746542776344",
         "1.3565368718729607",
         "399.0822329934815"
        ],
        [
         "std",
         "0.0",
         "10436.093084587197",
         "9855.434366906149",
         "136.38457052598136",
         "6.15273852372323",
         "7534.304838721388",
         "7446.092420873193",
         "0.7412483458150128",
         "0.6113998875681272",
         "153.42691384634608"
        ],
        [
         "min",
         "2017.0",
         "493654.0",
         "492450.0",
         "2.0",
         "0.0",
         "152868.0",
         "152850.0",
         "1.0",
         "1.0",
         "4.0"
        ],
        [
         "25%",
         "2017.0",
         "525061.0",
         "525150.0",
         "232.0",
         "9.0",
         "175863.0",
         "175950.0",
         "1.0",
         "1.0",
         "299.0"
        ],
        [
         "50%",
         "2017.0",
         "530716.0",
         "530850.0",
         "298.0",
         "14.0",
         "180962.0",
         "180950.0",
         "1.0",
         "1.0",
         "372.0"
        ],
        [
         "75%",
         "2017.0",
         "536994.5",
         "536450.0",
         "379.0",
         "18.0",
         "185018.25",
         "185150.0",
         "2.0",
         "2.0",
         "464.0"
        ],
        [
         "max",
         "2017.0",
         "560804.0",
         "563150.0",
         "1196.0",
         "23.0",
         "204891.0",
         "224250.0",
         "7.0",
         "6.0",
         "1195.0"
        ]
       ],
       "shape": {
        "columns": 10,
        "rows": 8
       }
      },
      "text/html": [
       "<div>\n",
       "<style scoped>\n",
       "    .dataframe tbody tr th:only-of-type {\n",
       "        vertical-align: middle;\n",
       "    }\n",
       "\n",
       "    .dataframe tbody tr th {\n",
       "        vertical-align: top;\n",
       "    }\n",
       "\n",
       "    .dataframe thead th {\n",
       "        text-align: right;\n",
       "    }\n",
       "</style>\n",
       "<table border=\"1\" class=\"dataframe\">\n",
       "  <thead>\n",
       "    <tr style=\"text-align: right;\">\n",
       "      <th></th>\n",
       "      <th>cal_year</th>\n",
       "      <th>easting_m</th>\n",
       "      <th>easting_rounded</th>\n",
       "      <th>first_pump_arriving_attendance_time</th>\n",
       "      <th>hour_of_call</th>\n",
       "      <th>northing_m</th>\n",
       "      <th>northing_rounded</th>\n",
       "      <th>num_pumps_attending</th>\n",
       "      <th>num_stations_with_pumps_attending</th>\n",
       "      <th>second_pump_arriving_attendance_time</th>\n",
       "    </tr>\n",
       "  </thead>\n",
       "  <tbody>\n",
       "    <tr>\n",
       "      <th>count</th>\n",
       "      <td>32247.0</td>\n",
       "      <td>16836.000000</td>\n",
       "      <td>32247.000000</td>\n",
       "      <td>30428.000000</td>\n",
       "      <td>32247.000000</td>\n",
       "      <td>16836.000000</td>\n",
       "      <td>32247.000000</td>\n",
       "      <td>32179.000000</td>\n",
       "      <td>32179.000000</td>\n",
       "      <td>11966.000000</td>\n",
       "    </tr>\n",
       "    <tr>\n",
       "      <th>mean</th>\n",
       "      <td>2017.0</td>\n",
       "      <td>530667.828582</td>\n",
       "      <td>530641.174373</td>\n",
       "      <td>318.230380</td>\n",
       "      <td>13.465222</td>\n",
       "      <td>180366.958363</td>\n",
       "      <td>180429.501969</td>\n",
       "      <td>1.536375</td>\n",
       "      <td>1.356537</td>\n",
       "      <td>399.082233</td>\n",
       "    </tr>\n",
       "    <tr>\n",
       "      <th>std</th>\n",
       "      <td>0.0</td>\n",
       "      <td>10436.093085</td>\n",
       "      <td>9855.434367</td>\n",
       "      <td>136.384571</td>\n",
       "      <td>6.152739</td>\n",
       "      <td>7534.304839</td>\n",
       "      <td>7446.092421</td>\n",
       "      <td>0.741248</td>\n",
       "      <td>0.611400</td>\n",
       "      <td>153.426914</td>\n",
       "    </tr>\n",
       "    <tr>\n",
       "      <th>min</th>\n",
       "      <td>2017.0</td>\n",
       "      <td>493654.000000</td>\n",
       "      <td>492450.000000</td>\n",
       "      <td>2.000000</td>\n",
       "      <td>0.000000</td>\n",
       "      <td>152868.000000</td>\n",
       "      <td>152850.000000</td>\n",
       "      <td>1.000000</td>\n",
       "      <td>1.000000</td>\n",
       "      <td>4.000000</td>\n",
       "    </tr>\n",
       "    <tr>\n",
       "      <th>25%</th>\n",
       "      <td>2017.0</td>\n",
       "      <td>525061.000000</td>\n",
       "      <td>525150.000000</td>\n",
       "      <td>232.000000</td>\n",
       "      <td>9.000000</td>\n",
       "      <td>175863.000000</td>\n",
       "      <td>175950.000000</td>\n",
       "      <td>1.000000</td>\n",
       "      <td>1.000000</td>\n",
       "      <td>299.000000</td>\n",
       "    </tr>\n",
       "    <tr>\n",
       "      <th>50%</th>\n",
       "      <td>2017.0</td>\n",
       "      <td>530716.000000</td>\n",
       "      <td>530850.000000</td>\n",
       "      <td>298.000000</td>\n",
       "      <td>14.000000</td>\n",
       "      <td>180962.000000</td>\n",
       "      <td>180950.000000</td>\n",
       "      <td>1.000000</td>\n",
       "      <td>1.000000</td>\n",
       "      <td>372.000000</td>\n",
       "    </tr>\n",
       "    <tr>\n",
       "      <th>75%</th>\n",
       "      <td>2017.0</td>\n",
       "      <td>536994.500000</td>\n",
       "      <td>536450.000000</td>\n",
       "      <td>379.000000</td>\n",
       "      <td>18.000000</td>\n",
       "      <td>185018.250000</td>\n",
       "      <td>185150.000000</td>\n",
       "      <td>2.000000</td>\n",
       "      <td>2.000000</td>\n",
       "      <td>464.000000</td>\n",
       "    </tr>\n",
       "    <tr>\n",
       "      <th>max</th>\n",
       "      <td>2017.0</td>\n",
       "      <td>560804.000000</td>\n",
       "      <td>563150.000000</td>\n",
       "      <td>1196.000000</td>\n",
       "      <td>23.000000</td>\n",
       "      <td>204891.000000</td>\n",
       "      <td>224250.000000</td>\n",
       "      <td>7.000000</td>\n",
       "      <td>6.000000</td>\n",
       "      <td>1195.000000</td>\n",
       "    </tr>\n",
       "  </tbody>\n",
       "</table>\n",
       "</div>"
      ],
      "text/plain": [
       "       cal_year      easting_m  easting_rounded  \\\n",
       "count   32247.0   16836.000000     32247.000000   \n",
       "mean     2017.0  530667.828582    530641.174373   \n",
       "std         0.0   10436.093085      9855.434367   \n",
       "min      2017.0  493654.000000    492450.000000   \n",
       "25%      2017.0  525061.000000    525150.000000   \n",
       "50%      2017.0  530716.000000    530850.000000   \n",
       "75%      2017.0  536994.500000    536450.000000   \n",
       "max      2017.0  560804.000000    563150.000000   \n",
       "\n",
       "       first_pump_arriving_attendance_time  hour_of_call     northing_m  \\\n",
       "count                         30428.000000  32247.000000   16836.000000   \n",
       "mean                            318.230380     13.465222  180366.958363   \n",
       "std                             136.384571      6.152739    7534.304839   \n",
       "min                               2.000000      0.000000  152868.000000   \n",
       "25%                             232.000000      9.000000  175863.000000   \n",
       "50%                             298.000000     14.000000  180962.000000   \n",
       "75%                             379.000000     18.000000  185018.250000   \n",
       "max                            1196.000000     23.000000  204891.000000   \n",
       "\n",
       "       northing_rounded  num_pumps_attending  \\\n",
       "count      32247.000000         32179.000000   \n",
       "mean      180429.501969             1.536375   \n",
       "std         7446.092421             0.741248   \n",
       "min       152850.000000             1.000000   \n",
       "25%       175950.000000             1.000000   \n",
       "50%       180950.000000             1.000000   \n",
       "75%       185150.000000             2.000000   \n",
       "max       224250.000000             7.000000   \n",
       "\n",
       "       num_stations_with_pumps_attending  second_pump_arriving_attendance_time  \n",
       "count                       32179.000000                          11966.000000  \n",
       "mean                            1.356537                            399.082233  \n",
       "std                             0.611400                            153.426914  \n",
       "min                             1.000000                              4.000000  \n",
       "25%                             1.000000                            299.000000  \n",
       "50%                             1.000000                            372.000000  \n",
       "75%                             2.000000                            464.000000  \n",
       "max                             6.000000                           1195.000000  "
      ]
     },
     "execution_count": 47,
     "metadata": {},
     "output_type": "execute_result"
    }
   ],
   "source": [
    "df.describe()"
   ]
  },
  {
   "cell_type": "code",
   "execution_count": 48,
   "metadata": {},
   "outputs": [
    {
     "name": "stdout",
     "output_type": "stream",
     "text": [
      "Missing Values:\n",
      "address_qualifier                                 0\n",
      "borough_code                                      0\n",
      "borough_name                                      0\n",
      "cal_year                                          0\n",
      "date_of_call                                      0\n",
      "easting_m                                     15411\n",
      "easting_rounded                                   0\n",
      "first_pump_arriving_attendance_time            1819\n",
      "first_pump_arriving_deployed_from_station      1819\n",
      "frs                                               0\n",
      "hour_of_call                                      0\n",
      "incident_group                                    0\n",
      "incident_number                                   0\n",
      "incident_station_ground                           0\n",
      "northing_m                                    15411\n",
      "northing_rounded                                  0\n",
      "num_pumps_attending                              68\n",
      "num_stations_with_pumps_attending                68\n",
      "postcode_district                                 0\n",
      "postcode_full                                 15411\n",
      "proper_case                                       0\n",
      "property_category                                 0\n",
      "property_type                                     0\n",
      "second_pump_arriving_attendance_time          20281\n",
      "second_pump_arriving_deployed_from_station    20281\n",
      "special_service_type                          22166\n",
      "stop_code_description                             0\n",
      "time_of_call                                      0\n",
      "timestamp_of_call                                 0\n",
      "ward_code                                         0\n",
      "ward_name                                         0\n",
      "ward_name_new                                     0\n",
      "dtype: int64\n"
     ]
    }
   ],
   "source": [
    "print(\"Missing Values:\")\n",
    "print(df.isnull().sum())"
   ]
  },
  {
   "cell_type": "code",
   "execution_count": 49,
   "metadata": {},
   "outputs": [
    {
     "data": {
      "application/vnd.microsoft.datawrangler.viewer.v0+json": {
       "columns": [
        {
         "name": "index",
         "rawType": "object",
         "type": "string"
        },
        {
         "name": "address_qualifier",
         "rawType": "object",
         "type": "unknown"
        },
        {
         "name": "borough_code",
         "rawType": "object",
         "type": "unknown"
        },
        {
         "name": "borough_name",
         "rawType": "object",
         "type": "unknown"
        },
        {
         "name": "date_of_call",
         "rawType": "object",
         "type": "unknown"
        },
        {
         "name": "first_pump_arriving_deployed_from_station",
         "rawType": "object",
         "type": "unknown"
        },
        {
         "name": "frs",
         "rawType": "object",
         "type": "unknown"
        },
        {
         "name": "incident_group",
         "rawType": "object",
         "type": "unknown"
        },
        {
         "name": "incident_number",
         "rawType": "object",
         "type": "unknown"
        },
        {
         "name": "incident_station_ground",
         "rawType": "object",
         "type": "unknown"
        },
        {
         "name": "postcode_district",
         "rawType": "object",
         "type": "unknown"
        },
        {
         "name": "postcode_full",
         "rawType": "object",
         "type": "unknown"
        },
        {
         "name": "proper_case",
         "rawType": "object",
         "type": "unknown"
        },
        {
         "name": "property_category",
         "rawType": "object",
         "type": "unknown"
        },
        {
         "name": "property_type",
         "rawType": "object",
         "type": "unknown"
        },
        {
         "name": "second_pump_arriving_deployed_from_station",
         "rawType": "object",
         "type": "unknown"
        },
        {
         "name": "special_service_type",
         "rawType": "object",
         "type": "unknown"
        },
        {
         "name": "stop_code_description",
         "rawType": "object",
         "type": "unknown"
        },
        {
         "name": "time_of_call",
         "rawType": "object",
         "type": "unknown"
        },
        {
         "name": "timestamp_of_call",
         "rawType": "object",
         "type": "unknown"
        },
        {
         "name": "ward_code",
         "rawType": "object",
         "type": "unknown"
        },
        {
         "name": "ward_name",
         "rawType": "object",
         "type": "unknown"
        },
        {
         "name": "ward_name_new",
         "rawType": "object",
         "type": "unknown"
        }
       ],
       "conversionMethod": "pd.DataFrame",
       "ref": "bd04eb8d-e8a8-4d27-88cc-12cbd04cf980",
       "rows": [
        [
         "count",
         "32247",
         "32247",
         "32247",
         "32247",
         "30428",
         "32247",
         "32247",
         "32247",
         "32247",
         "32247",
         "16836",
         "32247",
         "32247",
         "32247",
         "11966",
         "10081",
         "32247",
         "32247",
         "32247",
         "32247",
         "32247",
         "32247"
        ],
        [
         "unique",
         "11",
         "34",
         "34",
         "120",
         "103",
         "2",
         "3",
         "32247",
         "103",
         "318",
         "11854",
         "34",
         "9",
         "260",
         "102",
         "21",
         "9",
         "26274",
         "32236",
         "655",
         "631",
         "631"
        ],
        [
         "top",
         "Correct incident location",
         "E09000033",
         "WESTMINSTER",
         "2017-02-23",
         "Soho",
         "London",
         "False Alarm",
         "008148-20012017",
         "Soho",
         "CR0",
         "NW3 2PF",
         "Westminster",
         "Dwelling",
         "Purpose Built Flats/Maisonettes - 4 to 9 storeys",
         "Soho",
         "Flooding",
         "AFA",
         "18:03:40",
         "2017-03-14 10:57:56",
         "E05000649",
         "WEST END",
         "WEST END"
        ],
        [
         "freq",
         "19267",
         "2469",
         "2469",
         "525",
         "1205",
         "32078",
         "15732",
         "1",
         "1247",
         "612",
         "36",
         "2469",
         "15240",
         "3823",
         "375",
         "2061",
         "11811",
         "6",
         "2",
         "623",
         "623",
         "623"
        ]
       ],
       "shape": {
        "columns": 22,
        "rows": 4
       }
      },
      "text/html": [
       "<div>\n",
       "<style scoped>\n",
       "    .dataframe tbody tr th:only-of-type {\n",
       "        vertical-align: middle;\n",
       "    }\n",
       "\n",
       "    .dataframe tbody tr th {\n",
       "        vertical-align: top;\n",
       "    }\n",
       "\n",
       "    .dataframe thead th {\n",
       "        text-align: right;\n",
       "    }\n",
       "</style>\n",
       "<table border=\"1\" class=\"dataframe\">\n",
       "  <thead>\n",
       "    <tr style=\"text-align: right;\">\n",
       "      <th></th>\n",
       "      <th>address_qualifier</th>\n",
       "      <th>borough_code</th>\n",
       "      <th>borough_name</th>\n",
       "      <th>date_of_call</th>\n",
       "      <th>first_pump_arriving_deployed_from_station</th>\n",
       "      <th>frs</th>\n",
       "      <th>incident_group</th>\n",
       "      <th>incident_number</th>\n",
       "      <th>incident_station_ground</th>\n",
       "      <th>postcode_district</th>\n",
       "      <th>...</th>\n",
       "      <th>property_category</th>\n",
       "      <th>property_type</th>\n",
       "      <th>second_pump_arriving_deployed_from_station</th>\n",
       "      <th>special_service_type</th>\n",
       "      <th>stop_code_description</th>\n",
       "      <th>time_of_call</th>\n",
       "      <th>timestamp_of_call</th>\n",
       "      <th>ward_code</th>\n",
       "      <th>ward_name</th>\n",
       "      <th>ward_name_new</th>\n",
       "    </tr>\n",
       "  </thead>\n",
       "  <tbody>\n",
       "    <tr>\n",
       "      <th>count</th>\n",
       "      <td>32247</td>\n",
       "      <td>32247</td>\n",
       "      <td>32247</td>\n",
       "      <td>32247</td>\n",
       "      <td>30428</td>\n",
       "      <td>32247</td>\n",
       "      <td>32247</td>\n",
       "      <td>32247</td>\n",
       "      <td>32247</td>\n",
       "      <td>32247</td>\n",
       "      <td>...</td>\n",
       "      <td>32247</td>\n",
       "      <td>32247</td>\n",
       "      <td>11966</td>\n",
       "      <td>10081</td>\n",
       "      <td>32247</td>\n",
       "      <td>32247</td>\n",
       "      <td>32247</td>\n",
       "      <td>32247</td>\n",
       "      <td>32247</td>\n",
       "      <td>32247</td>\n",
       "    </tr>\n",
       "    <tr>\n",
       "      <th>unique</th>\n",
       "      <td>11</td>\n",
       "      <td>34</td>\n",
       "      <td>34</td>\n",
       "      <td>120</td>\n",
       "      <td>103</td>\n",
       "      <td>2</td>\n",
       "      <td>3</td>\n",
       "      <td>32247</td>\n",
       "      <td>103</td>\n",
       "      <td>318</td>\n",
       "      <td>...</td>\n",
       "      <td>9</td>\n",
       "      <td>260</td>\n",
       "      <td>102</td>\n",
       "      <td>21</td>\n",
       "      <td>9</td>\n",
       "      <td>26274</td>\n",
       "      <td>32236</td>\n",
       "      <td>655</td>\n",
       "      <td>631</td>\n",
       "      <td>631</td>\n",
       "    </tr>\n",
       "    <tr>\n",
       "      <th>top</th>\n",
       "      <td>Correct incident location</td>\n",
       "      <td>E09000033</td>\n",
       "      <td>WESTMINSTER</td>\n",
       "      <td>2017-02-23</td>\n",
       "      <td>Soho</td>\n",
       "      <td>London</td>\n",
       "      <td>False Alarm</td>\n",
       "      <td>008148-20012017</td>\n",
       "      <td>Soho</td>\n",
       "      <td>CR0</td>\n",
       "      <td>...</td>\n",
       "      <td>Dwelling</td>\n",
       "      <td>Purpose Built Flats/Maisonettes - 4 to 9 storeys</td>\n",
       "      <td>Soho</td>\n",
       "      <td>Flooding</td>\n",
       "      <td>AFA</td>\n",
       "      <td>18:03:40</td>\n",
       "      <td>2017-03-14 10:57:56</td>\n",
       "      <td>E05000649</td>\n",
       "      <td>WEST END</td>\n",
       "      <td>WEST END</td>\n",
       "    </tr>\n",
       "    <tr>\n",
       "      <th>freq</th>\n",
       "      <td>19267</td>\n",
       "      <td>2469</td>\n",
       "      <td>2469</td>\n",
       "      <td>525</td>\n",
       "      <td>1205</td>\n",
       "      <td>32078</td>\n",
       "      <td>15732</td>\n",
       "      <td>1</td>\n",
       "      <td>1247</td>\n",
       "      <td>612</td>\n",
       "      <td>...</td>\n",
       "      <td>15240</td>\n",
       "      <td>3823</td>\n",
       "      <td>375</td>\n",
       "      <td>2061</td>\n",
       "      <td>11811</td>\n",
       "      <td>6</td>\n",
       "      <td>2</td>\n",
       "      <td>623</td>\n",
       "      <td>623</td>\n",
       "      <td>623</td>\n",
       "    </tr>\n",
       "  </tbody>\n",
       "</table>\n",
       "<p>4 rows × 22 columns</p>\n",
       "</div>"
      ],
      "text/plain": [
       "                address_qualifier borough_code borough_name date_of_call  \\\n",
       "count                       32247        32247        32247        32247   \n",
       "unique                         11           34           34          120   \n",
       "top     Correct incident location    E09000033  WESTMINSTER   2017-02-23   \n",
       "freq                        19267         2469         2469          525   \n",
       "\n",
       "       first_pump_arriving_deployed_from_station     frs incident_group  \\\n",
       "count                                      30428   32247          32247   \n",
       "unique                                       103       2              3   \n",
       "top                                         Soho  London    False Alarm   \n",
       "freq                                        1205   32078          15732   \n",
       "\n",
       "        incident_number incident_station_ground postcode_district  ...  \\\n",
       "count             32247                   32247             32247  ...   \n",
       "unique            32247                     103               318  ...   \n",
       "top     008148-20012017                    Soho               CR0  ...   \n",
       "freq                  1                    1247               612  ...   \n",
       "\n",
       "       property_category                                     property_type  \\\n",
       "count              32247                                             32247   \n",
       "unique                 9                                               260   \n",
       "top             Dwelling  Purpose Built Flats/Maisonettes - 4 to 9 storeys   \n",
       "freq               15240                                              3823   \n",
       "\n",
       "       second_pump_arriving_deployed_from_station special_service_type  \\\n",
       "count                                       11966                10081   \n",
       "unique                                        102                   21   \n",
       "top                                          Soho             Flooding   \n",
       "freq                                          375                 2061   \n",
       "\n",
       "       stop_code_description time_of_call    timestamp_of_call  ward_code  \\\n",
       "count                  32247        32247                32247      32247   \n",
       "unique                     9        26274                32236        655   \n",
       "top                      AFA     18:03:40  2017-03-14 10:57:56  E05000649   \n",
       "freq                   11811            6                    2        623   \n",
       "\n",
       "       ward_name ward_name_new  \n",
       "count      32247         32247  \n",
       "unique       631           631  \n",
       "top     WEST END      WEST END  \n",
       "freq         623           623  \n",
       "\n",
       "[4 rows x 22 columns]"
      ]
     },
     "execution_count": 49,
     "metadata": {},
     "output_type": "execute_result"
    }
   ],
   "source": [
    "df.describe(include=['object', 'category'])"
   ]
  },
  {
   "cell_type": "markdown",
   "metadata": {},
   "source": [
    "From the above data we can already see that the ward_name and ward_name_new columns look extremely similar. Let's check"
   ]
  },
  {
   "cell_type": "code",
   "execution_count": 50,
   "metadata": {},
   "outputs": [
    {
     "data": {
      "text/plain": [
       "True"
      ]
     },
     "execution_count": 50,
     "metadata": {},
     "output_type": "execute_result"
    }
   ],
   "source": [
    "#To compare elements in both columns\n",
    "(df[\"ward_name\"] == df[\"ward_name_new\"]).all()"
   ]
  },
  {
   "cell_type": "markdown",
   "metadata": {},
   "source": [
    "The above is a confirmation of similarity, therefore we drop one of the columns; ward_name_new"
   ]
  },
  {
   "cell_type": "markdown",
   "metadata": {},
   "source": [
    "Similarly, we see that cal_year has a five number summary of 2017 and a std of 0, which means that it only has the value 2017 in it. This column does not provide any valuable insights for our model, there is no information gain, so we can safely delete it."
   ]
  },
  {
   "cell_type": "markdown",
   "metadata": {},
   "source": [
    "According to [https://www.llanellich.org.uk/] The UK Ordnance Survey grid is a grid of 100 kilometre squares with a true origin at 49° North and 2° West.  \n",
    "\n",
    "Eastings: How far east (right) a point is from the origin (measured in meters) - easting_m  \n",
    "Northings: How far north (up) a point is from the origin (measured in meters) - northing_m  \n",
    "\n",
    " Since we have two columns with no missing values rounded to 50 meters, namely easting_rounded and northing rounded, we can use these columns for our analysis and modelling instead of the original columns. The problem we are exploring does not explore effects of precise distances, like in the case of routing. Deleting these two columns as well."
   ]
  },
  {
   "cell_type": "code",
   "execution_count": 51,
   "metadata": {},
   "outputs": [],
   "source": [
    "df.drop(columns=[\"ward_name_new\", \"cal_year\", \"easting_m\", \"northing_m\"], inplace=True)"
   ]
  },
  {
   "cell_type": "code",
   "execution_count": 52,
   "metadata": {},
   "outputs": [],
   "source": [
    "df.drop(columns=['ward_code'], inplace=True)"
   ]
  },
  {
   "cell_type": "markdown",
   "metadata": {},
   "source": [
    "borough_code, borough_name and proper_case are all indicators of the borough of each request. This creates redundancy, so it is better to just have one. Let's see if both the borough_name and proper_case are identical first."
   ]
  },
  {
   "cell_type": "code",
   "execution_count": 53,
   "metadata": {},
   "outputs": [
    {
     "data": {
      "text/plain": [
       "True"
      ]
     },
     "execution_count": 53,
     "metadata": {},
     "output_type": "execute_result"
    }
   ],
   "source": [
    "(df['borough_name'].str.lower().eq(df['proper_case'].str.lower())).all()\n"
   ]
  },
  {
   "cell_type": "markdown",
   "metadata": {},
   "source": [
    "Therefore, we drop both borough_code and borough_name and rename proper_case to borough_name because it looks cleaner. \n",
    "\n",
    "We remove incident_number since it has no predictive power."
   ]
  },
  {
   "cell_type": "code",
   "execution_count": 54,
   "metadata": {},
   "outputs": [],
   "source": [
    "df.drop(columns=[\"borough_code\", \"borough_name\", \"incident_number\"], inplace=True)\n",
    "df.rename(columns={\"proper_case\": \"borough_name\"}, inplace=True)"
   ]
  },
  {
   "cell_type": "markdown",
   "metadata": {},
   "source": [
    "By looking at a few records in incident_group and stop_code_description, we can see a lot of similar categorical variables, so it is possible that incident_group is a higher level abstraction of stop_code_description. This causes feature redundancy and it is better to just keep the more granular one(stop_code_description). To confirm the relationship we can check if stop_code_description fits within incident_group."
   ]
  },
  {
   "cell_type": "code",
   "execution_count": 55,
   "metadata": {},
   "outputs": [
    {
     "data": {
      "text/plain": [
       "stop_code_description\n",
       "AFA                                      1\n",
       "Chimney Fire                             1\n",
       "False alarm - Good intent                1\n",
       "False alarm - Malicious                  1\n",
       "Flood call attended - Batch mobilised    1\n",
       "Late Call                                1\n",
       "Primary Fire                             1\n",
       "Secondary Fire                           1\n",
       "Special Service                          1\n",
       "Name: incident_group, dtype: int64"
      ]
     },
     "execution_count": 55,
     "metadata": {},
     "output_type": "execute_result"
    }
   ],
   "source": [
    "df.groupby(\"stop_code_description\")[\"incident_group\"].nunique()"
   ]
  },
  {
   "cell_type": "markdown",
   "metadata": {},
   "source": [
    "Since there is exactly one incident group that corresponds to each stop code, we can confirm the relationship and safely remove incident group. For future reference, we need to be careful with stop_code_description since it depends on the outcome, not on information known at the time of dispatch. The value is updated only after the incident is handled, which makes our model susceptible to target leakage."
   ]
  },
  {
   "cell_type": "code",
   "execution_count": 56,
   "metadata": {},
   "outputs": [],
   "source": [
    "df.drop(columns=[\"incident_group\"], inplace=True)"
   ]
  },
  {
   "cell_type": "markdown",
   "metadata": {},
   "source": [
    "It seems as though easting_m, first_pump_arriving_attendance_time, first_pump_arriving_deployed_from_station, northing_m, num_pumps_attending, num_stations_with_pumps_attending, postcode_full"
   ]
  },
  {
   "cell_type": "code",
   "execution_count": 57,
   "metadata": {},
   "outputs": [
    {
     "name": "stdout",
     "output_type": "stream",
     "text": [
      "\n",
      "Percentage of missing values in each column:\n"
     ]
    },
    {
     "data": {
      "text/plain": [
       "first_pump_arriving_attendance_time            5.640835\n",
       "first_pump_arriving_deployed_from_station      5.640835\n",
       "num_pumps_attending                            0.210872\n",
       "num_stations_with_pumps_attending              0.210872\n",
       "postcode_full                                 47.790492\n",
       "second_pump_arriving_attendance_time          62.892672\n",
       "second_pump_arriving_deployed_from_station    62.892672\n",
       "special_service_type                          68.738177\n",
       "dtype: float64"
      ]
     },
     "metadata": {},
     "output_type": "display_data"
    }
   ],
   "source": [
    "#checking for missing values within each column in my dataset\n",
    "# percentage of missing values in each column\n",
    "missing_values = df.isnull().mean() * 100\n",
    "print(\"\\nPercentage of missing values in each column:\")\n",
    "display(missing_values[missing_values > 0])"
   ]
  },
  {
   "cell_type": "markdown",
   "metadata": {},
   "source": [
    "The missing values for second pump data are not random - they represent situations where only one pump was needed. This is valuable information about incident severity"
   ]
  },
  {
   "cell_type": "markdown",
   "metadata": {},
   "source": [
    "The missingness itself is informative for the second pump columns. It tells us that the incident only required one pump, which indicates lower severity. By creating a feature that captures this information, you preserve the relationship between incident severity and response requirements."
   ]
  },
  {
   "cell_type": "code",
   "execution_count": 58,
   "metadata": {},
   "outputs": [
    {
     "name": "stdout",
     "output_type": "stream",
     "text": [
      "count    11966.000000\n",
      "mean       399.082233\n",
      "std        153.426914\n",
      "min          4.000000\n",
      "25%        299.000000\n",
      "50%        372.000000\n",
      "75%        464.000000\n",
      "max       1195.000000\n",
      "Name: second_pump_arriving_attendance_time, dtype: float64\n",
      "20281\n"
     ]
    }
   ],
   "source": [
    "print(df['second_pump_arriving_attendance_time'].describe())\n",
    "print(df['second_pump_arriving_deployed_from_station'].isnull().sum())"
   ]
  },
  {
   "cell_type": "code",
   "execution_count": 59,
   "metadata": {},
   "outputs": [
    {
     "data": {
      "image/png": "[encoded data removed]",
      "text/plain": [
       "<Figure size 640x480 with 1 Axes>"
      ]
     },
     "metadata": {},
     "output_type": "display_data"
    }
   ],
   "source": [
    "#check for outliers \n",
    "\n",
    "plt.hist(df['second_pump_arriving_attendance_time'].dropna(), bins=30)\n",
    "plt.title(\"Distribution of Second Pump Response Times\")\n",
    "plt.xlabel(\"Response Time (minutes)\")\n",
    "plt.ylabel(\"Frequency\")\n",
    "plt.show()"
   ]
  },
  {
   "cell_type": "markdown",
   "metadata": {},
   "source": [
    "we decided to use domain expertise knowledge and put a capping instead to filter out the outliers"
   ]
  },
  {
   "cell_type": "markdown",
   "metadata": {},
   "source": [
    "A comparison with first pump data"
   ]
  },
  {
   "cell_type": "code",
   "execution_count": 81,
   "metadata": {},
   "outputs": [
    {
     "name": "stdout",
     "output_type": "stream",
     "text": [
      "Inconsistent records (second pump faster than first): 95\n"
     ]
    }
   ],
   "source": [
    "\n",
    "difference= df['first_pump_arriving_attendance_time'].notnull() & df['second_pump_arriving_attendance_time'].notnull()\n",
    "\n",
    "#Check if any second pump times are less than the first pump times\n",
    "inconsistent = df[difference & (df['second_pump_arriving_attendance_time'] < df['first_pump_arriving_attendance_time'])]\n",
    "print(\"Inconsistent records (second pump faster than first):\", inconsistent.shape[0])\n"
   ]
  },
  {
   "cell_type": "code",
   "execution_count": 82,
   "metadata": {},
   "outputs": [
    {
     "name": "stdout",
     "output_type": "stream",
     "text": [
      "                      address_qualifier date_of_call  easting  \\\n",
      "89                 Within same building   2017-04-25   533750   \n",
      "160           Correct incident location   2017-02-13   529050   \n",
      "212           Correct incident location   2017-03-23   527150   \n",
      "887    On land associated with building   2017-04-30   524450   \n",
      "950           Correct incident location   2017-04-29   525950   \n",
      "...                                 ...          ...      ...   \n",
      "31000              Within same building   2017-04-25   534350   \n",
      "31141         Correct incident location   2017-02-12   535050   \n",
      "31551         Correct incident location   2017-01-13   533450   \n",
      "31564              Within same building   2017-03-06   530850   \n",
      "31892         Correct incident location   2017-03-03   530050   \n",
      "\n",
      "       first_pump_arriving_attendance_time  \\\n",
      "89                                   540.0   \n",
      "160                                  291.0   \n",
      "212                                  313.0   \n",
      "887                                  386.0   \n",
      "950                                  384.0   \n",
      "...                                    ...   \n",
      "31000                                519.0   \n",
      "31141                                304.0   \n",
      "31551                                165.0   \n",
      "31564                                 85.0   \n",
      "31892                                199.0   \n",
      "\n",
      "      first_pump_arriving_deployed_from_station     frs  hour_of_call  \\\n",
      "89                                Old Kent Road  London            16   \n",
      "160                                        Soho  London             7   \n",
      "212                                     Clapham  London            20   \n",
      "887                            North Kensington  London            12   \n",
      "950                                      Barnet  London            22   \n",
      "...                                         ...     ...           ...   \n",
      "31000                              West Norwood  London            21   \n",
      "31141                           Stoke Newington  London             8   \n",
      "31551                                  Dockhead  London             1   \n",
      "31564                                   Norbury  London            18   \n",
      "31892                                    Purley  London            15   \n",
      "\n",
      "      incident_station_ground  northing  num_pumps_attending  ...  \\\n",
      "89                    Peckham    177150                  2.0  ...   \n",
      "160                      Soho    181350                  2.0  ...   \n",
      "212                 Battersea    175850                  4.0  ...   \n",
      "887          North Kensington    182850                  3.0  ...   \n",
      "950                  Finchley    192550                  2.0  ...   \n",
      "...                       ...       ...                  ...  ...   \n",
      "31000                Woodside    168250                  3.0  ...   \n",
      "31141         Stoke Newington    187250                  3.0  ...   \n",
      "31551           Old Kent Road    179150                  3.0  ...   \n",
      "31564                 Norbury    169250                  2.0  ...   \n",
      "31892                  Purley    159850                  3.0  ...   \n",
      "\n",
      "           stop_code_description time_of_call    timestamp_of_call  \\\n",
      "89                           AFA     16:56:36  2017-04-25 16:56:36   \n",
      "160    False alarm - Good intent     07:57:18  2017-02-13 07:57:18   \n",
      "212                 Primary Fire     20:42:36  2017-03-23 20:42:36   \n",
      "887               Secondary Fire     12:37:57  2017-04-30 12:37:57   \n",
      "950                          AFA     22:29:15  2017-04-29 22:29:15   \n",
      "...                          ...          ...                  ...   \n",
      "31000                        AFA     21:26:20  2017-04-25 21:26:20   \n",
      "31141            Special Service     08:48:04  2017-02-12 08:48:04   \n",
      "31551                        AFA     01:42:43  2017-01-13 01:42:43   \n",
      "31564            Special Service     18:39:48  2017-03-06 18:39:48   \n",
      "31892               Primary Fire     15:25:49  2017-03-03 15:25:49   \n",
      "\n",
      "           ward_name time_between_pumps second_pump_deployed  \\\n",
      "89           PECKHAM              -35.0                    1   \n",
      "160         WEST END              -32.0                    1   \n",
      "212        LATCHMERE              -38.0                    1   \n",
      "887     QUEEN'S PARK             -127.0                    1   \n",
      "950       TOTTERIDGE              -42.0                    1   \n",
      "...              ...                ...                  ...   \n",
      "31000       WOODSIDE             -114.0                    1   \n",
      "31141    SPRINGFIELD             -158.0                    1   \n",
      "31551         GRANGE              -89.0                    1   \n",
      "31564        NORBURY              -66.0                    1   \n",
      "31892  COULSDON WEST             -192.0                    1   \n",
      "\n",
      "       first_pump_arriving_attendance_time_capped longitude   latitude  \\\n",
      "89                                          540.0 -0.075435  51.477505   \n",
      "160                                         291.0 -0.141540  51.516340   \n",
      "212                                         313.0 -0.170887  51.467343   \n",
      "887                                         386.0 -0.207270  51.530852   \n",
      "950                                         384.0 -0.182182  51.617692   \n",
      "...                                           ...       ...        ...   \n",
      "31000                                       519.0 -0.070175  51.397384   \n",
      "31141                                       304.0 -0.052859  51.567958   \n",
      "31551                                       165.0 -0.078997  51.495549   \n",
      "31564                                        85.0 -0.120087  51.407188   \n",
      "31892                                       199.0 -0.135018  51.322895   \n",
      "\n",
      "                    geometry  \n",
      "89     POINT (533750 177150)  \n",
      "160    POINT (529050 181350)  \n",
      "212    POINT (527150 175850)  \n",
      "887    POINT (524450 182850)  \n",
      "950    POINT (525950 192550)  \n",
      "...                      ...  \n",
      "31000  POINT (534350 168250)  \n",
      "31141  POINT (535050 187250)  \n",
      "31551  POINT (533450 179150)  \n",
      "31564  POINT (530850 169250)  \n",
      "31892  POINT (530050 159850)  \n",
      "\n",
      "[95 rows x 29 columns]\n"
     ]
    }
   ],
   "source": [
    "print(inconsistent)"
   ]
  },
  {
   "cell_type": "markdown",
   "metadata": {},
   "source": [
    "We need to decide what to do with the inconsistent rows in the case where the second pump is faster than the first."
   ]
  },
  {
   "cell_type": "code",
   "execution_count": 83,
   "metadata": {},
   "outputs": [
    {
     "name": "stdout",
     "output_type": "stream",
     "text": [
      "0          NaN\n",
      "1          NaN\n",
      "3        365.0\n",
      "4          NaN\n",
      "5        101.0\n",
      "         ...  \n",
      "32242     47.0\n",
      "32243      NaN\n",
      "32244     89.0\n",
      "32245     38.0\n",
      "32246    195.0\n",
      "Name: time_between_pumps, Length: 30428, dtype: float64\n"
     ]
    }
   ],
   "source": [
    "#the time between the first and second pump arriving at the scene in seconds\n",
    "df['time_between_pumps'] = df['second_pump_arriving_attendance_time'] - df['first_pump_arriving_attendance_time']\n",
    "print (df['time_between_pumps'] )"
   ]
  },
  {
   "cell_type": "markdown",
   "metadata": {},
   "source": [
    "NaN's were left and not removed, reason for this is: To keep the missing values as is and use methods that can handle NaN values. This is the most accurate representation since there genuinely was no \"time between pumps\" for single-pump incidents."
   ]
  },
  {
   "cell_type": "markdown",
   "metadata": {},
   "source": [
    "Handling missing values for second_pump_arriving_deployed_from_station:\n",
    "If the values were missing this was because there was no second pump, this was done in order to preserve missingness information for second pump arrival."
   ]
  },
  {
   "cell_type": "code",
   "execution_count": 63,
   "metadata": {},
   "outputs": [],
   "source": [
    "#Creating a categorical feature that preserves the \"missingness\" information for second pump arriving\n",
    "#df['second_pump_arriving_deployed_from_station'] = df['second_pump_arriving_deployed_from_station'].fillna('No_Station')"
   ]
  },
  {
   "cell_type": "markdown",
   "metadata": {},
   "source": [
    "If the second pump time is missing, we can crate a flag. The missing second pump time is an indicator that the second pump is not required. Encoding to binary 0 and 1"
   ]
  },
  {
   "cell_type": "code",
   "execution_count": 84,
   "metadata": {},
   "outputs": [
    {
     "name": "stdout",
     "output_type": "stream",
     "text": [
      "0        0\n",
      "1        0\n",
      "3        1\n",
      "4        0\n",
      "5        1\n",
      "        ..\n",
      "32242    1\n",
      "32243    0\n",
      "32244    1\n",
      "32245    1\n",
      "32246    1\n",
      "Name: second_pump_deployed, Length: 30428, dtype: int64\n"
     ]
    }
   ],
   "source": [
    "# For the second pump time, if missing create a flag\n",
    "df['second_pump_deployed'] = df['second_pump_arriving_attendance_time'].notna().astype(int)\n",
    "print(df['second_pump_deployed'])"
   ]
  },
  {
   "cell_type": "code",
   "execution_count": 65,
   "metadata": {},
   "outputs": [
    {
     "data": {
      "application/vnd.microsoft.datawrangler.viewer.v0+json": {
       "columns": [
        {
         "name": "index",
         "rawType": "int64",
         "type": "integer"
        },
        {
         "name": "address_qualifier",
         "rawType": "object",
         "type": "string"
        },
        {
         "name": "date_of_call",
         "rawType": "object",
         "type": "string"
        },
        {
         "name": "easting_rounded",
         "rawType": "int64",
         "type": "integer"
        },
        {
         "name": "first_pump_arriving_attendance_time",
         "rawType": "float64",
         "type": "float"
        },
        {
         "name": "first_pump_arriving_deployed_from_station",
         "rawType": "object",
         "type": "unknown"
        },
        {
         "name": "frs",
         "rawType": "object",
         "type": "string"
        },
        {
         "name": "hour_of_call",
         "rawType": "int64",
         "type": "integer"
        },
        {
         "name": "incident_station_ground",
         "rawType": "object",
         "type": "string"
        },
        {
         "name": "northing_rounded",
         "rawType": "int64",
         "type": "integer"
        },
        {
         "name": "num_pumps_attending",
         "rawType": "float64",
         "type": "float"
        },
        {
         "name": "num_stations_with_pumps_attending",
         "rawType": "float64",
         "type": "float"
        },
        {
         "name": "postcode_district",
         "rawType": "object",
         "type": "string"
        },
        {
         "name": "postcode_full",
         "rawType": "object",
         "type": "unknown"
        },
        {
         "name": "borough_name",
         "rawType": "object",
         "type": "string"
        },
        {
         "name": "property_category",
         "rawType": "object",
         "type": "string"
        },
        {
         "name": "property_type",
         "rawType": "object",
         "type": "string"
        },
        {
         "name": "second_pump_arriving_attendance_time",
         "rawType": "float64",
         "type": "float"
        },
        {
         "name": "second_pump_arriving_deployed_from_station",
         "rawType": "object",
         "type": "unknown"
        },
        {
         "name": "special_service_type",
         "rawType": "object",
         "type": "unknown"
        },
        {
         "name": "stop_code_description",
         "rawType": "object",
         "type": "string"
        },
        {
         "name": "time_of_call",
         "rawType": "object",
         "type": "string"
        },
        {
         "name": "timestamp_of_call",
         "rawType": "object",
         "type": "string"
        },
        {
         "name": "ward_name",
         "rawType": "object",
         "type": "string"
        },
        {
         "name": "time_between_pumps",
         "rawType": "float64",
         "type": "float"
        },
        {
         "name": "second_pump_deployed",
         "rawType": "int64",
         "type": "integer"
        }
       ],
       "conversionMethod": "pd.DataFrame",
       "ref": "aeff3144-1556-4e58-b7ec-408af4294aa0",
       "rows": [
        [
         "0",
         "Within same building",
         "2017-01-20",
         "529450",
         "359.0",
         "Euston",
         "London",
         "8",
         "Euston",
         "182050",
         "1.0",
         "1.0",
         "W1T",
         "W1T 7PD",
         "Camden",
         "Non Residential",
         "Purpose built office",
         null,
         null,
         null,
         "AFA",
         "08:57:38",
         "2017-01-20 08:57:38",
         "BLOOMSBURY",
         null,
         "0"
        ],
        [
         "1",
         "Within same building",
         "2017-04-21",
         "539650",
         "211.0",
         "Stratford",
         "London",
         "17",
         "Stratford",
         "183750",
         "1.0",
         "1.0",
         "E15",
         null,
         "Newham",
         "Dwelling",
         "Purpose Built Flats/Maisonettes - Up to 3 storeys",
         null,
         null,
         "No action (not false alarm)",
         "Special Service",
         "17:42:29",
         "2017-04-21 17:42:29",
         "WEST HAM",
         null,
         "0"
        ],
        [
         "2",
         "Correct incident location",
         "2017-01-20",
         "536950",
         null,
         null,
         "London",
         "18",
         "Walthamstow",
         "189350",
         "1.0",
         "1.0",
         "E17",
         "E17 6RH",
         "Waltham Forest",
         "Non Residential",
         "Local Government Office",
         null,
         null,
         "Lift Release",
         "Special Service",
         "18:21:32",
         "2017-01-20 18:21:32",
         "WILLIAM MORRIS",
         null,
         "0"
        ],
        [
         "3",
         "Within same building",
         "2017-03-07",
         "516650",
         "295.0",
         "Ealing",
         "London",
         "11",
         "Ealing",
         "180250",
         "2.0",
         "2.0",
         "W13",
         "W13 9YN",
         "Ealing",
         "Non Residential",
         "Underground car park",
         "660.0",
         "Southall",
         "Hazardous Materials incident",
         "Special Service",
         "11:27:50",
         "2017-03-07 11:27:50",
         "WALPOLE",
         "365.0",
         "1"
        ],
        [
         "4",
         "Correct incident location",
         "2017-02-04",
         "524250",
         "533.0",
         "Battersea",
         "London",
         "17",
         "Wandsworth",
         "174950",
         "1.0",
         "1.0",
         "SW15",
         "SW15 2SP",
         "Wandsworth",
         "Non Residential",
         "Pub/wine bar/bar",
         null,
         null,
         "Medical Incident - Co-responder",
         "Special Service",
         "17:31:10",
         "2017-02-04 17:31:10",
         "THAMESFIELD",
         null,
         "0"
        ]
       ],
       "shape": {
        "columns": 25,
        "rows": 5
       }
      },
      "text/html": [
       "<div>\n",
       "<style scoped>\n",
       "    .dataframe tbody tr th:only-of-type {\n",
       "        vertical-align: middle;\n",
       "    }\n",
       "\n",
       "    .dataframe tbody tr th {\n",
       "        vertical-align: top;\n",
       "    }\n",
       "\n",
       "    .dataframe thead th {\n",
       "        text-align: right;\n",
       "    }\n",
       "</style>\n",
       "<table border=\"1\" class=\"dataframe\">\n",
       "  <thead>\n",
       "    <tr style=\"text-align: right;\">\n",
       "      <th></th>\n",
       "      <th>address_qualifier</th>\n",
       "      <th>date_of_call</th>\n",
       "      <th>easting_rounded</th>\n",
       "      <th>first_pump_arriving_attendance_time</th>\n",
       "      <th>first_pump_arriving_deployed_from_station</th>\n",
       "      <th>frs</th>\n",
       "      <th>hour_of_call</th>\n",
       "      <th>incident_station_ground</th>\n",
       "      <th>northing_rounded</th>\n",
       "      <th>num_pumps_attending</th>\n",
       "      <th>...</th>\n",
       "      <th>property_type</th>\n",
       "      <th>second_pump_arriving_attendance_time</th>\n",
       "      <th>second_pump_arriving_deployed_from_station</th>\n",
       "      <th>special_service_type</th>\n",
       "      <th>stop_code_description</th>\n",
       "      <th>time_of_call</th>\n",
       "      <th>timestamp_of_call</th>\n",
       "      <th>ward_name</th>\n",
       "      <th>time_between_pumps</th>\n",
       "      <th>second_pump_deployed</th>\n",
       "    </tr>\n",
       "  </thead>\n",
       "  <tbody>\n",
       "    <tr>\n",
       "      <th>0</th>\n",
       "      <td>Within same building</td>\n",
       "      <td>2017-01-20</td>\n",
       "      <td>529450</td>\n",
       "      <td>359.0</td>\n",
       "      <td>Euston</td>\n",
       "      <td>London</td>\n",
       "      <td>8</td>\n",
       "      <td>Euston</td>\n",
       "      <td>182050</td>\n",
       "      <td>1.0</td>\n",
       "      <td>...</td>\n",
       "      <td>Purpose built office</td>\n",
       "      <td>NaN</td>\n",
       "      <td>NaN</td>\n",
       "      <td>NaN</td>\n",
       "      <td>AFA</td>\n",
       "      <td>08:57:38</td>\n",
       "      <td>2017-01-20 08:57:38</td>\n",
       "      <td>BLOOMSBURY</td>\n",
       "      <td>NaN</td>\n",
       "      <td>0</td>\n",
       "    </tr>\n",
       "    <tr>\n",
       "      <th>1</th>\n",
       "      <td>Within same building</td>\n",
       "      <td>2017-04-21</td>\n",
       "      <td>539650</td>\n",
       "      <td>211.0</td>\n",
       "      <td>Stratford</td>\n",
       "      <td>London</td>\n",
       "      <td>17</td>\n",
       "      <td>Stratford</td>\n",
       "      <td>183750</td>\n",
       "      <td>1.0</td>\n",
       "      <td>...</td>\n",
       "      <td>Purpose Built Flats/Maisonettes - Up to 3 storeys</td>\n",
       "      <td>NaN</td>\n",
       "      <td>NaN</td>\n",
       "      <td>No action (not false alarm)</td>\n",
       "      <td>Special Service</td>\n",
       "      <td>17:42:29</td>\n",
       "      <td>2017-04-21 17:42:29</td>\n",
       "      <td>WEST HAM</td>\n",
       "      <td>NaN</td>\n",
       "      <td>0</td>\n",
       "    </tr>\n",
       "    <tr>\n",
       "      <th>2</th>\n",
       "      <td>Correct incident location</td>\n",
       "      <td>2017-01-20</td>\n",
       "      <td>536950</td>\n",
       "      <td>NaN</td>\n",
       "      <td>NaN</td>\n",
       "      <td>London</td>\n",
       "      <td>18</td>\n",
       "      <td>Walthamstow</td>\n",
       "      <td>189350</td>\n",
       "      <td>1.0</td>\n",
       "      <td>...</td>\n",
       "      <td>Local Government Office</td>\n",
       "      <td>NaN</td>\n",
       "      <td>NaN</td>\n",
       "      <td>Lift Release</td>\n",
       "      <td>Special Service</td>\n",
       "      <td>18:21:32</td>\n",
       "      <td>2017-01-20 18:21:32</td>\n",
       "      <td>WILLIAM MORRIS</td>\n",
       "      <td>NaN</td>\n",
       "      <td>0</td>\n",
       "    </tr>\n",
       "    <tr>\n",
       "      <th>3</th>\n",
       "      <td>Within same building</td>\n",
       "      <td>2017-03-07</td>\n",
       "      <td>516650</td>\n",
       "      <td>295.0</td>\n",
       "      <td>Ealing</td>\n",
       "      <td>London</td>\n",
       "      <td>11</td>\n",
       "      <td>Ealing</td>\n",
       "      <td>180250</td>\n",
       "      <td>2.0</td>\n",
       "      <td>...</td>\n",
       "      <td>Underground car park</td>\n",
       "      <td>660.0</td>\n",
       "      <td>Southall</td>\n",
       "      <td>Hazardous Materials incident</td>\n",
       "      <td>Special Service</td>\n",
       "      <td>11:27:50</td>\n",
       "      <td>2017-03-07 11:27:50</td>\n",
       "      <td>WALPOLE</td>\n",
       "      <td>365.0</td>\n",
       "      <td>1</td>\n",
       "    </tr>\n",
       "    <tr>\n",
       "      <th>4</th>\n",
       "      <td>Correct incident location</td>\n",
       "      <td>2017-02-04</td>\n",
       "      <td>524250</td>\n",
       "      <td>533.0</td>\n",
       "      <td>Battersea</td>\n",
       "      <td>London</td>\n",
       "      <td>17</td>\n",
       "      <td>Wandsworth</td>\n",
       "      <td>174950</td>\n",
       "      <td>1.0</td>\n",
       "      <td>...</td>\n",
       "      <td>Pub/wine bar/bar</td>\n",
       "      <td>NaN</td>\n",
       "      <td>NaN</td>\n",
       "      <td>Medical Incident - Co-responder</td>\n",
       "      <td>Special Service</td>\n",
       "      <td>17:31:10</td>\n",
       "      <td>2017-02-04 17:31:10</td>\n",
       "      <td>THAMESFIELD</td>\n",
       "      <td>NaN</td>\n",
       "      <td>0</td>\n",
       "    </tr>\n",
       "  </tbody>\n",
       "</table>\n",
       "<p>5 rows × 25 columns</p>\n",
       "</div>"
      ],
      "text/plain": [
       "           address_qualifier date_of_call  easting_rounded  \\\n",
       "0       Within same building   2017-01-20           529450   \n",
       "1       Within same building   2017-04-21           539650   \n",
       "2  Correct incident location   2017-01-20           536950   \n",
       "3       Within same building   2017-03-07           516650   \n",
       "4  Correct incident location   2017-02-04           524250   \n",
       "\n",
       "   first_pump_arriving_attendance_time  \\\n",
       "0                                359.0   \n",
       "1                                211.0   \n",
       "2                                  NaN   \n",
       "3                                295.0   \n",
       "4                                533.0   \n",
       "\n",
       "  first_pump_arriving_deployed_from_station     frs  hour_of_call  \\\n",
       "0                                    Euston  London             8   \n",
       "1                                 Stratford  London            17   \n",
       "2                                       NaN  London            18   \n",
       "3                                    Ealing  London            11   \n",
       "4                                 Battersea  London            17   \n",
       "\n",
       "  incident_station_ground  northing_rounded  num_pumps_attending  ...  \\\n",
       "0                  Euston            182050                  1.0  ...   \n",
       "1               Stratford            183750                  1.0  ...   \n",
       "2             Walthamstow            189350                  1.0  ...   \n",
       "3                  Ealing            180250                  2.0  ...   \n",
       "4              Wandsworth            174950                  1.0  ...   \n",
       "\n",
       "                                       property_type  \\\n",
       "0                               Purpose built office   \n",
       "1  Purpose Built Flats/Maisonettes - Up to 3 storeys   \n",
       "2                            Local Government Office   \n",
       "3                               Underground car park   \n",
       "4                                   Pub/wine bar/bar   \n",
       "\n",
       "  second_pump_arriving_attendance_time  \\\n",
       "0                                  NaN   \n",
       "1                                  NaN   \n",
       "2                                  NaN   \n",
       "3                                660.0   \n",
       "4                                  NaN   \n",
       "\n",
       "  second_pump_arriving_deployed_from_station             special_service_type  \\\n",
       "0                                        NaN                              NaN   \n",
       "1                                        NaN      No action (not false alarm)   \n",
       "2                                        NaN                     Lift Release   \n",
       "3                                   Southall     Hazardous Materials incident   \n",
       "4                                        NaN  Medical Incident - Co-responder   \n",
       "\n",
       "  stop_code_description time_of_call    timestamp_of_call       ward_name  \\\n",
       "0                   AFA     08:57:38  2017-01-20 08:57:38      BLOOMSBURY   \n",
       "1       Special Service     17:42:29  2017-04-21 17:42:29        WEST HAM   \n",
       "2       Special Service     18:21:32  2017-01-20 18:21:32  WILLIAM MORRIS   \n",
       "3       Special Service     11:27:50  2017-03-07 11:27:50         WALPOLE   \n",
       "4       Special Service     17:31:10  2017-02-04 17:31:10     THAMESFIELD   \n",
       "\n",
       "  time_between_pumps second_pump_deployed  \n",
       "0                NaN                    0  \n",
       "1                NaN                    0  \n",
       "2                NaN                    0  \n",
       "3              365.0                    1  \n",
       "4                NaN                    0  \n",
       "\n",
       "[5 rows x 25 columns]"
      ]
     },
     "execution_count": 65,
     "metadata": {},
     "output_type": "execute_result"
    }
   ],
   "source": [
    "df.head()"
   ]
  },
  {
   "cell_type": "markdown",
   "metadata": {},
   "source": [
    "Renaming of easting_rounded, northing_rounded to easting and northing respectively to make it clear they are the primary coordinates."
   ]
  },
  {
   "cell_type": "code",
   "execution_count": 66,
   "metadata": {},
   "outputs": [],
   "source": [
    "\n",
    "df.rename(columns={\n",
    "    'easting_rounded': 'easting',\n",
    "    'northing_rounded': 'northing'\n",
    "}, inplace=True)"
   ]
  },
  {
   "cell_type": "markdown",
   "metadata": {},
   "source": [
    "The rows containing 'Nan' values for first_pump_arriving_attendence_time were removed this is because we coudn't make sense of why the values were missing, and also the num_pumps_attending column still contained values, however no pumps were deployed so we couldnt figure out why this was case.\n",
    "\n",
    "The greatest concern was how pumps can be counted as attending if there's no record of their arrival time? The was need to investigate this.\n",
    "\n",
    "There were several possible explanations for this inconsistency:\n",
    "- Data recording errors.\n",
    "- Incidents where pumps were dispatched but then recalled before arriving.\n",
    "- Special administrative cases where pumps were \"assigned\" but didn't physically respond.\n",
    "- Incidents that were handed off to other agencies."
   ]
  },
  {
   "cell_type": "code",
   "execution_count": 67,
   "metadata": {},
   "outputs": [
    {
     "data": {
      "application/vnd.microsoft.datawrangler.viewer.v0+json": {
       "columns": [
        {
         "name": "index",
         "rawType": "int64",
         "type": "integer"
        },
        {
         "name": "address_qualifier",
         "rawType": "object",
         "type": "string"
        },
        {
         "name": "date_of_call",
         "rawType": "object",
         "type": "string"
        },
        {
         "name": "easting",
         "rawType": "int64",
         "type": "integer"
        },
        {
         "name": "first_pump_arriving_attendance_time",
         "rawType": "float64",
         "type": "float"
        },
        {
         "name": "first_pump_arriving_deployed_from_station",
         "rawType": "object",
         "type": "unknown"
        },
        {
         "name": "frs",
         "rawType": "object",
         "type": "string"
        },
        {
         "name": "hour_of_call",
         "rawType": "int64",
         "type": "integer"
        },
        {
         "name": "incident_station_ground",
         "rawType": "object",
         "type": "string"
        },
        {
         "name": "northing",
         "rawType": "int64",
         "type": "integer"
        },
        {
         "name": "num_pumps_attending",
         "rawType": "float64",
         "type": "float"
        },
        {
         "name": "num_stations_with_pumps_attending",
         "rawType": "float64",
         "type": "float"
        },
        {
         "name": "postcode_district",
         "rawType": "object",
         "type": "string"
        },
        {
         "name": "postcode_full",
         "rawType": "object",
         "type": "unknown"
        },
        {
         "name": "borough_name",
         "rawType": "object",
         "type": "string"
        },
        {
         "name": "property_category",
         "rawType": "object",
         "type": "string"
        },
        {
         "name": "property_type",
         "rawType": "object",
         "type": "string"
        },
        {
         "name": "second_pump_arriving_attendance_time",
         "rawType": "float64",
         "type": "float"
        },
        {
         "name": "second_pump_arriving_deployed_from_station",
         "rawType": "object",
         "type": "unknown"
        },
        {
         "name": "special_service_type",
         "rawType": "object",
         "type": "unknown"
        },
        {
         "name": "stop_code_description",
         "rawType": "object",
         "type": "string"
        },
        {
         "name": "time_of_call",
         "rawType": "object",
         "type": "string"
        },
        {
         "name": "timestamp_of_call",
         "rawType": "object",
         "type": "string"
        },
        {
         "name": "ward_name",
         "rawType": "object",
         "type": "string"
        },
        {
         "name": "time_between_pumps",
         "rawType": "float64",
         "type": "float"
        },
        {
         "name": "second_pump_deployed",
         "rawType": "int64",
         "type": "integer"
        }
       ],
       "conversionMethod": "pd.DataFrame",
       "ref": "0f063c3e-2d04-4982-819f-57216851f514",
       "rows": [
        [
         "0",
         "Within same building",
         "2017-01-20",
         "529450",
         "359.0",
         "Euston",
         "London",
         "8",
         "Euston",
         "182050",
         "1.0",
         "1.0",
         "W1T",
         "W1T 7PD",
         "Camden",
         "Non Residential",
         "Purpose built office",
         null,
         null,
         null,
         "AFA",
         "08:57:38",
         "2017-01-20 08:57:38",
         "BLOOMSBURY",
         null,
         "0"
        ],
        [
         "1",
         "Within same building",
         "2017-04-21",
         "539650",
         "211.0",
         "Stratford",
         "London",
         "17",
         "Stratford",
         "183750",
         "1.0",
         "1.0",
         "E15",
         null,
         "Newham",
         "Dwelling",
         "Purpose Built Flats/Maisonettes - Up to 3 storeys",
         null,
         null,
         "No action (not false alarm)",
         "Special Service",
         "17:42:29",
         "2017-04-21 17:42:29",
         "WEST HAM",
         null,
         "0"
        ],
        [
         "2",
         "Correct incident location",
         "2017-01-20",
         "536950",
         null,
         null,
         "London",
         "18",
         "Walthamstow",
         "189350",
         "1.0",
         "1.0",
         "E17",
         "E17 6RH",
         "Waltham Forest",
         "Non Residential",
         "Local Government Office",
         null,
         null,
         "Lift Release",
         "Special Service",
         "18:21:32",
         "2017-01-20 18:21:32",
         "WILLIAM MORRIS",
         null,
         "0"
        ],
        [
         "3",
         "Within same building",
         "2017-03-07",
         "516650",
         "295.0",
         "Ealing",
         "London",
         "11",
         "Ealing",
         "180250",
         "2.0",
         "2.0",
         "W13",
         "W13 9YN",
         "Ealing",
         "Non Residential",
         "Underground car park",
         "660.0",
         "Southall",
         "Hazardous Materials incident",
         "Special Service",
         "11:27:50",
         "2017-03-07 11:27:50",
         "WALPOLE",
         "365.0",
         "1"
        ],
        [
         "4",
         "Correct incident location",
         "2017-02-04",
         "524250",
         "533.0",
         "Battersea",
         "London",
         "17",
         "Wandsworth",
         "174950",
         "1.0",
         "1.0",
         "SW15",
         "SW15 2SP",
         "Wandsworth",
         "Non Residential",
         "Pub/wine bar/bar",
         null,
         null,
         "Medical Incident - Co-responder",
         "Special Service",
         "17:31:10",
         "2017-02-04 17:31:10",
         "THAMESFIELD",
         null,
         "0"
        ]
       ],
       "shape": {
        "columns": 25,
        "rows": 5
       }
      },
      "text/html": [
       "<div>\n",
       "<style scoped>\n",
       "    .dataframe tbody tr th:only-of-type {\n",
       "        vertical-align: middle;\n",
       "    }\n",
       "\n",
       "    .dataframe tbody tr th {\n",
       "        vertical-align: top;\n",
       "    }\n",
       "\n",
       "    .dataframe thead th {\n",
       "        text-align: right;\n",
       "    }\n",
       "</style>\n",
       "<table border=\"1\" class=\"dataframe\">\n",
       "  <thead>\n",
       "    <tr style=\"text-align: right;\">\n",
       "      <th></th>\n",
       "      <th>address_qualifier</th>\n",
       "      <th>date_of_call</th>\n",
       "      <th>easting</th>\n",
       "      <th>first_pump_arriving_attendance_time</th>\n",
       "      <th>first_pump_arriving_deployed_from_station</th>\n",
       "      <th>frs</th>\n",
       "      <th>hour_of_call</th>\n",
       "      <th>incident_station_ground</th>\n",
       "      <th>northing</th>\n",
       "      <th>num_pumps_attending</th>\n",
       "      <th>...</th>\n",
       "      <th>property_type</th>\n",
       "      <th>second_pump_arriving_attendance_time</th>\n",
       "      <th>second_pump_arriving_deployed_from_station</th>\n",
       "      <th>special_service_type</th>\n",
       "      <th>stop_code_description</th>\n",
       "      <th>time_of_call</th>\n",
       "      <th>timestamp_of_call</th>\n",
       "      <th>ward_name</th>\n",
       "      <th>time_between_pumps</th>\n",
       "      <th>second_pump_deployed</th>\n",
       "    </tr>\n",
       "  </thead>\n",
       "  <tbody>\n",
       "    <tr>\n",
       "      <th>0</th>\n",
       "      <td>Within same building</td>\n",
       "      <td>2017-01-20</td>\n",
       "      <td>529450</td>\n",
       "      <td>359.0</td>\n",
       "      <td>Euston</td>\n",
       "      <td>London</td>\n",
       "      <td>8</td>\n",
       "      <td>Euston</td>\n",
       "      <td>182050</td>\n",
       "      <td>1.0</td>\n",
       "      <td>...</td>\n",
       "      <td>Purpose built office</td>\n",
       "      <td>NaN</td>\n",
       "      <td>NaN</td>\n",
       "      <td>NaN</td>\n",
       "      <td>AFA</td>\n",
       "      <td>08:57:38</td>\n",
       "      <td>2017-01-20 08:57:38</td>\n",
       "      <td>BLOOMSBURY</td>\n",
       "      <td>NaN</td>\n",
       "      <td>0</td>\n",
       "    </tr>\n",
       "    <tr>\n",
       "      <th>1</th>\n",
       "      <td>Within same building</td>\n",
       "      <td>2017-04-21</td>\n",
       "      <td>539650</td>\n",
       "      <td>211.0</td>\n",
       "      <td>Stratford</td>\n",
       "      <td>London</td>\n",
       "      <td>17</td>\n",
       "      <td>Stratford</td>\n",
       "      <td>183750</td>\n",
       "      <td>1.0</td>\n",
       "      <td>...</td>\n",
       "      <td>Purpose Built Flats/Maisonettes - Up to 3 storeys</td>\n",
       "      <td>NaN</td>\n",
       "      <td>NaN</td>\n",
       "      <td>No action (not false alarm)</td>\n",
       "      <td>Special Service</td>\n",
       "      <td>17:42:29</td>\n",
       "      <td>2017-04-21 17:42:29</td>\n",
       "      <td>WEST HAM</td>\n",
       "      <td>NaN</td>\n",
       "      <td>0</td>\n",
       "    </tr>\n",
       "    <tr>\n",
       "      <th>2</th>\n",
       "      <td>Correct incident location</td>\n",
       "      <td>2017-01-20</td>\n",
       "      <td>536950</td>\n",
       "      <td>NaN</td>\n",
       "      <td>NaN</td>\n",
       "      <td>London</td>\n",
       "      <td>18</td>\n",
       "      <td>Walthamstow</td>\n",
       "      <td>189350</td>\n",
       "      <td>1.0</td>\n",
       "      <td>...</td>\n",
       "      <td>Local Government Office</td>\n",
       "      <td>NaN</td>\n",
       "      <td>NaN</td>\n",
       "      <td>Lift Release</td>\n",
       "      <td>Special Service</td>\n",
       "      <td>18:21:32</td>\n",
       "      <td>2017-01-20 18:21:32</td>\n",
       "      <td>WILLIAM MORRIS</td>\n",
       "      <td>NaN</td>\n",
       "      <td>0</td>\n",
       "    </tr>\n",
       "    <tr>\n",
       "      <th>3</th>\n",
       "      <td>Within same building</td>\n",
       "      <td>2017-03-07</td>\n",
       "      <td>516650</td>\n",
       "      <td>295.0</td>\n",
       "      <td>Ealing</td>\n",
       "      <td>London</td>\n",
       "      <td>11</td>\n",
       "      <td>Ealing</td>\n",
       "      <td>180250</td>\n",
       "      <td>2.0</td>\n",
       "      <td>...</td>\n",
       "      <td>Underground car park</td>\n",
       "      <td>660.0</td>\n",
       "      <td>Southall</td>\n",
       "      <td>Hazardous Materials incident</td>\n",
       "      <td>Special Service</td>\n",
       "      <td>11:27:50</td>\n",
       "      <td>2017-03-07 11:27:50</td>\n",
       "      <td>WALPOLE</td>\n",
       "      <td>365.0</td>\n",
       "      <td>1</td>\n",
       "    </tr>\n",
       "    <tr>\n",
       "      <th>4</th>\n",
       "      <td>Correct incident location</td>\n",
       "      <td>2017-02-04</td>\n",
       "      <td>524250</td>\n",
       "      <td>533.0</td>\n",
       "      <td>Battersea</td>\n",
       "      <td>London</td>\n",
       "      <td>17</td>\n",
       "      <td>Wandsworth</td>\n",
       "      <td>174950</td>\n",
       "      <td>1.0</td>\n",
       "      <td>...</td>\n",
       "      <td>Pub/wine bar/bar</td>\n",
       "      <td>NaN</td>\n",
       "      <td>NaN</td>\n",
       "      <td>Medical Incident - Co-responder</td>\n",
       "      <td>Special Service</td>\n",
       "      <td>17:31:10</td>\n",
       "      <td>2017-02-04 17:31:10</td>\n",
       "      <td>THAMESFIELD</td>\n",
       "      <td>NaN</td>\n",
       "      <td>0</td>\n",
       "    </tr>\n",
       "  </tbody>\n",
       "</table>\n",
       "<p>5 rows × 25 columns</p>\n",
       "</div>"
      ],
      "text/plain": [
       "           address_qualifier date_of_call  easting  \\\n",
       "0       Within same building   2017-01-20   529450   \n",
       "1       Within same building   2017-04-21   539650   \n",
       "2  Correct incident location   2017-01-20   536950   \n",
       "3       Within same building   2017-03-07   516650   \n",
       "4  Correct incident location   2017-02-04   524250   \n",
       "\n",
       "   first_pump_arriving_attendance_time  \\\n",
       "0                                359.0   \n",
       "1                                211.0   \n",
       "2                                  NaN   \n",
       "3                                295.0   \n",
       "4                                533.0   \n",
       "\n",
       "  first_pump_arriving_deployed_from_station     frs  hour_of_call  \\\n",
       "0                                    Euston  London             8   \n",
       "1                                 Stratford  London            17   \n",
       "2                                       NaN  London            18   \n",
       "3                                    Ealing  London            11   \n",
       "4                                 Battersea  London            17   \n",
       "\n",
       "  incident_station_ground  northing  num_pumps_attending  ...  \\\n",
       "0                  Euston    182050                  1.0  ...   \n",
       "1               Stratford    183750                  1.0  ...   \n",
       "2             Walthamstow    189350                  1.0  ...   \n",
       "3                  Ealing    180250                  2.0  ...   \n",
       "4              Wandsworth    174950                  1.0  ...   \n",
       "\n",
       "                                       property_type  \\\n",
       "0                               Purpose built office   \n",
       "1  Purpose Built Flats/Maisonettes - Up to 3 storeys   \n",
       "2                            Local Government Office   \n",
       "3                               Underground car park   \n",
       "4                                   Pub/wine bar/bar   \n",
       "\n",
       "  second_pump_arriving_attendance_time  \\\n",
       "0                                  NaN   \n",
       "1                                  NaN   \n",
       "2                                  NaN   \n",
       "3                                660.0   \n",
       "4                                  NaN   \n",
       "\n",
       "  second_pump_arriving_deployed_from_station             special_service_type  \\\n",
       "0                                        NaN                              NaN   \n",
       "1                                        NaN      No action (not false alarm)   \n",
       "2                                        NaN                     Lift Release   \n",
       "3                                   Southall     Hazardous Materials incident   \n",
       "4                                        NaN  Medical Incident - Co-responder   \n",
       "\n",
       "  stop_code_description time_of_call    timestamp_of_call       ward_name  \\\n",
       "0                   AFA     08:57:38  2017-01-20 08:57:38      BLOOMSBURY   \n",
       "1       Special Service     17:42:29  2017-04-21 17:42:29        WEST HAM   \n",
       "2       Special Service     18:21:32  2017-01-20 18:21:32  WILLIAM MORRIS   \n",
       "3       Special Service     11:27:50  2017-03-07 11:27:50         WALPOLE   \n",
       "4       Special Service     17:31:10  2017-02-04 17:31:10     THAMESFIELD   \n",
       "\n",
       "  time_between_pumps second_pump_deployed  \n",
       "0                NaN                    0  \n",
       "1                NaN                    0  \n",
       "2                NaN                    0  \n",
       "3              365.0                    1  \n",
       "4                NaN                    0  \n",
       "\n",
       "[5 rows x 25 columns]"
      ]
     },
     "execution_count": 67,
     "metadata": {},
     "output_type": "execute_result"
    }
   ],
   "source": [
    "missing_first_pump = df[df['first_pump_arriving_attendance_time'].isnull()]\n",
    "\n",
    "df.head()"
   ]
  },
  {
   "cell_type": "code",
   "execution_count": 68,
   "metadata": {},
   "outputs": [
    {
     "name": "stdout",
     "output_type": "stream",
     "text": [
      "Percentage of missing values in 'first_pump_arriving_attendance_time': 5.64%\n",
      "Number of rows after dropping missing values: 30428\n"
     ]
    }
   ],
   "source": [
    "missing_first_pump_percentage = (len(missing_first_pump) / len(df)) * 100\n",
    "print(f\"Percentage of missing values in 'first_pump_arriving_attendance_time': {missing_first_pump_percentage:.2f}%\")\n",
    "\n",
    "\n",
    "#removing the rows with missing values in the first pump arriving attendance time column\n",
    "df.dropna(subset=['first_pump_arriving_attendance_time'], inplace=True)\n",
    "\n",
    "# displaying number of rows of the dataset\n",
    "print(f\"Number of rows after dropping missing values: {len(df)}\")"
   ]
  },
  {
   "cell_type": "code",
   "execution_count": 69,
   "metadata": {},
   "outputs": [
    {
     "name": "stdout",
     "output_type": "stream",
     "text": [
      "Number of outliers identified: 1261\n",
      "Percentage of data: 4.14%\n"
     ]
    }
   ],
   "source": [
    "# Calculate statistics\n",
    "q1 = df['first_pump_arriving_attendance_time'].quantile(0.25)\n",
    "q3 = df['first_pump_arriving_attendance_time'].quantile(0.75)\n",
    "iqr = q3 - q1\n",
    "\n",
    "# Define upper and lower bounds\n",
    "upper_bound = q3 + 1.5 * iqr\n",
    "lower_bound = q1 - 1.5 * iqr  \n",
    "lower_bound = max(0, lower_bound) \n",
    "\n",
    "# Identify outliers\n",
    "outliers = df[(df['first_pump_arriving_attendance_time'] > upper_bound) | \n",
    "              (df['first_pump_arriving_attendance_time'] < lower_bound)]\n",
    "\n",
    "print(f\"Number of outliers identified: {len(outliers)}\")\n",
    "print(f\"Percentage of data: {len(outliers)/len(df)*100:.2f}%\")"
   ]
  },
  {
   "cell_type": "code",
   "execution_count": 70,
   "metadata": {},
   "outputs": [],
   "source": [
    "# Applying capping to response times\n",
    "df['first_pump_arriving_attendance_time_capped'] = df['first_pump_arriving_attendance_time'].clip(\n",
    "    lower=lower_bound, \n",
    "    upper=upper_bound\n",
    ")"
   ]
  },
  {
   "cell_type": "code",
   "execution_count": 71,
   "metadata": {},
   "outputs": [
    {
     "name": "stdout",
     "output_type": "stream",
     "text": [
      "Original min: 2.0, max: 1196.0\n",
      "Capped min: 11.5, max: 599.5\n"
     ]
    }
   ],
   "source": [
    "# showing that my capping worked\n",
    "print(f\"Original min: {df['first_pump_arriving_attendance_time'].min()}, max: {df['first_pump_arriving_attendance_time'].max()}\")\n",
    "print(f\"Capped min: {df['first_pump_arriving_attendance_time_capped'].min()}, max: {df['first_pump_arriving_attendance_time_capped'].max()}\")"
   ]
  },
  {
   "cell_type": "markdown",
   "metadata": {},
   "source": [
    "FINAL DATAFRAME AFTER DATA CLEANING"
   ]
  },
  {
   "cell_type": "code",
   "execution_count": 72,
   "metadata": {},
   "outputs": [
    {
     "data": {
      "application/vnd.microsoft.datawrangler.viewer.v0+json": {
       "columns": [
        {
         "name": "index",
         "rawType": "int64",
         "type": "integer"
        },
        {
         "name": "address_qualifier",
         "rawType": "object",
         "type": "string"
        },
        {
         "name": "date_of_call",
         "rawType": "object",
         "type": "string"
        },
        {
         "name": "easting",
         "rawType": "int64",
         "type": "integer"
        },
        {
         "name": "first_pump_arriving_attendance_time",
         "rawType": "float64",
         "type": "float"
        },
        {
         "name": "first_pump_arriving_deployed_from_station",
         "rawType": "object",
         "type": "string"
        },
        {
         "name": "frs",
         "rawType": "object",
         "type": "string"
        },
        {
         "name": "hour_of_call",
         "rawType": "int64",
         "type": "integer"
        },
        {
         "name": "incident_station_ground",
         "rawType": "object",
         "type": "string"
        },
        {
         "name": "northing",
         "rawType": "int64",
         "type": "integer"
        },
        {
         "name": "num_pumps_attending",
         "rawType": "float64",
         "type": "float"
        },
        {
         "name": "num_stations_with_pumps_attending",
         "rawType": "float64",
         "type": "float"
        },
        {
         "name": "postcode_district",
         "rawType": "object",
         "type": "string"
        },
        {
         "name": "postcode_full",
         "rawType": "object",
         "type": "unknown"
        },
        {
         "name": "borough_name",
         "rawType": "object",
         "type": "string"
        },
        {
         "name": "property_category",
         "rawType": "object",
         "type": "string"
        },
        {
         "name": "property_type",
         "rawType": "object",
         "type": "string"
        },
        {
         "name": "second_pump_arriving_attendance_time",
         "rawType": "float64",
         "type": "float"
        },
        {
         "name": "second_pump_arriving_deployed_from_station",
         "rawType": "object",
         "type": "unknown"
        },
        {
         "name": "special_service_type",
         "rawType": "object",
         "type": "unknown"
        },
        {
         "name": "stop_code_description",
         "rawType": "object",
         "type": "string"
        },
        {
         "name": "time_of_call",
         "rawType": "object",
         "type": "string"
        },
        {
         "name": "timestamp_of_call",
         "rawType": "object",
         "type": "string"
        },
        {
         "name": "ward_name",
         "rawType": "object",
         "type": "string"
        },
        {
         "name": "time_between_pumps",
         "rawType": "float64",
         "type": "float"
        },
        {
         "name": "second_pump_deployed",
         "rawType": "int64",
         "type": "integer"
        },
        {
         "name": "first_pump_arriving_attendance_time_capped",
         "rawType": "float64",
         "type": "float"
        }
       ],
       "conversionMethod": "pd.DataFrame",
       "ref": "6114ebe9-e6e6-4a76-9c97-d3badbc833e1",
       "rows": [
        [
         "0",
         "Within same building",
         "2017-01-20",
         "529450",
         "359.0",
         "Euston",
         "London",
         "8",
         "Euston",
         "182050",
         "1.0",
         "1.0",
         "W1T",
         "W1T 7PD",
         "Camden",
         "Non Residential",
         "Purpose built office",
         null,
         null,
         null,
         "AFA",
         "08:57:38",
         "2017-01-20 08:57:38",
         "BLOOMSBURY",
         null,
         "0",
         "359.0"
        ],
        [
         "1",
         "Within same building",
         "2017-04-21",
         "539650",
         "211.0",
         "Stratford",
         "London",
         "17",
         "Stratford",
         "183750",
         "1.0",
         "1.0",
         "E15",
         null,
         "Newham",
         "Dwelling",
         "Purpose Built Flats/Maisonettes - Up to 3 storeys",
         null,
         null,
         "No action (not false alarm)",
         "Special Service",
         "17:42:29",
         "2017-04-21 17:42:29",
         "WEST HAM",
         null,
         "0",
         "211.0"
        ],
        [
         "3",
         "Within same building",
         "2017-03-07",
         "516650",
         "295.0",
         "Ealing",
         "London",
         "11",
         "Ealing",
         "180250",
         "2.0",
         "2.0",
         "W13",
         "W13 9YN",
         "Ealing",
         "Non Residential",
         "Underground car park",
         "660.0",
         "Southall",
         "Hazardous Materials incident",
         "Special Service",
         "11:27:50",
         "2017-03-07 11:27:50",
         "WALPOLE",
         "365.0",
         "1",
         "295.0"
        ],
        [
         "4",
         "Correct incident location",
         "2017-02-04",
         "524250",
         "533.0",
         "Battersea",
         "London",
         "17",
         "Wandsworth",
         "174950",
         "1.0",
         "1.0",
         "SW15",
         "SW15 2SP",
         "Wandsworth",
         "Non Residential",
         "Pub/wine bar/bar",
         null,
         null,
         "Medical Incident - Co-responder",
         "Special Service",
         "17:31:10",
         "2017-02-04 17:31:10",
         "THAMESFIELD",
         null,
         "0",
         "533.0"
        ],
        [
         "5",
         "Correct incident location",
         "2017-01-08",
         "537350",
         "247.0",
         "Poplar",
         "London",
         "16",
         "Poplar",
         "181850",
         "2.0",
         "2.0",
         "E3",
         null,
         "Tower Hamlets",
         "Dwelling",
         "Purpose Built Flats/Maisonettes - 4 to 9 storeys",
         "348.0",
         "Millwall",
         null,
         "Primary Fire",
         "16:54:17",
         "2017-01-08 16:54:17",
         "BROMLEY SOUTH",
         "101.0",
         "1",
         "247.0"
        ]
       ],
       "shape": {
        "columns": 26,
        "rows": 5
       }
      },
      "text/html": [
       "<div>\n",
       "<style scoped>\n",
       "    .dataframe tbody tr th:only-of-type {\n",
       "        vertical-align: middle;\n",
       "    }\n",
       "\n",
       "    .dataframe tbody tr th {\n",
       "        vertical-align: top;\n",
       "    }\n",
       "\n",
       "    .dataframe thead th {\n",
       "        text-align: right;\n",
       "    }\n",
       "</style>\n",
       "<table border=\"1\" class=\"dataframe\">\n",
       "  <thead>\n",
       "    <tr style=\"text-align: right;\">\n",
       "      <th></th>\n",
       "      <th>address_qualifier</th>\n",
       "      <th>date_of_call</th>\n",
       "      <th>easting</th>\n",
       "      <th>first_pump_arriving_attendance_time</th>\n",
       "      <th>first_pump_arriving_deployed_from_station</th>\n",
       "      <th>frs</th>\n",
       "      <th>hour_of_call</th>\n",
       "      <th>incident_station_ground</th>\n",
       "      <th>northing</th>\n",
       "      <th>num_pumps_attending</th>\n",
       "      <th>...</th>\n",
       "      <th>second_pump_arriving_attendance_time</th>\n",
       "      <th>second_pump_arriving_deployed_from_station</th>\n",
       "      <th>special_service_type</th>\n",
       "      <th>stop_code_description</th>\n",
       "      <th>time_of_call</th>\n",
       "      <th>timestamp_of_call</th>\n",
       "      <th>ward_name</th>\n",
       "      <th>time_between_pumps</th>\n",
       "      <th>second_pump_deployed</th>\n",
       "      <th>first_pump_arriving_attendance_time_capped</th>\n",
       "    </tr>\n",
       "  </thead>\n",
       "  <tbody>\n",
       "    <tr>\n",
       "      <th>0</th>\n",
       "      <td>Within same building</td>\n",
       "      <td>2017-01-20</td>\n",
       "      <td>529450</td>\n",
       "      <td>359.0</td>\n",
       "      <td>Euston</td>\n",
       "      <td>London</td>\n",
       "      <td>8</td>\n",
       "      <td>Euston</td>\n",
       "      <td>182050</td>\n",
       "      <td>1.0</td>\n",
       "      <td>...</td>\n",
       "      <td>NaN</td>\n",
       "      <td>NaN</td>\n",
       "      <td>NaN</td>\n",
       "      <td>AFA</td>\n",
       "      <td>08:57:38</td>\n",
       "      <td>2017-01-20 08:57:38</td>\n",
       "      <td>BLOOMSBURY</td>\n",
       "      <td>NaN</td>\n",
       "      <td>0</td>\n",
       "      <td>359.0</td>\n",
       "    </tr>\n",
       "    <tr>\n",
       "      <th>1</th>\n",
       "      <td>Within same building</td>\n",
       "      <td>2017-04-21</td>\n",
       "      <td>539650</td>\n",
       "      <td>211.0</td>\n",
       "      <td>Stratford</td>\n",
       "      <td>London</td>\n",
       "      <td>17</td>\n",
       "      <td>Stratford</td>\n",
       "      <td>183750</td>\n",
       "      <td>1.0</td>\n",
       "      <td>...</td>\n",
       "      <td>NaN</td>\n",
       "      <td>NaN</td>\n",
       "      <td>No action (not false alarm)</td>\n",
       "      <td>Special Service</td>\n",
       "      <td>17:42:29</td>\n",
       "      <td>2017-04-21 17:42:29</td>\n",
       "      <td>WEST HAM</td>\n",
       "      <td>NaN</td>\n",
       "      <td>0</td>\n",
       "      <td>211.0</td>\n",
       "    </tr>\n",
       "    <tr>\n",
       "      <th>3</th>\n",
       "      <td>Within same building</td>\n",
       "      <td>2017-03-07</td>\n",
       "      <td>516650</td>\n",
       "      <td>295.0</td>\n",
       "      <td>Ealing</td>\n",
       "      <td>London</td>\n",
       "      <td>11</td>\n",
       "      <td>Ealing</td>\n",
       "      <td>180250</td>\n",
       "      <td>2.0</td>\n",
       "      <td>...</td>\n",
       "      <td>660.0</td>\n",
       "      <td>Southall</td>\n",
       "      <td>Hazardous Materials incident</td>\n",
       "      <td>Special Service</td>\n",
       "      <td>11:27:50</td>\n",
       "      <td>2017-03-07 11:27:50</td>\n",
       "      <td>WALPOLE</td>\n",
       "      <td>365.0</td>\n",
       "      <td>1</td>\n",
       "      <td>295.0</td>\n",
       "    </tr>\n",
       "    <tr>\n",
       "      <th>4</th>\n",
       "      <td>Correct incident location</td>\n",
       "      <td>2017-02-04</td>\n",
       "      <td>524250</td>\n",
       "      <td>533.0</td>\n",
       "      <td>Battersea</td>\n",
       "      <td>London</td>\n",
       "      <td>17</td>\n",
       "      <td>Wandsworth</td>\n",
       "      <td>174950</td>\n",
       "      <td>1.0</td>\n",
       "      <td>...</td>\n",
       "      <td>NaN</td>\n",
       "      <td>NaN</td>\n",
       "      <td>Medical Incident - Co-responder</td>\n",
       "      <td>Special Service</td>\n",
       "      <td>17:31:10</td>\n",
       "      <td>2017-02-04 17:31:10</td>\n",
       "      <td>THAMESFIELD</td>\n",
       "      <td>NaN</td>\n",
       "      <td>0</td>\n",
       "      <td>533.0</td>\n",
       "    </tr>\n",
       "    <tr>\n",
       "      <th>5</th>\n",
       "      <td>Correct incident location</td>\n",
       "      <td>2017-01-08</td>\n",
       "      <td>537350</td>\n",
       "      <td>247.0</td>\n",
       "      <td>Poplar</td>\n",
       "      <td>London</td>\n",
       "      <td>16</td>\n",
       "      <td>Poplar</td>\n",
       "      <td>181850</td>\n",
       "      <td>2.0</td>\n",
       "      <td>...</td>\n",
       "      <td>348.0</td>\n",
       "      <td>Millwall</td>\n",
       "      <td>NaN</td>\n",
       "      <td>Primary Fire</td>\n",
       "      <td>16:54:17</td>\n",
       "      <td>2017-01-08 16:54:17</td>\n",
       "      <td>BROMLEY SOUTH</td>\n",
       "      <td>101.0</td>\n",
       "      <td>1</td>\n",
       "      <td>247.0</td>\n",
       "    </tr>\n",
       "  </tbody>\n",
       "</table>\n",
       "<p>5 rows × 26 columns</p>\n",
       "</div>"
      ],
      "text/plain": [
       "           address_qualifier date_of_call  easting  \\\n",
       "0       Within same building   2017-01-20   529450   \n",
       "1       Within same building   2017-04-21   539650   \n",
       "3       Within same building   2017-03-07   516650   \n",
       "4  Correct incident location   2017-02-04   524250   \n",
       "5  Correct incident location   2017-01-08   537350   \n",
       "\n",
       "   first_pump_arriving_attendance_time  \\\n",
       "0                                359.0   \n",
       "1                                211.0   \n",
       "3                                295.0   \n",
       "4                                533.0   \n",
       "5                                247.0   \n",
       "\n",
       "  first_pump_arriving_deployed_from_station     frs  hour_of_call  \\\n",
       "0                                    Euston  London             8   \n",
       "1                                 Stratford  London            17   \n",
       "3                                    Ealing  London            11   \n",
       "4                                 Battersea  London            17   \n",
       "5                                    Poplar  London            16   \n",
       "\n",
       "  incident_station_ground  northing  num_pumps_attending  ...  \\\n",
       "0                  Euston    182050                  1.0  ...   \n",
       "1               Stratford    183750                  1.0  ...   \n",
       "3                  Ealing    180250                  2.0  ...   \n",
       "4              Wandsworth    174950                  1.0  ...   \n",
       "5                  Poplar    181850                  2.0  ...   \n",
       "\n",
       "   second_pump_arriving_attendance_time  \\\n",
       "0                                   NaN   \n",
       "1                                   NaN   \n",
       "3                                 660.0   \n",
       "4                                   NaN   \n",
       "5                                 348.0   \n",
       "\n",
       "  second_pump_arriving_deployed_from_station             special_service_type  \\\n",
       "0                                        NaN                              NaN   \n",
       "1                                        NaN      No action (not false alarm)   \n",
       "3                                   Southall     Hazardous Materials incident   \n",
       "4                                        NaN  Medical Incident - Co-responder   \n",
       "5                                   Millwall                              NaN   \n",
       "\n",
       "  stop_code_description time_of_call    timestamp_of_call      ward_name  \\\n",
       "0                   AFA     08:57:38  2017-01-20 08:57:38     BLOOMSBURY   \n",
       "1       Special Service     17:42:29  2017-04-21 17:42:29       WEST HAM   \n",
       "3       Special Service     11:27:50  2017-03-07 11:27:50        WALPOLE   \n",
       "4       Special Service     17:31:10  2017-02-04 17:31:10    THAMESFIELD   \n",
       "5          Primary Fire     16:54:17  2017-01-08 16:54:17  BROMLEY SOUTH   \n",
       "\n",
       "  time_between_pumps second_pump_deployed  \\\n",
       "0                NaN                    0   \n",
       "1                NaN                    0   \n",
       "3              365.0                    1   \n",
       "4                NaN                    0   \n",
       "5              101.0                    1   \n",
       "\n",
       "  first_pump_arriving_attendance_time_capped  \n",
       "0                                      359.0  \n",
       "1                                      211.0  \n",
       "3                                      295.0  \n",
       "4                                      533.0  \n",
       "5                                      247.0  \n",
       "\n",
       "[5 rows x 26 columns]"
      ]
     },
     "execution_count": 72,
     "metadata": {},
     "output_type": "execute_result"
    }
   ],
   "source": [
    "df.head()"
   ]
  },
  {
   "cell_type": "code",
   "execution_count": 73,
   "metadata": {},
   "outputs": [
    {
     "name": "stdout",
     "output_type": "stream",
     "text": [
      "<class 'pandas.core.frame.DataFrame'>\n",
      "Index: 30428 entries, 0 to 32246\n",
      "Data columns (total 26 columns):\n",
      " #   Column                                      Non-Null Count  Dtype  \n",
      "---  ------                                      --------------  -----  \n",
      " 0   address_qualifier                           30428 non-null  object \n",
      " 1   date_of_call                                30428 non-null  object \n",
      " 2   easting                                     30428 non-null  int64  \n",
      " 3   first_pump_arriving_attendance_time         30428 non-null  float64\n",
      " 4   first_pump_arriving_deployed_from_station   30428 non-null  object \n",
      " 5   frs                                         30428 non-null  object \n",
      " 6   hour_of_call                                30428 non-null  int64  \n",
      " 7   incident_station_ground                     30428 non-null  object \n",
      " 8   northing                                    30428 non-null  int64  \n",
      " 9   num_pumps_attending                         30428 non-null  float64\n",
      " 10  num_stations_with_pumps_attending           30428 non-null  float64\n",
      " 11  postcode_district                           30428 non-null  object \n",
      " 12  postcode_full                               16257 non-null  object \n",
      " 13  borough_name                                30428 non-null  object \n",
      " 14  property_category                           30428 non-null  object \n",
      " 15  property_type                               30428 non-null  object \n",
      " 16  second_pump_arriving_attendance_time        11948 non-null  float64\n",
      " 17  second_pump_arriving_deployed_from_station  11948 non-null  object \n",
      " 18  special_service_type                        8556 non-null   object \n",
      " 19  stop_code_description                       30428 non-null  object \n",
      " 20  time_of_call                                30428 non-null  object \n",
      " 21  timestamp_of_call                           30428 non-null  object \n",
      " 22  ward_name                                   30428 non-null  object \n",
      " 23  time_between_pumps                          11948 non-null  float64\n",
      " 24  second_pump_deployed                        30428 non-null  int64  \n",
      " 25  first_pump_arriving_attendance_time_capped  30428 non-null  float64\n",
      "dtypes: float64(6), int64(4), object(16)\n",
      "memory usage: 6.3+ MB\n"
     ]
    }
   ],
   "source": [
    "df.info()"
   ]
  },
  {
   "cell_type": "code",
   "execution_count": 74,
   "metadata": {},
   "outputs": [
    {
     "name": "stdout",
     "output_type": "stream",
     "text": [
      "Missing Values:\n",
      "address_qualifier                                 0\n",
      "date_of_call                                      0\n",
      "easting                                           0\n",
      "first_pump_arriving_attendance_time               0\n",
      "first_pump_arriving_deployed_from_station         0\n",
      "frs                                               0\n",
      "hour_of_call                                      0\n",
      "incident_station_ground                           0\n",
      "northing                                          0\n",
      "num_pumps_attending                               0\n",
      "num_stations_with_pumps_attending                 0\n",
      "postcode_district                                 0\n",
      "postcode_full                                 14171\n",
      "borough_name                                      0\n",
      "property_category                                 0\n",
      "property_type                                     0\n",
      "second_pump_arriving_attendance_time          18480\n",
      "second_pump_arriving_deployed_from_station    18480\n",
      "special_service_type                          21872\n",
      "stop_code_description                             0\n",
      "time_of_call                                      0\n",
      "timestamp_of_call                                 0\n",
      "ward_name                                         0\n",
      "time_between_pumps                            18480\n",
      "second_pump_deployed                              0\n",
      "first_pump_arriving_attendance_time_capped        0\n",
      "dtype: int64\n"
     ]
    }
   ],
   "source": [
    "print(\"Missing Values:\")\n",
    "print(df.isnull().sum())"
   ]
  },
  {
   "cell_type": "markdown",
   "metadata": {},
   "source": [
    "To visualise the missing data using a heat map"
   ]
  },
  {
   "cell_type": "code",
   "execution_count": 87,
   "metadata": {},
   "outputs": [
    {
     "data": {
      "image/png": "[encoded data removed]",
      "text/plain": [
       "<Figure size 1200x800 with 1 Axes>"
      ]
     },
     "metadata": {},
     "output_type": "display_data"
    }
   ],
   "source": [
    "plt.figure(figsize=(12, 8))\n",
    "sns.heatmap(df.isnull(), cbar=False, cmap='viridis')\n",
    "plt.title(\"Missing Data Heatmap\")\n",
    "plt.show()"
   ]
  },
  {
   "cell_type": "markdown",
   "metadata": {},
   "source": [
    "VISUALIZATIONS"
   ]
  },
  {
   "cell_type": "code",
   "execution_count": 76,
   "metadata": {},
   "outputs": [
    {
     "data": {
      "text/plain": [
       "Text(0, 0.5, 'Frequency')"
      ]
     },
     "execution_count": 76,
     "metadata": {},
     "output_type": "execute_result"
    },
    {
     "data": {
      "image/png": "[encoded data removed]",
      "text/plain": [
       "<Figure size 1200x600 with 2 Axes>"
      ]
     },
     "metadata": {},
     "output_type": "display_data"
    }
   ],
   "source": [
    "\n",
    "plt.figure(figsize=(12, 6))\n",
    "plt.subplot(1, 2, 1)\n",
    "plt.hist(df['first_pump_arriving_attendance_time'], bins=50, alpha=0.7)\n",
    "plt.title('Original Response Time Distribution')\n",
    "plt.xlabel('Response Time (seconds)')\n",
    "plt.ylabel('Frequency')\n",
    "\n",
    "plt.subplot(1, 2, 2)\n",
    "plt.hist(df['first_pump_arriving_attendance_time_capped'], bins=50, alpha=0.7)\n",
    "plt.title('Capped Response Time Distribution')\n",
    "plt.xlabel('Response Time (seconds)')\n",
    "plt.ylabel('Frequency')"
   ]
  },
  {
   "cell_type": "markdown",
   "metadata": {},
   "source": [
    "FEATURE ENGINEERING"
   ]
  },
  {
   "cell_type": "markdown",
   "metadata": {},
   "source": [
    "1. Transforming the easting and northing values to longitude and latitude cooridinates"
   ]
  },
  {
   "cell_type": "markdown",
   "metadata": {},
   "source": [
    "In the UK, the Ordnance Survey grid uses the OSGB36 coordinate system (easting/northing - EPSG:27700) while latitude and longitude are usually represented using the WGS84 system (EPSG:4326).\n",
    "References: \n",
    "https://pyproj4.github.io/pyproj/stable/index.html - this gives a detailed explanation on conversion of OSGB36 coordinate systems to the  WGS84 coordinate system. \n",
    "https://epsg.io/transform#s_srs=27700&t_srs=4326&ops=7710&x=529450.0000000&y=182050.0000000 - this is a link to the online coordinate convertor.\n",
    "https://en.wikipedia.org/wiki/World_Geodetic_System#WGS84 - provides more information on the World Geodetic System (WGS) with the currenty used version as WGS84.\n",
    "https://en.wikipedia.org/wiki/Ordnance_Survey_National_Grid - Provides information on the  Ordnance Survey National Grid reference system (OSGB) which is the British National Grid system. "
   ]
  },
  {
   "cell_type": "code",
   "execution_count": 77,
   "metadata": {},
   "outputs": [
    {
     "name": "stdout",
     "output_type": "stream",
     "text": [
      "   easting  northing  longitude   latitude\n",
      "0   529450    182050  -0.135522  51.522540\n",
      "1   539650    183750   0.012079  51.535388\n",
      "3   516650    180250  -0.320524  51.509148\n",
      "4   524250    174950  -0.212930  51.459898\n",
      "5   537350    181850  -0.021801  51.518878\n"
     ]
    }
   ],
   "source": [
    "\n",
    "#Transformer for conversion from OSGB36 (EPSG:27700) to WGS84 (EPSG:4326)\n",
    "transformer = pyproj.Transformer.from_crs(\"EPSG:27700\", \"EPSG:4326\", always_xy=True)\n",
    "\n",
    "# Transform easting and northing values to longitude and latitude\n",
    "# always_xy=True transform function follows the order,  X = easting and  Y = northing\n",
    "df['longitude'], df['latitude'] = transformer.transform(df['easting'].values,\n",
    "                                                        df['northing'].values)\n",
    "\n",
    "print(df[['easting', 'northing', 'longitude', 'latitude']].head())\n"
   ]
  },
  {
   "cell_type": "markdown",
   "metadata": {},
   "source": [
    "option 2:"
   ]
  },
  {
   "cell_type": "code",
   "execution_count": 78,
   "metadata": {},
   "outputs": [
    {
     "name": "stdout",
     "output_type": "stream",
     "text": [
      "       easting  northing  longitude   latitude\n",
      "0       529450    182050  -0.135522  51.522540\n",
      "1       539650    183750   0.012079  51.535388\n",
      "3       516650    180250  -0.320524  51.509148\n",
      "4       524250    174950  -0.212930  51.459898\n",
      "5       537350    181850  -0.021801  51.518878\n",
      "...        ...       ...        ...        ...\n",
      "32242   537850    170050  -0.019197  51.412720\n",
      "32243   532850    165450  -0.092770  51.372574\n",
      "32244   526250    183950  -0.180940  51.540338\n",
      "32245   535050    177450  -0.056613  51.479893\n",
      "32246   528250    195850  -0.147772  51.646829\n",
      "\n",
      "[30428 rows x 4 columns]\n"
     ]
    }
   ],
   "source": [
    "#using point object from shapely library\n",
    "df['geometry'] = df.apply(lambda row: Point(row['easting'], row['northing']), axis=1)\n",
    "\n",
    "#convert dataframe to a geodataframe\n",
    "gdf = gpd.GeoDataFrame(df, geometry='geometry', crs=\"EPSG:27700\")\n",
    "\n",
    "#transformation to wgs84\n",
    "gdf_wgs84 = gdf.to_crs(epsg=4326)\n",
    "\n",
    "#extraction of longitude and latitude\n",
    "gdf_wgs84['longitude'] = gdf_wgs84.geometry.x\n",
    "gdf_wgs84['latitude'] = gdf_wgs84.geometry.y\n",
    "\n",
    "print(gdf_wgs84[['easting', 'northing', 'longitude', 'latitude']])"
   ]
  },
  {
   "cell_type": "code",
   "execution_count": 79,
   "metadata": {},
   "outputs": [
    {
     "ename": "SyntaxError",
     "evalue": "invalid syntax (3257658625.py, line 1)",
     "output_type": "error",
     "traceback": [
      "\u001b[0;36m  Cell \u001b[0;32mIn[79], line 1\u001b[0;36m\u001b[0m\n\u001b[0;31m    2. Encoding\u001b[0m\n\u001b[0m       ^\u001b[0m\n\u001b[0;31mSyntaxError\u001b[0m\u001b[0;31m:\u001b[0m invalid syntax\n"
     ]
    }
   ],
   "source": [
    "2. Encoding"
   ]
  }
 ],
 "metadata": {
  "kernelspec": {
   "display_name": "base",
   "language": "python",
   "name": "python3"
  },
  "language_info": {
   "codemirror_mode": {
    "name": "ipython",
    "version": 3
   },
   "file_extension": ".py",
   "mimetype": "text/x-python",
   "name": "python",
   "nbconvert_exporter": "python",
   "pygments_lexer": "ipython3",
   "version": "3.12.7"
  }
 },
 "nbformat": 4,
 "nbformat_minor": 2
}
