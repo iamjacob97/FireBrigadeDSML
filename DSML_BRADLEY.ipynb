{
 "cells": [
  {
   "cell_type": "markdown",
   "metadata": {},
   "source": [
    "Basic Imports"
   ]
  },
  {
   "cell_type": "code",
   "execution_count": 1,
   "metadata": {},
   "outputs": [],
   "source": [
    "import numpy as np\n",
    "import pandas as pd\n",
    "import matplotlib.pyplot as plt\n",
    "%matplotlib inline"
   ]
  },
  {
   "cell_type": "markdown",
   "metadata": {},
   "source": [
    "Descriptive Statistics"
   ]
  },
  {
   "cell_type": "code",
   "execution_count": 2,
   "metadata": {},
   "outputs": [
    {
     "name": "stdout",
     "output_type": "stream",
     "text": [
      "           address_qualifier borough_code    borough_name  cal_year  \\\n",
      "0       Within same building    E09000007          CAMDEN      2017   \n",
      "1       Within same building    E09000025          NEWHAM      2017   \n",
      "2  Correct incident location    E09000031  WALTHAM FOREST      2017   \n",
      "3       Within same building    E09000009          EALING      2017   \n",
      "4  Correct incident location    E09000032      WANDSWORTH      2017   \n",
      "\n",
      "  date_of_call  easting_m  easting_rounded  \\\n",
      "0   2017-01-20   529459.0           529450   \n",
      "1   2017-04-21        NaN           539650   \n",
      "2   2017-01-20   536990.0           536950   \n",
      "3   2017-03-07   516686.0           516650   \n",
      "4   2017-02-04   524266.0           524250   \n",
      "\n",
      "   first_pump_arriving_attendance_time  \\\n",
      "0                                359.0   \n",
      "1                                211.0   \n",
      "2                                  NaN   \n",
      "3                                295.0   \n",
      "4                                533.0   \n",
      "\n",
      "  first_pump_arriving_deployed_from_station     frs  ...  \\\n",
      "0                                    Euston  London  ...   \n",
      "1                                 Stratford  London  ...   \n",
      "2                                       NaN  London  ...   \n",
      "3                                    Ealing  London  ...   \n",
      "4                                 Battersea  London  ...   \n",
      "\n",
      "                                       property_type  \\\n",
      "0                               Purpose built office   \n",
      "1  Purpose Built Flats/Maisonettes - Up to 3 storeys   \n",
      "2                            Local Government Office   \n",
      "3                               Underground car park   \n",
      "4                                   Pub/wine bar/bar   \n",
      "\n",
      "  second_pump_arriving_attendance_time  \\\n",
      "0                                  NaN   \n",
      "1                                  NaN   \n",
      "2                                  NaN   \n",
      "3                                660.0   \n",
      "4                                  NaN   \n",
      "\n",
      "  second_pump_arriving_deployed_from_station             special_service_type  \\\n",
      "0                                        NaN                              NaN   \n",
      "1                                        NaN      No action (not false alarm)   \n",
      "2                                        NaN                     Lift Release   \n",
      "3                                   Southall     Hazardous Materials incident   \n",
      "4                                        NaN  Medical Incident - Co-responder   \n",
      "\n",
      "   stop_code_description  time_of_call    timestamp_of_call  ward_code  \\\n",
      "0                    AFA      08:57:38  2017-01-20 08:57:38  E05000129   \n",
      "1        Special Service      17:42:29  2017-04-21 17:42:29  E05000494   \n",
      "2        Special Service      18:21:32  2017-01-20 18:21:32  E05000608   \n",
      "3        Special Service      11:27:50  2017-03-07 11:27:50  E05000192   \n",
      "4        Special Service      17:31:10  2017-02-04 17:31:10  E05000625   \n",
      "\n",
      "        ward_name   ward_name_new  \n",
      "0      BLOOMSBURY      BLOOMSBURY  \n",
      "1        WEST HAM        WEST HAM  \n",
      "2  WILLIAM MORRIS  WILLIAM MORRIS  \n",
      "3         WALPOLE         WALPOLE  \n",
      "4     THAMESFIELD     THAMESFIELD  \n",
      "\n",
      "[5 rows x 32 columns]\n"
     ]
    }
   ],
   "source": [
    "lfb = pd.read_csv(\"london_fire_brigade_service_calls.csv\")\n",
    "print(lfb.head())"
   ]
  },
  {
   "cell_type": "code",
   "execution_count": 3,
   "metadata": {},
   "outputs": [
    {
     "name": "stdout",
     "output_type": "stream",
     "text": [
      "Dataset Info:\n",
      "<class 'pandas.core.frame.DataFrame'>\n",
      "RangeIndex: 32247 entries, 0 to 32246\n",
      "Data columns (total 32 columns):\n",
      " #   Column                                      Non-Null Count  Dtype  \n",
      "---  ------                                      --------------  -----  \n",
      " 0   address_qualifier                           32247 non-null  object \n",
      " 1   borough_code                                32247 non-null  object \n",
      " 2   borough_name                                32247 non-null  object \n",
      " 3   cal_year                                    32247 non-null  int64  \n",
      " 4   date_of_call                                32247 non-null  object \n",
      " 5   easting_m                                   16836 non-null  float64\n",
      " 6   easting_rounded                             32247 non-null  int64  \n",
      " 7   first_pump_arriving_attendance_time         30428 non-null  float64\n",
      " 8   first_pump_arriving_deployed_from_station   30428 non-null  object \n",
      " 9   frs                                         32247 non-null  object \n",
      " 10  hour_of_call                                32247 non-null  int64  \n",
      " 11  incident_group                              32247 non-null  object \n",
      " 12  incident_number                             32247 non-null  object \n",
      " 13  incident_station_ground                     32247 non-null  object \n",
      " 14  northing_m                                  16836 non-null  float64\n",
      " 15  northing_rounded                            32247 non-null  int64  \n",
      " 16  num_pumps_attending                         32179 non-null  float64\n",
      " 17  num_stations_with_pumps_attending           32179 non-null  float64\n",
      " 18  postcode_district                           32247 non-null  object \n",
      " 19  postcode_full                               16836 non-null  object \n",
      " 20  proper_case                                 32247 non-null  object \n",
      " 21  property_category                           32247 non-null  object \n",
      " 22  property_type                               32247 non-null  object \n",
      " 23  second_pump_arriving_attendance_time        11966 non-null  float64\n",
      " 24  second_pump_arriving_deployed_from_station  11966 non-null  object \n",
      " 25  special_service_type                        10081 non-null  object \n",
      " 26  stop_code_description                       32247 non-null  object \n",
      " 27  time_of_call                                32247 non-null  object \n",
      " 28  timestamp_of_call                           32247 non-null  object \n",
      " 29  ward_code                                   32247 non-null  object \n",
      " 30  ward_name                                   32247 non-null  object \n",
      " 31  ward_name_new                               32247 non-null  object \n",
      "dtypes: float64(6), int64(4), object(22)\n",
      "memory usage: 7.9+ MB\n",
      "None\n"
     ]
    }
   ],
   "source": [
    "print(\"Dataset Info:\")\n",
    "print(lfb.info())"
   ]
  },
  {
   "cell_type": "code",
   "execution_count": 4,
   "metadata": {},
   "outputs": [
    {
     "name": "stdout",
     "output_type": "stream",
     "text": [
      "       cal_year      easting_m  easting_rounded  \\\n",
      "count   32247.0   16836.000000     32247.000000   \n",
      "mean     2017.0  530667.828582    530641.174373   \n",
      "std         0.0   10436.093085      9855.434367   \n",
      "min      2017.0  493654.000000    492450.000000   \n",
      "25%      2017.0  525061.000000    525150.000000   \n",
      "50%      2017.0  530716.000000    530850.000000   \n",
      "75%      2017.0  536994.500000    536450.000000   \n",
      "max      2017.0  560804.000000    563150.000000   \n",
      "\n",
      "       first_pump_arriving_attendance_time  hour_of_call     northing_m  \\\n",
      "count                         30428.000000  32247.000000   16836.000000   \n",
      "mean                            318.230380     13.465222  180366.958363   \n",
      "std                             136.384571      6.152739    7534.304839   \n",
      "min                               2.000000      0.000000  152868.000000   \n",
      "25%                             232.000000      9.000000  175863.000000   \n",
      "50%                             298.000000     14.000000  180962.000000   \n",
      "75%                             379.000000     18.000000  185018.250000   \n",
      "max                            1196.000000     23.000000  204891.000000   \n",
      "\n",
      "       northing_rounded  num_pumps_attending  \\\n",
      "count      32247.000000         32179.000000   \n",
      "mean      180429.501969             1.536375   \n",
      "std         7446.092421             0.741248   \n",
      "min       152850.000000             1.000000   \n",
      "25%       175950.000000             1.000000   \n",
      "50%       180950.000000             1.000000   \n",
      "75%       185150.000000             2.000000   \n",
      "max       224250.000000             7.000000   \n",
      "\n",
      "       num_stations_with_pumps_attending  second_pump_arriving_attendance_time  \n",
      "count                       32179.000000                          11966.000000  \n",
      "mean                            1.356537                            399.082233  \n",
      "std                             0.611400                            153.426914  \n",
      "min                             1.000000                              4.000000  \n",
      "25%                             1.000000                            299.000000  \n",
      "50%                             1.000000                            372.000000  \n",
      "75%                             2.000000                            464.000000  \n",
      "max                             6.000000                           1195.000000  \n"
     ]
    }
   ],
   "source": [
    "print(lfb.describe())"
   ]
  },
  {
   "cell_type": "code",
   "execution_count": 5,
   "metadata": {},
   "outputs": [
    {
     "name": "stdout",
     "output_type": "stream",
     "text": [
      "Missing Values:\n",
      "address_qualifier                                 0\n",
      "borough_code                                      0\n",
      "borough_name                                      0\n",
      "cal_year                                          0\n",
      "date_of_call                                      0\n",
      "easting_m                                     15411\n",
      "easting_rounded                                   0\n",
      "first_pump_arriving_attendance_time            1819\n",
      "first_pump_arriving_deployed_from_station      1819\n",
      "frs                                               0\n",
      "hour_of_call                                      0\n",
      "incident_group                                    0\n",
      "incident_number                                   0\n",
      "incident_station_ground                           0\n",
      "northing_m                                    15411\n",
      "northing_rounded                                  0\n",
      "num_pumps_attending                              68\n",
      "num_stations_with_pumps_attending                68\n",
      "postcode_district                                 0\n",
      "postcode_full                                 15411\n",
      "proper_case                                       0\n",
      "property_category                                 0\n",
      "property_type                                     0\n",
      "second_pump_arriving_attendance_time          20281\n",
      "second_pump_arriving_deployed_from_station    20281\n",
      "special_service_type                          22166\n",
      "stop_code_description                             0\n",
      "time_of_call                                      0\n",
      "timestamp_of_call                                 0\n",
      "ward_code                                         0\n",
      "ward_name                                         0\n",
      "ward_name_new                                     0\n",
      "dtype: int64\n"
     ]
    }
   ],
   "source": [
    "print(\"Missing Values:\")\n",
    "print(lfb.isnull().sum())"
   ]
  },
  {
   "cell_type": "code",
   "execution_count": 6,
   "metadata": {},
   "outputs": [
    {
     "data": {
      "application/vnd.microsoft.datawrangler.viewer.v0+json": {
       "columns": [
        {
         "name": "index",
         "rawType": "object",
         "type": "string"
        },
        {
         "name": "address_qualifier",
         "rawType": "object",
         "type": "unknown"
        },
        {
         "name": "borough_code",
         "rawType": "object",
         "type": "unknown"
        },
        {
         "name": "borough_name",
         "rawType": "object",
         "type": "unknown"
        },
        {
         "name": "date_of_call",
         "rawType": "object",
         "type": "unknown"
        },
        {
         "name": "first_pump_arriving_deployed_from_station",
         "rawType": "object",
         "type": "unknown"
        },
        {
         "name": "frs",
         "rawType": "object",
         "type": "unknown"
        },
        {
         "name": "incident_group",
         "rawType": "object",
         "type": "unknown"
        },
        {
         "name": "incident_number",
         "rawType": "object",
         "type": "unknown"
        },
        {
         "name": "incident_station_ground",
         "rawType": "object",
         "type": "unknown"
        },
        {
         "name": "postcode_district",
         "rawType": "object",
         "type": "unknown"
        },
        {
         "name": "postcode_full",
         "rawType": "object",
         "type": "unknown"
        },
        {
         "name": "proper_case",
         "rawType": "object",
         "type": "unknown"
        },
        {
         "name": "property_category",
         "rawType": "object",
         "type": "unknown"
        },
        {
         "name": "property_type",
         "rawType": "object",
         "type": "unknown"
        },
        {
         "name": "second_pump_arriving_deployed_from_station",
         "rawType": "object",
         "type": "unknown"
        },
        {
         "name": "special_service_type",
         "rawType": "object",
         "type": "unknown"
        },
        {
         "name": "stop_code_description",
         "rawType": "object",
         "type": "unknown"
        },
        {
         "name": "time_of_call",
         "rawType": "object",
         "type": "unknown"
        },
        {
         "name": "timestamp_of_call",
         "rawType": "object",
         "type": "unknown"
        },
        {
         "name": "ward_code",
         "rawType": "object",
         "type": "unknown"
        },
        {
         "name": "ward_name",
         "rawType": "object",
         "type": "unknown"
        },
        {
         "name": "ward_name_new",
         "rawType": "object",
         "type": "unknown"
        }
       ],
       "conversionMethod": "pd.DataFrame",
       "ref": "6a98bc69-b867-4d6b-8697-eb8614610588",
       "rows": [
        [
         "count",
         "32247",
         "32247",
         "32247",
         "32247",
         "30428",
         "32247",
         "32247",
         "32247",
         "32247",
         "32247",
         "16836",
         "32247",
         "32247",
         "32247",
         "11966",
         "10081",
         "32247",
         "32247",
         "32247",
         "32247",
         "32247",
         "32247"
        ],
        [
         "unique",
         "11",
         "34",
         "34",
         "120",
         "103",
         "2",
         "3",
         "32247",
         "103",
         "318",
         "11854",
         "34",
         "9",
         "260",
         "102",
         "21",
         "9",
         "26274",
         "32236",
         "655",
         "631",
         "631"
        ],
        [
         "top",
         "Correct incident location",
         "E09000033",
         "WESTMINSTER",
         "2017-02-23",
         "Soho",
         "London",
         "False Alarm",
         "046868-16042017",
         "Soho",
         "CR0",
         "NW3 2PF",
         "Westminster",
         "Dwelling",
         "Purpose Built Flats/Maisonettes - 4 to 9 storeys",
         "Soho",
         "Flooding",
         "AFA",
         "18:03:40",
         "2017-04-21 23:34:55",
         "E05000649",
         "WEST END",
         "WEST END"
        ],
        [
         "freq",
         "19267",
         "2469",
         "2469",
         "525",
         "1205",
         "32078",
         "15732",
         "1",
         "1247",
         "612",
         "36",
         "2469",
         "15240",
         "3823",
         "375",
         "2061",
         "11811",
         "6",
         "2",
         "623",
         "623",
         "623"
        ]
       ],
       "shape": {
        "columns": 22,
        "rows": 4
       }
      },
      "text/html": [
       "<div>\n",
       "<style scoped>\n",
       "    .dataframe tbody tr th:only-of-type {\n",
       "        vertical-align: middle;\n",
       "    }\n",
       "\n",
       "    .dataframe tbody tr th {\n",
       "        vertical-align: top;\n",
       "    }\n",
       "\n",
       "    .dataframe thead th {\n",
       "        text-align: right;\n",
       "    }\n",
       "</style>\n",
       "<table border=\"1\" class=\"dataframe\">\n",
       "  <thead>\n",
       "    <tr style=\"text-align: right;\">\n",
       "      <th></th>\n",
       "      <th>address_qualifier</th>\n",
       "      <th>borough_code</th>\n",
       "      <th>borough_name</th>\n",
       "      <th>date_of_call</th>\n",
       "      <th>first_pump_arriving_deployed_from_station</th>\n",
       "      <th>frs</th>\n",
       "      <th>incident_group</th>\n",
       "      <th>incident_number</th>\n",
       "      <th>incident_station_ground</th>\n",
       "      <th>postcode_district</th>\n",
       "      <th>...</th>\n",
       "      <th>property_category</th>\n",
       "      <th>property_type</th>\n",
       "      <th>second_pump_arriving_deployed_from_station</th>\n",
       "      <th>special_service_type</th>\n",
       "      <th>stop_code_description</th>\n",
       "      <th>time_of_call</th>\n",
       "      <th>timestamp_of_call</th>\n",
       "      <th>ward_code</th>\n",
       "      <th>ward_name</th>\n",
       "      <th>ward_name_new</th>\n",
       "    </tr>\n",
       "  </thead>\n",
       "  <tbody>\n",
       "    <tr>\n",
       "      <th>count</th>\n",
       "      <td>32247</td>\n",
       "      <td>32247</td>\n",
       "      <td>32247</td>\n",
       "      <td>32247</td>\n",
       "      <td>30428</td>\n",
       "      <td>32247</td>\n",
       "      <td>32247</td>\n",
       "      <td>32247</td>\n",
       "      <td>32247</td>\n",
       "      <td>32247</td>\n",
       "      <td>...</td>\n",
       "      <td>32247</td>\n",
       "      <td>32247</td>\n",
       "      <td>11966</td>\n",
       "      <td>10081</td>\n",
       "      <td>32247</td>\n",
       "      <td>32247</td>\n",
       "      <td>32247</td>\n",
       "      <td>32247</td>\n",
       "      <td>32247</td>\n",
       "      <td>32247</td>\n",
       "    </tr>\n",
       "    <tr>\n",
       "      <th>unique</th>\n",
       "      <td>11</td>\n",
       "      <td>34</td>\n",
       "      <td>34</td>\n",
       "      <td>120</td>\n",
       "      <td>103</td>\n",
       "      <td>2</td>\n",
       "      <td>3</td>\n",
       "      <td>32247</td>\n",
       "      <td>103</td>\n",
       "      <td>318</td>\n",
       "      <td>...</td>\n",
       "      <td>9</td>\n",
       "      <td>260</td>\n",
       "      <td>102</td>\n",
       "      <td>21</td>\n",
       "      <td>9</td>\n",
       "      <td>26274</td>\n",
       "      <td>32236</td>\n",
       "      <td>655</td>\n",
       "      <td>631</td>\n",
       "      <td>631</td>\n",
       "    </tr>\n",
       "    <tr>\n",
       "      <th>top</th>\n",
       "      <td>Correct incident location</td>\n",
       "      <td>E09000033</td>\n",
       "      <td>WESTMINSTER</td>\n",
       "      <td>2017-02-23</td>\n",
       "      <td>Soho</td>\n",
       "      <td>London</td>\n",
       "      <td>False Alarm</td>\n",
       "      <td>046868-16042017</td>\n",
       "      <td>Soho</td>\n",
       "      <td>CR0</td>\n",
       "      <td>...</td>\n",
       "      <td>Dwelling</td>\n",
       "      <td>Purpose Built Flats/Maisonettes - 4 to 9 storeys</td>\n",
       "      <td>Soho</td>\n",
       "      <td>Flooding</td>\n",
       "      <td>AFA</td>\n",
       "      <td>18:03:40</td>\n",
       "      <td>2017-04-21 23:34:55</td>\n",
       "      <td>E05000649</td>\n",
       "      <td>WEST END</td>\n",
       "      <td>WEST END</td>\n",
       "    </tr>\n",
       "    <tr>\n",
       "      <th>freq</th>\n",
       "      <td>19267</td>\n",
       "      <td>2469</td>\n",
       "      <td>2469</td>\n",
       "      <td>525</td>\n",
       "      <td>1205</td>\n",
       "      <td>32078</td>\n",
       "      <td>15732</td>\n",
       "      <td>1</td>\n",
       "      <td>1247</td>\n",
       "      <td>612</td>\n",
       "      <td>...</td>\n",
       "      <td>15240</td>\n",
       "      <td>3823</td>\n",
       "      <td>375</td>\n",
       "      <td>2061</td>\n",
       "      <td>11811</td>\n",
       "      <td>6</td>\n",
       "      <td>2</td>\n",
       "      <td>623</td>\n",
       "      <td>623</td>\n",
       "      <td>623</td>\n",
       "    </tr>\n",
       "  </tbody>\n",
       "</table>\n",
       "<p>4 rows × 22 columns</p>\n",
       "</div>"
      ],
      "text/plain": [
       "                address_qualifier borough_code borough_name date_of_call  \\\n",
       "count                       32247        32247        32247        32247   \n",
       "unique                         11           34           34          120   \n",
       "top     Correct incident location    E09000033  WESTMINSTER   2017-02-23   \n",
       "freq                        19267         2469         2469          525   \n",
       "\n",
       "       first_pump_arriving_deployed_from_station     frs incident_group  \\\n",
       "count                                      30428   32247          32247   \n",
       "unique                                       103       2              3   \n",
       "top                                         Soho  London    False Alarm   \n",
       "freq                                        1205   32078          15732   \n",
       "\n",
       "        incident_number incident_station_ground postcode_district  ...  \\\n",
       "count             32247                   32247             32247  ...   \n",
       "unique            32247                     103               318  ...   \n",
       "top     046868-16042017                    Soho               CR0  ...   \n",
       "freq                  1                    1247               612  ...   \n",
       "\n",
       "       property_category                                     property_type  \\\n",
       "count              32247                                             32247   \n",
       "unique                 9                                               260   \n",
       "top             Dwelling  Purpose Built Flats/Maisonettes - 4 to 9 storeys   \n",
       "freq               15240                                              3823   \n",
       "\n",
       "       second_pump_arriving_deployed_from_station special_service_type  \\\n",
       "count                                       11966                10081   \n",
       "unique                                        102                   21   \n",
       "top                                          Soho             Flooding   \n",
       "freq                                          375                 2061   \n",
       "\n",
       "       stop_code_description time_of_call    timestamp_of_call  ward_code  \\\n",
       "count                  32247        32247                32247      32247   \n",
       "unique                     9        26274                32236        655   \n",
       "top                      AFA     18:03:40  2017-04-21 23:34:55  E05000649   \n",
       "freq                   11811            6                    2        623   \n",
       "\n",
       "       ward_name ward_name_new  \n",
       "count      32247         32247  \n",
       "unique       631           631  \n",
       "top     WEST END      WEST END  \n",
       "freq         623           623  \n",
       "\n",
       "[4 rows x 22 columns]"
      ]
     },
     "execution_count": 6,
     "metadata": {},
     "output_type": "execute_result"
    }
   ],
   "source": [
    "lfb.describe(include=['object', 'category'])"
   ]
  },
  {
   "cell_type": "markdown",
   "metadata": {},
   "source": [
    "From the above data we can already see that the ward_name and ward_name_new columns look extremely similar. Let's check"
   ]
  },
  {
   "cell_type": "code",
   "execution_count": 7,
   "metadata": {},
   "outputs": [
    {
     "data": {
      "text/plain": [
       "np.True_"
      ]
     },
     "execution_count": 7,
     "metadata": {},
     "output_type": "execute_result"
    }
   ],
   "source": [
    "(lfb[\"ward_name\"] == lfb[\"ward_name_new\"]).all()"
   ]
  },
  {
   "cell_type": "markdown",
   "metadata": {},
   "source": [
    "Since it's the same, we can delete one. We can also see that cal_year has a five number summary of 2017 and a std of 0, which means that it only has the value 2017 in it. This column does not provide any valuable insights for our model, there is no information gain, so we can safely delete it."
   ]
  },
  {
   "cell_type": "markdown",
   "metadata": {},
   "source": [
    "According to [https://www.llanellich.org.uk/] The UK Ordnance Survey grid is a grid of 100 kilometre squares with a true origin at 49° North and 2° West.  \n",
    "\n",
    "Eastings: How far east (right) a point is from the origin (measured in meters) - easting_m  \n",
    "Northings: How far north (up) a point is from the origin (measured in meters) - northing_m  \n",
    "\n",
    " Since we have two columns with no missing values rounded to 50 meters, namely easting_rounded and northing rounded, we can use these columns for our analysis and modelling instead of the original columns. The problem we are exploring does not explore effects of precise distances, like in the case of routing. Deleting these two columns as well."
   ]
  },
  {
   "cell_type": "code",
   "execution_count": 8,
   "metadata": {},
   "outputs": [],
   "source": [
    "lfb.drop(columns=[\"ward_name_new\", \"cal_year\", \"easting_m\", \"northing_m\"], inplace=True)"
   ]
  },
  {
   "cell_type": "markdown",
   "metadata": {},
   "source": [
    "borough_code, borough_name and proper_case are all indicators of the borough of each request. This creates redundancy, so it is better to just have one. Let's see if both the borough_name and proper_case are identical first."
   ]
  },
  {
   "cell_type": "code",
   "execution_count": 9,
   "metadata": {},
   "outputs": [
    {
     "data": {
      "text/plain": [
       "np.True_"
      ]
     },
     "execution_count": 9,
     "metadata": {},
     "output_type": "execute_result"
    }
   ],
   "source": [
    "(lfb['borough_name'].str.lower().eq(lfb['proper_case'].str.lower())).all()\n"
   ]
  },
  {
   "cell_type": "markdown",
   "metadata": {},
   "source": [
    "I will drop both borough_code and borough_name and rename proper_case to borough_name because it looks cleaner. I am also removing incident number since it has no predictive power."
   ]
  },
  {
   "cell_type": "code",
   "execution_count": 10,
   "metadata": {},
   "outputs": [],
   "source": [
    "lfb.drop(columns=[\"borough_code\", \"borough_name\", \"incident_number\"], inplace=True)\n",
    "lfb.rename(columns={\"proper_case\": \"borough_name\"}, inplace=True)"
   ]
  },
  {
   "cell_type": "markdown",
   "metadata": {},
   "source": [
    "By looking at a few records in incident_group and stop_code_description, we can see a lot of similar categorical variables, so it is possible that incident_group is a higher level abstraction of stop_code_description. This causes feature redundancy and it is better to just keep the more granular one(stop_code_description). To confirm the relationship we can check if stop_code_description fits within incident_group."
   ]
  },
  {
   "cell_type": "code",
   "execution_count": 12,
   "metadata": {},
   "outputs": [
    {
     "data": {
      "text/plain": [
       "stop_code_description\n",
       "AFA                                      1\n",
       "Chimney Fire                             1\n",
       "False alarm - Good intent                1\n",
       "False alarm - Malicious                  1\n",
       "Flood call attended - Batch mobilised    1\n",
       "Late Call                                1\n",
       "Primary Fire                             1\n",
       "Secondary Fire                           1\n",
       "Special Service                          1\n",
       "Name: incident_group, dtype: int64"
      ]
     },
     "execution_count": 12,
     "metadata": {},
     "output_type": "execute_result"
    }
   ],
   "source": [
    "lfb.groupby(\"stop_code_description\")[\"incident_group\"].nunique()"
   ]
  },
  {
   "cell_type": "markdown",
   "metadata": {},
   "source": [
    "Since there is exactly one incident group that corresponds to each stop code, we can confirm the relationship and safely remove incident group. For future reference, we need to be careful with stop_code_description since it depends on the outcome, not on information known at the time of dispatch. The value is updated only after the incident is handled, which makes our model susceptible to target leakage."
   ]
  },
  {
   "cell_type": "code",
   "execution_count": 13,
   "metadata": {},
   "outputs": [],
   "source": [
    "lfb.drop(columns=[\"incident_group\"], inplace=True)"
   ]
  },
  {
   "cell_type": "code",
   "execution_count": null,
   "metadata": {},
   "outputs": [],
   "source": [
    "import geopandas as gpd\n",
    "import pandas as pd\n",
    "import numpy as np\n",
    "import seaborn as sns\n",
    "from tabulate import tabulate"
   ]
  },
  {
   "cell_type": "markdown",
   "metadata": {},
   "source": [
    "Bradley- \n",
    "It seems as though easting_m, first_pump_arriving_attendance_time, first_pump_arriving_deployed_from_station, northing_m, num_pumps_attending, num_stations_with_pumps_attending, postcode_full"
   ]
  },
  {
   "cell_type": "code",
   "execution_count": null,
   "metadata": {},
   "outputs": [],
   "source": [
    "#Bradley- \n",
    "#checking for missing values within each column in my dataset\n",
    "# percentage of missing values in each column\n",
    "missing_values = df.isnull().mean() * 100\n",
    "print(\"\\nPercentage of missing values in each column:\")\n",
    "display(missing_values[missing_values > 0])"
   ]
  },
  {
   "cell_type": "markdown",
   "metadata": {},
   "source": [
    "Bradley- \n",
    "The missing values for second pump data are not random - they represent situations where only one pump was needed. This is valuable information about incident severity"
   ]
  },
  {
   "cell_type": "markdown",
   "metadata": {},
   "source": [
    "Bradley- \n",
    "The missingness itself is informative for the second pump columns - it tells us that the incident only required one pump, which indicates lower severity. By creating a feature that captures this information, you preserve the relationship between incident severity and response requirements."
   ]
  },
  {
   "cell_type": "markdown",
   "metadata": {},
   "source": [
    "Bradley- \n",
    "# I Created a binary feature showing whether a second pump was deployed\n",
    "df['second_pump_deployed'] = df['second_pump_arriving_attendance_time'].notna().astype(int)"
   ]
  },
  {
   "cell_type": "markdown",
   "metadata": {},
   "source": [
    " Bradley- \n",
    " NaN's were left and not removed, reason for this is: To keep the missing values as is and use methods that can handle NaN values. This is the most accurate representation since there genuinely was no \"time between pumps\" for single-pump incidents."
   ]
  },
  {
   "cell_type": "code",
   "execution_count": null,
   "metadata": {},
   "outputs": [],
   "source": [
    "#Bradley- \n",
    "# I created another feature showing the time between the first and second pump arriving at the scene in seconds\n",
    "df['time_between_pumps'] = df['second_pump_arriving_attendance_time'] - df['first_pump_arriving_attendance_time']"
   ]
  },
  {
   "cell_type": "markdown",
   "metadata": {},
   "source": [
    "#Bradley- \n",
    "Missing values for second_pump_arriving_deployed_from_station, if the values were missing this was because there was no second pump, I done this in order to preserve missingness information for second pump arrival."
   ]
  },
  {
   "cell_type": "code",
   "execution_count": null,
   "metadata": {},
   "outputs": [],
   "source": [
    "#Bradley- \n",
    "# Created a categorical feature that preserves the \"missingness\" information for second pump arriving\n",
    "df['second_pump_arriving_deployed_from_station'] = df['second_pump_arriving_deployed_from_station'].fillna('No_Station')"
   ]
  },
  {
   "cell_type": "code",
   "execution_count": null,
   "metadata": {},
   "outputs": [],
   "source": [
    "#Bradley- \n",
    "print(tabulate(df, headers='keys', tablefmt='psql')) "
   ]
  },
  {
   "cell_type": "code",
   "execution_count": null,
   "metadata": {},
   "outputs": [],
   "source": [
    "#Bradley- \n",
    "# Dropped the columns with missing values and use the rounded versions\n",
    "df.drop(['easting_m', 'northing_m'], axis=1, inplace=True)"
   ]
  },
  {
   "cell_type": "code",
   "execution_count": null,
   "metadata": {},
   "outputs": [],
   "source": [
    "#Bradley- \n",
    "# Renamed the rounded columns to make it clear they're the primary coordinates\n",
    "df.rename(columns={\n",
    "    'easting_rounded': 'easting_m',\n",
    "    'northing_rounded': 'northing_m'\n",
    "}, inplace=True)"
   ]
  },
  {
   "cell_type": "markdown",
   "metadata": {},
   "source": [
    "Bradley- \n",
    "The rows containing 'Nan' values for first_pump_arriving_attendence_time were removed this is because we coudn't make sense of why the values were missing, and also the num_pumps_attending column still containted values, however no pumps were deployed so we couldnt figure out why this was case\n",
    "\n",
    " how can pumps be counted as attending if there's no record of their arrival time?\n",
    "\n",
    "There are several possible explanations for this inconsistency:\n",
    "- Data recording errors.\n",
    "- Incidents where pumps were dispatched but then recalled before arriving.\n",
    "- Special administrative cases where pumps were \"assigned\" but didn't physically respond.\n",
    "- Incidents that were handed off to other agencies."
   ]
  },
  {
   "cell_type": "code",
   "execution_count": null,
   "metadata": {},
   "outputs": [],
   "source": [
    "#Bradley- \n",
    "missing_first_pump = df[df['first_pump_arriving_attendance_time'].isnull()]\n",
    "\n",
    "print(tabulate(missing_first_pump, headers='keys', tablefmt='psql')) "
   ]
  },
  {
   "cell_type": "code",
   "execution_count": null,
   "metadata": {},
   "outputs": [],
   "source": [
    "Bradley- \n",
    "missing_first_pump_percentage = (len(missing_first_pump) / len(df)) * 100\n",
    "print(f\"Percentage of missing values in 'first_pump_arriving_attendance_time': {missing_first_pump_percentage:.2f}%\")\n",
    "\n",
    "\n",
    "#  removing the rows with missing values in the first pump arriving attendance time column\n",
    "df.dropna(subset=['first_pump_arriving_attendance_time'], inplace=True)\n",
    "\n",
    "# displaying number of rows of the dataset\n",
    "print(f\"Number of rows after dropping missing values: {len(df)}\")"
   ]
  },
  {
   "cell_type": "markdown",
   "metadata": {},
   "source": [
    " "
   ]
  },
  {
   "cell_type": "code",
   "execution_count": null,
   "metadata": {},
   "outputs": [],
   "source": []
  },
  {
   "cell_type": "code",
   "execution_count": null,
   "metadata": {},
   "outputs": [],
   "source": []
  },
  {
   "cell_type": "code",
   "execution_count": null,
   "metadata": {},
   "outputs": [],
   "source": []
  },
  {
   "cell_type": "code",
   "execution_count": null,
   "metadata": {},
   "outputs": [],
   "source": []
  }
 ],
 "metadata": {
  "kernelspec": {
   "display_name": "Python 3",
   "language": "python",
   "name": "python3"
  },
  "language_info": {
   "codemirror_mode": {
    "name": "ipython",
    "version": 3
   },
   "file_extension": ".py",
   "mimetype": "text/x-python",
   "name": "python",
   "nbconvert_exporter": "python",
   "pygments_lexer": "ipython3",
   "version": "3.13.2"
  }
 },
 "nbformat": 4,
 "nbformat_minor": 2
}
